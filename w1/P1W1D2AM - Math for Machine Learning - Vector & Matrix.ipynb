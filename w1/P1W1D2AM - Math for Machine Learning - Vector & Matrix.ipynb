{
  "nbformat": 4,
  "nbformat_minor": 0,
  "metadata": {
    "colab": {
      "provenance": [],
      "toc_visible": true,
      "collapsed_sections": [
        "j9JCNtzpScTD",
        "YZOY3RfPWMEY",
        "OlX5O5F_TWFy",
        "TXu3Hz0AbL4z",
        "ruOIyBW7c36B",
        "VIw0cTh0d48O",
        "NMNgZ0l_eEsW",
        "3VyNkEmfh29i",
        "Sysp251AkDF4",
        "-CPLMcxxoR2i"
      ]
    },
    "kernelspec": {
      "name": "python3",
      "display_name": "Python 3"
    },
    "language_info": {
      "name": "python"
    }
  },
  "cells": [
    {
      "cell_type": "markdown",
      "source": [
        "# Phase 1 - Week 1 - Day 2 AM - Math for Machine Learning - Vector & Matrix"
      ],
      "metadata": {
        "id": "Fvzr9SELYTB2"
      }
    },
    {
      "cell_type": "markdown",
      "source": [
        "# A. Vector"
      ],
      "metadata": {
        "id": "gf_hksLhSZ1B"
      }
    },
    {
      "cell_type": "markdown",
      "source": [
        "## A.1 - Define A Vector"
      ],
      "metadata": {
        "id": "j9JCNtzpScTD"
      }
    },
    {
      "cell_type": "code",
      "execution_count": 1,
      "metadata": {
        "id": "1kG4ENhsu1pq"
      },
      "outputs": [],
      "source": [
        "# Import library\n",
        "\n",
        "import numpy as np"
      ]
    },
    {
      "cell_type": "code",
      "source": [
        "# Define a vector\n",
        "\n",
        "a = [1, 2, 3]\n",
        "vect_a = np.array(a)\n",
        "vect_a"
      ],
      "metadata": {
        "colab": {
          "base_uri": "https://localhost:8080/"
        },
        "id": "_slLapBdSlKR",
        "outputId": "ee5443be-c4be-47c9-b7cd-2480c17ba12a"
      },
      "execution_count": 2,
      "outputs": [
        {
          "output_type": "execute_result",
          "data": {
            "text/plain": [
              "array([1, 2, 3])"
            ]
          },
          "metadata": {},
          "execution_count": 2
        }
      ]
    },
    {
      "cell_type": "code",
      "source": [
        "# Check type of the variable and vector size\n",
        "\n",
        "print('Type : ', type(vect_a))\n",
        "print('Size : ', vect_a.shape)"
      ],
      "metadata": {
        "colab": {
          "base_uri": "https://localhost:8080/"
        },
        "id": "ksLlURUQSuNO",
        "outputId": "0dd1c0be-06cc-4d27-92a7-d80d49f3ec1d"
      },
      "execution_count": 3,
      "outputs": [
        {
          "output_type": "stream",
          "name": "stdout",
          "text": [
            "Type :  <class 'numpy.ndarray'>\n",
            "Size :  (3,)\n"
          ]
        }
      ]
    },
    {
      "cell_type": "markdown",
      "source": [
        "## A.2 - Vector Norm"
      ],
      "metadata": {
        "id": "YZOY3RfPWMEY"
      }
    },
    {
      "cell_type": "code",
      "source": [
        "# Find the vector norm\n",
        "\n",
        "b = [4, 3]\n",
        "vect_b = np.array(b)\n",
        "\n",
        "print('L1 - Manhattan Distance')\n",
        "print(np.linalg.norm(vect_b, 1))\n",
        "print('')\n",
        "\n",
        "print('L2 - Euclidean Distance')\n",
        "print(np.linalg.norm(vect_b))\n",
        "print(np.linalg.norm(vect_b, 2))"
      ],
      "metadata": {
        "colab": {
          "base_uri": "https://localhost:8080/"
        },
        "id": "HSZE3b76WOTa",
        "outputId": "8214c3bc-82da-4eed-9582-bb844ea4f23d"
      },
      "execution_count": 4,
      "outputs": [
        {
          "output_type": "stream",
          "name": "stdout",
          "text": [
            "L1 - Manhattan Distance\n",
            "7.0\n",
            "\n",
            "L2 - Euclidean Distance\n",
            "5.0\n",
            "5.0\n"
          ]
        }
      ]
    },
    {
      "cell_type": "markdown",
      "source": [
        "## A.3 - Arithmetic Operations"
      ],
      "metadata": {
        "id": "OlX5O5F_TWFy"
      }
    },
    {
      "cell_type": "code",
      "source": [
        "# Arithmetic operations with a scalar (addition, substraction, multiplication, and division)\n",
        "\n",
        "c = [1, 2, 3]\n",
        "vect_c = np.array(c)\n",
        "\n",
        "print('Addition       : ', vect_c + 2)\n",
        "print('Substraction   : ', vect_c - 2)\n",
        "print('Multiplication : ', vect_c * 2)\n",
        "print('Division       : ', vect_c / 2)"
      ],
      "metadata": {
        "colab": {
          "base_uri": "https://localhost:8080/"
        },
        "id": "FI4S2TZjUNk2",
        "outputId": "0acbfa24-b2a1-48e8-d4ae-c4ee151df580"
      },
      "execution_count": 5,
      "outputs": [
        {
          "output_type": "stream",
          "name": "stdout",
          "text": [
            "Addition       :  [3 4 5]\n",
            "Substraction   :  [-1  0  1]\n",
            "Multiplication :  [2 4 6]\n",
            "Division       :  [0.5 1.  1.5]\n"
          ]
        }
      ]
    },
    {
      "cell_type": "code",
      "source": [
        "# Arithmetic operations between vectors (addition, substraction, multiplication, and division)\n",
        "\n",
        "d = [1, 2, 3]\n",
        "e = [4, 5, 6]\n",
        "\n",
        "vect_d = np.array(d)\n",
        "vect_e = np.array(e)\n",
        "\n",
        "print('Addition     : ', vect_d + vect_e)\n",
        "print('')\n",
        "\n",
        "print('Substraction : ', vect_d - vect_e)\n",
        "print('')\n",
        "\n",
        "print('Division     : ', vect_d / vect_e)\n",
        "print('')\n",
        "\n",
        "print('Multiplication (element-wise) : ', vect_d * vect_e)\n",
        "print('')\n",
        "\n",
        "print('Multiplication (dot product)  : ')\n",
        "print('Syntax 1 : ', vect_d @ vect_e)\n",
        "print('Syntax 2 : ', vect_d.dot(vect_e))\n",
        "print('Syntax 3 : ', np.dot(vect_d, vect_e))"
      ],
      "metadata": {
        "colab": {
          "base_uri": "https://localhost:8080/"
        },
        "id": "Fed4Y_M3UckL",
        "outputId": "e37e35e8-5b75-4216-99c6-e0b214e630a4"
      },
      "execution_count": 6,
      "outputs": [
        {
          "output_type": "stream",
          "name": "stdout",
          "text": [
            "Addition     :  [5 7 9]\n",
            "\n",
            "Substraction :  [-3 -3 -3]\n",
            "\n",
            "Division     :  [0.25 0.4  0.5 ]\n",
            "\n",
            "Multiplication (element-wise) :  [ 4 10 18]\n",
            "\n",
            "Multiplication (dot product)  : \n",
            "Syntax 1 :  32\n",
            "Syntax 2 :  32\n",
            "Syntax 3 :  32\n"
          ]
        }
      ]
    },
    {
      "cell_type": "markdown",
      "source": [
        "## A.4 - Cosine Similarity"
      ],
      "metadata": {
        "id": "TXu3Hz0AbL4z"
      }
    },
    {
      "cell_type": "code",
      "source": [
        "# Cosine similarity\n",
        "\n",
        "f = [8, 0]\n",
        "g = [6, 2]\n",
        "\n",
        "vect_f = np.array(f)\n",
        "vect_g = np.array(g)\n",
        "\n",
        "cos_theta = (vect_f @ vect_g) / (np.linalg.norm(vect_f) * np.linalg.norm(vect_g))\n",
        "\n",
        "print('Cosine Similarity : ', cos_theta)"
      ],
      "metadata": {
        "colab": {
          "base_uri": "https://localhost:8080/"
        },
        "id": "BVDubYp1bLS7",
        "outputId": "68c252cf-6842-4808-c7f2-8c17abdc9415"
      },
      "execution_count": 7,
      "outputs": [
        {
          "output_type": "stream",
          "name": "stdout",
          "text": [
            "Cosine Similarity :  0.9486832980505138\n"
          ]
        }
      ]
    },
    {
      "cell_type": "code",
      "source": [
        "# Find the radian and the degree\n",
        "\n",
        "radian = np.arccos(cos_theta)\n",
        "degree = np.degrees(radian)\n",
        "\n",
        "print('Radian : ', radian)\n",
        "print('Degree : ', degree)"
      ],
      "metadata": {
        "colab": {
          "base_uri": "https://localhost:8080/"
        },
        "id": "R55lJKkPb-hc",
        "outputId": "ccde4282-02fe-41a9-a051-6d685fdfbfa8"
      },
      "execution_count": 8,
      "outputs": [
        {
          "output_type": "stream",
          "name": "stdout",
          "text": [
            "Radian :  0.3217505543966423\n",
            "Degree :  18.434948822922017\n"
          ]
        }
      ]
    },
    {
      "cell_type": "markdown",
      "source": [
        "## A.5 - Case Study"
      ],
      "metadata": {
        "id": "ruOIyBW7c36B"
      }
    },
    {
      "cell_type": "markdown",
      "source": [
        "```\n",
        "teks_1 = saya pergi ke rumah kakek saya\n",
        "teks_2 = saya pergi ke rumah nenek saya\n",
        "```"
      ],
      "metadata": {
        "id": "r80KrY6Pc60i"
      }
    },
    {
      "cell_type": "code",
      "source": [
        "# Find the similarity\n",
        "\n",
        "t1 = [2, 1, 1, 1, 1, 0]\n",
        "t2 = [2, 1, 1, 1, 0, 1]\n",
        "\n",
        "vect_t1 = np.array(t1)\n",
        "vect_t2 = np.array(t2)\n",
        "\n",
        "cos_theta = (vect_t1 @ vect_t2) / (np.linalg.norm(vect_t1) * np.linalg.norm(vect_t2))\n",
        "\n",
        "print('Cosine Similarity : ', cos_theta)"
      ],
      "metadata": {
        "colab": {
          "base_uri": "https://localhost:8080/"
        },
        "id": "1HYSzORJc3n2",
        "outputId": "da2ff6c3-487c-41be-db2b-9cbcc60442af"
      },
      "execution_count": 9,
      "outputs": [
        {
          "output_type": "stream",
          "name": "stdout",
          "text": [
            "Cosine Similarity :  0.8749999999999998\n"
          ]
        }
      ]
    },
    {
      "cell_type": "markdown",
      "source": [
        "# B. Matrix"
      ],
      "metadata": {
        "id": "zFYZW_vmeq_K"
      }
    },
    {
      "cell_type": "markdown",
      "source": [
        "## B.1 - Define A Matrix"
      ],
      "metadata": {
        "id": "VIw0cTh0d48O"
      }
    },
    {
      "cell_type": "code",
      "source": [
        "# Define a matrix\n",
        "\n",
        "A = [[1, 2, 3],\n",
        "     [4, 5, 6],\n",
        "     [7, 8, 9]]\n",
        "\n",
        "matrix_A = np.array(A)\n",
        "matrix_A"
      ],
      "metadata": {
        "colab": {
          "base_uri": "https://localhost:8080/"
        },
        "id": "2PKpLK1eev8t",
        "outputId": "2710555a-c525-40ed-e8d2-2b7d72e2e6ca"
      },
      "execution_count": 10,
      "outputs": [
        {
          "output_type": "execute_result",
          "data": {
            "text/plain": [
              "array([[1, 2, 3],\n",
              "       [4, 5, 6],\n",
              "       [7, 8, 9]])"
            ]
          },
          "metadata": {},
          "execution_count": 10
        }
      ]
    },
    {
      "cell_type": "code",
      "source": [
        "# Check type of the variable and matrix size\n",
        "\n",
        "print('Type : ', type(matrix_A))\n",
        "print('Size : ', matrix_A.shape)"
      ],
      "metadata": {
        "colab": {
          "base_uri": "https://localhost:8080/"
        },
        "id": "j7vrMaRVd9g3",
        "outputId": "0c5ac371-f28b-44b6-b97e-103d23afdf80"
      },
      "execution_count": 11,
      "outputs": [
        {
          "output_type": "stream",
          "name": "stdout",
          "text": [
            "Type :  <class 'numpy.ndarray'>\n",
            "Size :  (3, 3)\n"
          ]
        }
      ]
    },
    {
      "cell_type": "code",
      "source": [
        "# Type of matrix\n",
        "\n",
        "print('Upper triangular matrix : \\n', np.triu(matrix_A))\n",
        "print('')\n",
        "\n",
        "print('Lower triangular matrix : \\n', np.tril(matrix_A))\n",
        "print('')\n",
        "\n",
        "print('Diagonal matrix         : \\n', np.diag(matrix_A))\n",
        "print('')\n",
        "\n",
        "print('Identity matrix (3,3)   : \\n', np.eye(3, 3))\n",
        "print('')"
      ],
      "metadata": {
        "colab": {
          "base_uri": "https://localhost:8080/"
        },
        "id": "niXMM969dOZV",
        "outputId": "a14e03f6-99fc-47ca-8ed6-9beaba43feac"
      },
      "execution_count": 12,
      "outputs": [
        {
          "output_type": "stream",
          "name": "stdout",
          "text": [
            "Upper triangular matrix : \n",
            " [[1 2 3]\n",
            " [0 5 6]\n",
            " [0 0 9]]\n",
            "\n",
            "Lower triangular matrix : \n",
            " [[1 0 0]\n",
            " [4 5 0]\n",
            " [7 8 9]]\n",
            "\n",
            "Diagonal matrix         : \n",
            " [1 5 9]\n",
            "\n",
            "Identity matrix (3,3)   : \n",
            " [[1. 0. 0.]\n",
            " [0. 1. 0.]\n",
            " [0. 0. 1.]]\n",
            "\n"
          ]
        }
      ]
    },
    {
      "cell_type": "markdown",
      "source": [
        "## B.2 - Arithmetic Operations"
      ],
      "metadata": {
        "id": "NMNgZ0l_eEsW"
      }
    },
    {
      "cell_type": "code",
      "source": [
        "# Arithmetic operations with a scalar (addition, substraction, multiplication, and division)\n",
        "\n",
        "B = [[1, 2],\n",
        "     [3, 4],\n",
        "     [5, 6]]\n",
        "\n",
        "matrix_B = np.array(B)\n",
        "\n",
        "print('Addition       : \\n', matrix_B + 2)\n",
        "print('')\n",
        "\n",
        "print('Substraction   : \\n', matrix_B - 2)\n",
        "print('')\n",
        "\n",
        "print('Multiplication : \\n', matrix_B * 2)\n",
        "print('')\n",
        "\n",
        "print('Division       : \\n', matrix_B / 2)\n",
        "print('')"
      ],
      "metadata": {
        "colab": {
          "base_uri": "https://localhost:8080/"
        },
        "id": "HA99gRnKfbld",
        "outputId": "e59bd6c8-2dda-40b9-abb0-ef8c733e3823"
      },
      "execution_count": 13,
      "outputs": [
        {
          "output_type": "stream",
          "name": "stdout",
          "text": [
            "Addition       : \n",
            " [[3 4]\n",
            " [5 6]\n",
            " [7 8]]\n",
            "\n",
            "Substraction   : \n",
            " [[-1  0]\n",
            " [ 1  2]\n",
            " [ 3  4]]\n",
            "\n",
            "Multiplication : \n",
            " [[ 2  4]\n",
            " [ 6  8]\n",
            " [10 12]]\n",
            "\n",
            "Division       : \n",
            " [[0.5 1. ]\n",
            " [1.5 2. ]\n",
            " [2.5 3. ]]\n",
            "\n"
          ]
        }
      ]
    },
    {
      "cell_type": "code",
      "source": [
        "# Arithmetic operations between matrices (addition, substraction, multiplication, and division)\n",
        "\n",
        "C = [[1, 2],\n",
        "     [3, 4],\n",
        "     [5, 6]]\n",
        "\n",
        "matrix_C = np.array(C)\n",
        "\n",
        "D = [[7, 8],\n",
        "     [9, 10],\n",
        "     [11, 12]]\n",
        "matrix_D = np.array(D)\n",
        "\n",
        "print('Addition     : \\n', matrix_C + matrix_D)\n",
        "print('')\n",
        "\n",
        "print('Substraction : \\n', matrix_C - matrix_D)\n",
        "print('')\n",
        "\n",
        "print('Division     : \\n', matrix_C / matrix_D)\n",
        "print('')\n",
        "\n",
        "print('Multiplication (element-wise) : \\n', matrix_C * matrix_D)\n",
        "print('')"
      ],
      "metadata": {
        "colab": {
          "base_uri": "https://localhost:8080/"
        },
        "id": "-jHoYEwqfzlm",
        "outputId": "455523b9-0983-4634-ac0b-890b9247880d"
      },
      "execution_count": 14,
      "outputs": [
        {
          "output_type": "stream",
          "name": "stdout",
          "text": [
            "Addition     : \n",
            " [[ 8 10]\n",
            " [12 14]\n",
            " [16 18]]\n",
            "\n",
            "Substraction : \n",
            " [[-6 -6]\n",
            " [-6 -6]\n",
            " [-6 -6]]\n",
            "\n",
            "Division     : \n",
            " [[0.14285714 0.25      ]\n",
            " [0.33333333 0.4       ]\n",
            " [0.45454545 0.5       ]]\n",
            "\n",
            "Multiplication (element-wise) : \n",
            " [[ 7 16]\n",
            " [27 40]\n",
            " [55 72]]\n",
            "\n"
          ]
        }
      ]
    },
    {
      "cell_type": "code",
      "source": [
        "# Multiplication (dot product) between matrices\n",
        "\n",
        "E = [[1, 2],\n",
        "     [3, 4],\n",
        "     [5, 6]]\n",
        "\n",
        "F = [[1, 2],\n",
        "     [3, 4]]\n",
        "\n",
        "matrix_E = np.array(E)\n",
        "matrix_F = np.array(F)\n",
        "\n",
        "print('Multiplication (dot product)')\n",
        "\n",
        "print('Syntax 1 : \\n', matrix_E @ matrix_F)\n",
        "print('')\n",
        "\n",
        "print('Syntax 2 : \\n', matrix_E.dot(matrix_F))\n",
        "print('')\n",
        "\n",
        "print('Syntax 3 : \\n', np.dot(matrix_E, matrix_F))\n",
        "print('')"
      ],
      "metadata": {
        "colab": {
          "base_uri": "https://localhost:8080/"
        },
        "id": "VVUdamasiN64",
        "outputId": "be0cee47-b1a3-4d24-919c-b8f3840c9d4d"
      },
      "execution_count": 15,
      "outputs": [
        {
          "output_type": "stream",
          "name": "stdout",
          "text": [
            "Multiplication (dot product)\n",
            "Syntax 1 : \n",
            " [[ 7 10]\n",
            " [15 22]\n",
            " [23 34]]\n",
            "\n",
            "Syntax 2 : \n",
            " [[ 7 10]\n",
            " [15 22]\n",
            " [23 34]]\n",
            "\n",
            "Syntax 3 : \n",
            " [[ 7 10]\n",
            " [15 22]\n",
            " [23 34]]\n",
            "\n"
          ]
        }
      ]
    },
    {
      "cell_type": "code",
      "source": [
        "# Multiplication between a matrix and an identity matrix\n",
        "\n",
        "G = [[1, 2, 3],\n",
        "     [4, 5, 6],\n",
        "     [7, 8, 9]]\n",
        "\n",
        "matrix_G = np.array(G)\n",
        "print('Original matrix : \\n', matrix_G)\n",
        "print('')\n",
        "\n",
        "matrix_I = np.eye(3, 3)\n",
        "print('Identity matrix : \\n', matrix_I)\n",
        "print('')\n",
        "\n",
        "print('Multiplication result : \\n', matrix_G @ matrix_I)"
      ],
      "metadata": {
        "colab": {
          "base_uri": "https://localhost:8080/"
        },
        "id": "z5B7v4f7mc55",
        "outputId": "a7d9d2a4-b53e-45c4-d303-4d695c3d8446"
      },
      "execution_count": 16,
      "outputs": [
        {
          "output_type": "stream",
          "name": "stdout",
          "text": [
            "Original matrix : \n",
            " [[1 2 3]\n",
            " [4 5 6]\n",
            " [7 8 9]]\n",
            "\n",
            "Identity matrix : \n",
            " [[1. 0. 0.]\n",
            " [0. 1. 0.]\n",
            " [0. 0. 1.]]\n",
            "\n",
            "Multiplication result : \n",
            " [[1. 2. 3.]\n",
            " [4. 5. 6.]\n",
            " [7. 8. 9.]]\n"
          ]
        }
      ]
    },
    {
      "cell_type": "markdown",
      "source": [
        "## B.3 - Transpose & Determinant"
      ],
      "metadata": {
        "id": "3VyNkEmfh29i"
      }
    },
    {
      "cell_type": "code",
      "source": [
        "# Transpose of a matrix\n",
        "\n",
        "H = [[1, 2],\n",
        "     [3, 4],\n",
        "     [5, 6]]\n",
        "\n",
        "matrix_H = np.array(H)\n",
        "\n",
        "print('Original matrix : \\n', matrix_H)\n",
        "print('')\n",
        "\n",
        "print('Transpose matrix : \\n', matrix_H.T)\n",
        "print('')"
      ],
      "metadata": {
        "colab": {
          "base_uri": "https://localhost:8080/"
        },
        "id": "PKTbXtkVh5Gx",
        "outputId": "e1b376b1-258b-4ef9-a4bb-cf930579b40a"
      },
      "execution_count": 17,
      "outputs": [
        {
          "output_type": "stream",
          "name": "stdout",
          "text": [
            "Original matrix : \n",
            " [[1 2]\n",
            " [3 4]\n",
            " [5 6]]\n",
            "\n",
            "Transpose matrix : \n",
            " [[1 3 5]\n",
            " [2 4 6]]\n",
            "\n"
          ]
        }
      ]
    },
    {
      "cell_type": "code",
      "source": [
        "# Determinant of a matrix\n",
        "\n",
        "J = [[1, 2],\n",
        "     [3, 4]]\n",
        "\n",
        "K = [[10, 2, 3],\n",
        "     [4, 5, 6],\n",
        "     [7, 8, 9]]\n",
        "\n",
        "matrix_J = np.array(J)\n",
        "matrix_K = np.array(K)\n",
        "\n",
        "print('Determinant of matrix_H : ', np.linalg.det(matrix_J))\n",
        "print('Determinant of matrix_J : ', np.linalg.det(matrix_K))"
      ],
      "metadata": {
        "colab": {
          "base_uri": "https://localhost:8080/"
        },
        "id": "AscTDbARiI5_",
        "outputId": "921d9cb9-cdbd-47be-e1f3-f36bda81ec15"
      },
      "execution_count": 18,
      "outputs": [
        {
          "output_type": "stream",
          "name": "stdout",
          "text": [
            "Determinant of matrix_H :  -2.0000000000000004\n",
            "Determinant of matrix_J :  -27.0\n"
          ]
        }
      ]
    },
    {
      "cell_type": "markdown",
      "source": [
        "## B.4 - Inverse"
      ],
      "metadata": {
        "id": "Sysp251AkDF4"
      }
    },
    {
      "cell_type": "code",
      "source": [
        "# Inverse of matrix\n",
        "\n",
        "L = [[1, 2],\n",
        "     [3, 4]]\n",
        "\n",
        "matrix_L = np.array(L)\n",
        "inverse_matrix_L = np.linalg.inv(matrix_L)\n",
        "\n",
        "print('Original matrix : \\n', matrix_L)\n",
        "print('')\n",
        "\n",
        "print('Inverse matrix  : \\n', inverse_matrix_L)\n",
        "print('')\n",
        "\n",
        "print('Multiplication between a matrix and its inverse : \\n', matrix_L @ inverse_matrix_L)"
      ],
      "metadata": {
        "colab": {
          "base_uri": "https://localhost:8080/"
        },
        "id": "8XFkXHSUkFJH",
        "outputId": "ecc69fe6-84cf-4a2c-d709-2ae924d34a5f"
      },
      "execution_count": 19,
      "outputs": [
        {
          "output_type": "stream",
          "name": "stdout",
          "text": [
            "Original matrix : \n",
            " [[1 2]\n",
            " [3 4]]\n",
            "\n",
            "Inverse matrix  : \n",
            " [[-2.   1. ]\n",
            " [ 1.5 -0.5]]\n",
            "\n",
            "Multiplication between a matrix and its inverse : \n",
            " [[1.0000000e+00 0.0000000e+00]\n",
            " [8.8817842e-16 1.0000000e+00]]\n"
          ]
        }
      ]
    },
    {
      "cell_type": "markdown",
      "source": [
        "## B.5 - Eigendecomposition"
      ],
      "metadata": {
        "id": "-CPLMcxxoR2i"
      }
    },
    {
      "cell_type": "code",
      "source": [
        "# Find the eigenvalues and the eigenvectors from a matrix\n",
        "\n",
        "M = [[2, 0],\n",
        "     [0, 3]]\n",
        "\n",
        "matrix_M = np.array(M)\n",
        "\n",
        "eigenvalues, eigenvectors = np.linalg.eig(matrix_M)\n",
        "\n",
        "print('Eigenvalues  : \\n', eigenvalues)\n",
        "print('')\n",
        "\n",
        "print('Eigenvectors : \\n', eigenvectors)\n",
        "print('')"
      ],
      "metadata": {
        "colab": {
          "base_uri": "https://localhost:8080/"
        },
        "id": "25PybP1Pjn0b",
        "outputId": "b1e4cac1-2f04-451a-d50d-01e934e0a8e9"
      },
      "execution_count": 20,
      "outputs": [
        {
          "output_type": "stream",
          "name": "stdout",
          "text": [
            "Eigenvalues  : \n",
            " [2. 3.]\n",
            "\n",
            "Eigenvectors : \n",
            " [[1. 0.]\n",
            " [0. 1.]]\n",
            "\n"
          ]
        }
      ]
    },
    {
      "cell_type": "code",
      "source": [
        "# Reconstruct the matrix from its eigenvalues and eigenvectors\n",
        "\n",
        "matrix_reconstruct = eigenvectors @ np.diag(eigenvalues) @ np.linalg.inv(eigenvectors)\n",
        "\n",
        "print('Matrix reconstruct : \\n', matrix_reconstruct)\n",
        "print('')\n",
        "\n",
        "print('Equality check : ', np.array_equal(matrix_M, matrix_reconstruct))"
      ],
      "metadata": {
        "colab": {
          "base_uri": "https://localhost:8080/"
        },
        "id": "i57EVw2tpBFB",
        "outputId": "d50a8364-440f-4b80-d2f6-4380e066048f"
      },
      "execution_count": 21,
      "outputs": [
        {
          "output_type": "stream",
          "name": "stdout",
          "text": [
            "Matrix reconstruct : \n",
            " [[2. 0.]\n",
            " [0. 3.]]\n",
            "\n",
            "Equality check :  True\n"
          ]
        }
      ]
    },
    {
      "cell_type": "markdown",
      "source": [
        "## B.6 - Usecase : Page Rank"
      ],
      "metadata": {
        "id": "2RPqzVPtPjYn"
      }
    },
    {
      "cell_type": "markdown",
      "source": [
        "PageRank (developed by Larry Page and Sergey Brin) revolutionized web search by generating a ranked list of web pages based on the underlying connectivity of the web. The PageRank algorithm is based on an ideal random web surfer who, when reaching a page, goes to the next page by clicking on a link. The surfer has equal probability of clicking any link on the page and, when reaching a page with no links, has equal probability of moving to any other page by typing in its URL. **The PageRank is the ranked order of the pages from the most to the least probable page the surfer will be viewing.**"
      ],
      "metadata": {
        "id": "P_l_widmrBG3"
      }
    },
    {
      "cell_type": "markdown",
      "source": [
        "For example, suppose there are 4 webs like the image below.\n",
        "\n",
        "<img src='https://gowrishankar.info/blog/eigenvalue-eigenvector-eigenspace-and-implementation-of-googles-pagerank-algorithm/links.png'>\n",
        "\n",
        "To calculate the pagerank, we need to create an adjancecy matrix.\n",
        "\n",
        "<img src='https://gowrishankar.info/blog/eigenvalue-eigenvector-eigenspace-and-implementation-of-googles-pagerank-algorithm/m1.png'>"
      ],
      "metadata": {
        "id": "UD6wIsfRV9Jg"
      }
    },
    {
      "cell_type": "code",
      "source": [
        "# Step 1 : Define the adjacency matrix\n",
        "\n",
        "M = np.array([\n",
        "    # 1   2     3     4\n",
        "    [0,   1/3,  1/3,  1/3],   # From 1\n",
        "    [1/2, 0,    0,    1/2],   # From 2\n",
        "    [0,   0,    0,    1],     # From 3\n",
        "    [0,   1/2,  1/2,  0]      # From 4\n",
        "])\n",
        "M"
      ],
      "metadata": {
        "colab": {
          "base_uri": "https://localhost:8080/"
        },
        "id": "NcEW19pKPnDO",
        "outputId": "2fd71347-2a52-4b6f-e89f-c4267cdeb24c"
      },
      "execution_count": 22,
      "outputs": [
        {
          "output_type": "execute_result",
          "data": {
            "text/plain": [
              "array([[0.        , 0.33333333, 0.33333333, 0.33333333],\n",
              "       [0.5       , 0.        , 0.        , 0.5       ],\n",
              "       [0.        , 0.        , 0.        , 1.        ],\n",
              "       [0.        , 0.5       , 0.5       , 0.        ]])"
            ]
          },
          "metadata": {},
          "execution_count": 22
        }
      ]
    },
    {
      "cell_type": "code",
      "source": [
        "# Step 2 : Calculate eigenvectors and eigenvalues\n",
        "\n",
        "eigenvalues, eigenvectors = np.linalg.eig(M.T)\n",
        "print('Eigen Values : ')\n",
        "print(eigenvalues)\n",
        "print('')\n",
        "\n",
        "print('Eigen Vectors : ')\n",
        "print(eigenvectors)\n",
        "print('')"
      ],
      "metadata": {
        "colab": {
          "base_uri": "https://localhost:8080/"
        },
        "id": "Fq_7-rbsPtKj",
        "outputId": "74866685-7b14-41ee-a935-0ed02218c55b"
      },
      "execution_count": 23,
      "outputs": [
        {
          "output_type": "stream",
          "name": "stdout",
          "text": [
            "Eigen Values : \n",
            "[ 1.00000000e+00 -9.17517095e-02 -9.08248290e-01 -6.82897983e-17]\n",
            "\n",
            "Eigen Vectors : \n",
            "[[-2.22988244e-01 -8.25340062e-01  2.62323812e-01 -8.01783726e-01]\n",
            " [-4.45976488e-01  1.51452723e-01 -4.76510307e-01  1.25887458e-16]\n",
            " [-4.45976488e-01  1.51452723e-01 -4.76510307e-01  2.67261242e-01]\n",
            " [-7.43294146e-01  5.22434615e-01  6.90696802e-01  5.34522484e-01]]\n",
            "\n"
          ]
        }
      ]
    },
    {
      "cell_type": "code",
      "source": [
        "# Step 3 : Find eigenvector that has the largest eigenvalue\n",
        "\n",
        "index_largest_eigenvalues = np.argmax(eigenvalues)\n",
        "largest_eigenvalues = eigenvalues[index_largest_eigenvalues]\n",
        "largest_eigenvectors = eigenvectors[:, index_largest_eigenvalues]\n",
        "\n",
        "print('Index largest Eigen Values : ', index_largest_eigenvalues)\n",
        "print('Largest Eigen Values       : ', largest_eigenvalues)\n",
        "print('Largest Eigen Vectors      : ', largest_eigenvectors)"
      ],
      "metadata": {
        "colab": {
          "base_uri": "https://localhost:8080/"
        },
        "id": "1MW8rHZSphPM",
        "outputId": "90d20ad0-2d9e-42dd-b7b9-5ea532e636f8"
      },
      "execution_count": 24,
      "outputs": [
        {
          "output_type": "stream",
          "name": "stdout",
          "text": [
            "Index largest Eigen Values :  0\n",
            "Largest Eigen Values       :  1.0000000000000004\n",
            "Largest Eigen Vectors      :  [-0.22298824 -0.44597649 -0.44597649 -0.74329415]\n"
          ]
        }
      ]
    },
    {
      "cell_type": "code",
      "source": [
        "# Step 4 : Get the ranked orders of the pages\n",
        "\n",
        "largest_eigenvectors = largest_eigenvectors.real\n",
        "ranks = largest_eigenvectors / largest_eigenvectors.sum()\n",
        "ranks = np.argsort(ranks)[::-1]+1\n",
        "ranks"
      ],
      "metadata": {
        "colab": {
          "base_uri": "https://localhost:8080/"
        },
        "id": "LSxvc-Otp3-c",
        "outputId": "08b7960e-63c2-49f1-b10e-c7db897e9294"
      },
      "execution_count": 25,
      "outputs": [
        {
          "output_type": "execute_result",
          "data": {
            "text/plain": [
              "array([4, 3, 2, 1])"
            ]
          },
          "metadata": {},
          "execution_count": 25
        }
      ]
    },
    {
      "cell_type": "markdown",
      "source": [
        "**CONCLUSION:**\n",
        "\n",
        "1. Page `D` is a popular page because all other pages are reffering to page `D`.\n",
        "\n",
        "2. Page `C` & page `B` are equally visited because they both are reffered by 2 other pages.\n",
        "\n",
        "3. Page `A` is an the least popular page because it is reffered only by page `B`."
      ],
      "metadata": {
        "id": "bATGS-XGO3Ei"
      }
    }
  ]
}