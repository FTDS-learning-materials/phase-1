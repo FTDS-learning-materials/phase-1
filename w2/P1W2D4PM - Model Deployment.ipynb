{
  "nbformat": 4,
  "nbformat_minor": 0,
  "metadata": {
    "orig_nbformat": 4,
    "language_info": {
      "name": "python",
      "version": "3.8.5",
      "mimetype": "text/x-python",
      "codemirror_mode": {
        "name": "ipython",
        "version": 3
      },
      "pygments_lexer": "ipython3",
      "nbconvert_exporter": "python",
      "file_extension": ".py"
    },
    "kernelspec": {
      "name": "python3",
      "display_name": "Python 3.8.5 64-bit"
    },
    "interpreter": {
      "hash": "60716cfbf8f6257f052921a35c79929cd52e6aa52b65b24e32100e25d3fdc1e3"
    },
    "colab": {
      "provenance": [],
      "toc_visible": true
    }
  },
  "cells": [
    {
      "cell_type": "markdown",
      "source": [
        "# Phase 1 - Week 2 - Day 4 AM - Model Deployment"
      ],
      "metadata": {
        "id": "_zdcF29M-bGb"
      }
    },
    {
      "cell_type": "markdown",
      "source": [
        "# A. Streamlit"
      ],
      "metadata": {
        "id": "SDnupF8hINcq"
      }
    },
    {
      "cell_type": "markdown",
      "source": [
        "---\n",
        "## A.1 - Introduction"
      ],
      "metadata": {
        "id": "SWKnbkkS-lXg"
      }
    },
    {
      "cell_type": "markdown",
      "metadata": {
        "id": "GXMWJjixMPNK"
      },
      "source": [
        "Streamlit is an open-source Python library that makes it easy to create and share beautiful, custom web apps for machine learning and data science. In just a few minutes you can build and deploy powerful data apps - so let’s get started!\n",
        "\n",
        "1. Make sure that you have Python 3.6+ installed.\n",
        "2. Install Streamlit using PIP and run the ‘hello world’ app:\n",
        "\n",
        "```sh\n",
        "pip install streamlit\n",
        "streamlit hello\n",
        "```\n",
        "\n",
        "That’s it! In the next few seconds the sample app will open in a new tab in your default browser."
      ]
    },
    {
      "cell_type": "markdown",
      "source": [
        "Still with us? Great! Now make your own app in just 3 more steps:\n",
        "\n",
        "1. Open a new Python file, import `Streamlit`, and write some code\n",
        "2. Run the file with :\n",
        "   ```\n",
        "   streamlit run [filename]\n",
        "   ```\n",
        "\n",
        "Now that you’re set up, let’s dive into more of how Streamlit works and how to build great apps."
      ],
      "metadata": {
        "id": "K0lzjOyG-wlK"
      }
    },
    {
      "cell_type": "markdown",
      "source": [
        "---\n",
        "## A.2 - Getting Started"
      ],
      "metadata": {
        "id": "9zGYoAi8_Re9"
      }
    },
    {
      "cell_type": "markdown",
      "metadata": {
        "id": "VypFkSCtMPNQ"
      },
      "source": [
        "First, we’ll create a new Python script and import Streamlit.\n",
        "\n",
        "* Create a new Python file named `first_app.py`, then open it with your IDE or text editor.\n",
        "* Next, import `Streamlit`.\n",
        "   ```py\n",
        "   import streamlit as st\n",
        "   # To make things easier later, we're also importing numpy and pandas for working with sample data.\n",
        "   import numpy as np\n",
        "   import pandas as pd\n",
        "   ```\n",
        "* Run your app with\n",
        "   ```\n",
        "   streamlit run first_app.py\n",
        "   ```\n",
        "* A new tab will open in your default browser. It’ll be blank for now. That’s OK.\n",
        "* You can kill the app at any time by typing `Ctrl+c` in the terminal."
      ]
    },
    {
      "cell_type": "markdown",
      "source": [
        "---\n",
        "## A.3 - Add Text and Data"
      ],
      "metadata": {
        "id": "b2mDqptA_6ER"
      }
    },
    {
      "cell_type": "markdown",
      "source": [
        "Streamlit has a number of ways to add text to your app. Check out [Streamlit API reference](https://docs.streamlit.io/library/api-reference) for a complete list."
      ],
      "metadata": {
        "id": "ZucLO9yzAHrI"
      }
    },
    {
      "cell_type": "markdown",
      "source": [
        "### A.3.1 - Add A Title"
      ],
      "metadata": {
        "id": "aMbG1wQ6__9s"
      }
    },
    {
      "cell_type": "markdown",
      "source": [
        "Let’s add a title to test things out:\n",
        "\n",
        "```\n",
        "st.title('My first app')\n",
        "```\n",
        "\n",
        "That’s it ! Your app has a title. You can use specific text functions to add content to your app, or you can use `st.write()` and add your own markdown."
      ],
      "metadata": {
        "id": "WNRnKQVM_-7t"
      }
    },
    {
      "cell_type": "markdown",
      "source": [
        "### A.3.2 - Write A Dataframe"
      ],
      "metadata": {
        "id": "-tC1Ywj6AwqZ"
      }
    },
    {
      "cell_type": "markdown",
      "source": [
        "Along with magic commands, `st.write()` is Streamlit’s \"Swiss Army knife\". You can pass almost anything to `st.write()` such as text, data, Matplotlib figures, Altair charts, and more. Don’t worry, Streamlit will figure it out and render things the right way.\n",
        "\n",
        "```py\n",
        "st.write(\"Here's our first attempt at using data to create a table:\")\n",
        "st.write(pd.DataFrame({\n",
        "    'first column': [1, 2, 3, 4],\n",
        "    'second column': [10, 20, 30, 40]\n",
        "}))\n",
        "```\n",
        "\n",
        "There are other data specific functions like `st.dataframe()` and `st.table()` that you can also use for displaying data. Check our advanced guides on displaying data to understand when to use these features and how to add colors and styling to your data frames."
      ],
      "metadata": {
        "id": "C0lbvD77A2d7"
      }
    },
    {
      "cell_type": "markdown",
      "source": [
        "---\n",
        "## A.4 - Use Magic"
      ],
      "metadata": {
        "id": "SM4LuUMcBpU_"
      }
    },
    {
      "cell_type": "markdown",
      "source": [
        "You can also write to your app without calling any Streamlit methods. Streamlit supports **“magic commands”**, which means you don’t have to use `st.write()` at all! Try replacing the code above with this snippet:\n",
        "\n",
        "```py\n",
        "\"\"\"\n",
        "# My first app\n",
        "Here's our first attempt at using data to create a table:\n",
        "\"\"\"\n",
        "\n",
        "df = pd.DataFrame({\n",
        "  'first column': [1, 2, 3, 4],\n",
        "  'second column': [10, 20, 30, 40]\n",
        "})\n",
        "\n",
        "df\n",
        "```\n",
        "\n",
        "*Any time that Streamlit sees a variable or a literal value on its own line, it automatically writes that to your app using `st.write()`.*"
      ],
      "metadata": {
        "id": "vQ6ikWzvBoQt"
      }
    },
    {
      "cell_type": "markdown",
      "source": [
        "---\n",
        "## A.5 - Draw Charts and Maps"
      ],
      "metadata": {
        "id": "6h6hU2-gCM1Q"
      }
    },
    {
      "cell_type": "markdown",
      "source": [
        "Streamlit supports several popular data charting libraries like `Matplotlib`, `Altair`, `deck.gl`, and more. In this section, you’ll add a bar chart, line chart, and a map to your app."
      ],
      "metadata": {
        "id": "38YUWeQkCLoP"
      }
    },
    {
      "cell_type": "markdown",
      "source": [
        "### A.5.1 - Draw A Line Chart\n",
        "\n",
        "You can easily add a line chart to your app with `st.line_chart()`. We’ll generate a random sample using `NumPy` and then chart it.\n",
        "\n",
        "```py\n",
        "chart_data = pd.DataFrame(\n",
        "     np.random.randn(20, 3),\n",
        "     columns=['a', 'b', 'c'])\n",
        "\n",
        "st.line_chart(chart_data)\n",
        "```"
      ],
      "metadata": {
        "id": "tR5gPwv8CYUF"
      }
    },
    {
      "cell_type": "markdown",
      "source": [
        "### A.5.2 - Plot A Map"
      ],
      "metadata": {
        "id": "Svji1roNCjF5"
      }
    },
    {
      "cell_type": "markdown",
      "source": [
        "With `st.map()` you can display data points on a map. Let’s use `NumPy` to generate some sample data and plot it on a map of San Francisco.\n",
        "\n",
        "```py\n",
        "map_data = pd.DataFrame(\n",
        "    np.random.randn(1000, 2) / [50, 50] + [37.76, -122.4],\n",
        "    columns=['lat', 'lon'])\n",
        "\n",
        "st.map(map_data)\n",
        "```"
      ],
      "metadata": {
        "id": "4u_69aTkCiIC"
      }
    },
    {
      "cell_type": "markdown",
      "source": [
        "---\n",
        "## A.6 - Lay Out Your App"
      ],
      "metadata": {
        "id": "gZvBAYzXEYw_"
      }
    },
    {
      "cell_type": "markdown",
      "source": [
        "For a cleaner look, you can move your widgets into a sidebar. This keeps your app central, while widgets are pinned to the left. Let’s take a look at how you can use `st.sidebar` in your app.\n",
        "\n",
        "```py\n",
        "option = st.sidebar.selectbox(\n",
        "    'Which number do you like best?',\n",
        "     df['first column'])\n",
        "\n",
        "'You selected:', option\n",
        "```\n",
        "\n",
        "Most of the elements you can put into your app can also be put into a sidebar using this syntax: `st.sidebar.[element_name]()`. Here are a few examples that show how it’s used:\n",
        "* `st.sidebar.markdown()`,\n",
        "* `st.sidebar.slider()`,\n",
        "* `st.sidebar.line_chart()`.\n",
        "\n",
        "You can also use `st.columns` to lay out widgets side-by-side, or `st.expander` to conserve space by hiding away large content.\n",
        "\n",
        "```py\n",
        "left_column, right_column = st.columns(2)\n",
        "pressed = left_column.button('Press me?')\n",
        "if pressed:\n",
        "  right_column.write(\"Woohoo!\")\n",
        "\n",
        "expander = st.expander(\"FAQ\")\n",
        "expander.write(\"Here you could put in some really, really long explanations...\")\n",
        "```\n",
        "\n",
        "The only exceptions right now are `st.echo` and `st.spinner`."
      ],
      "metadata": {
        "id": "HOWMuJBEEXoE"
      }
    },
    {
      "cell_type": "markdown",
      "source": [
        "---\n",
        "## A.7 - Show Progress\n",
        "\n",
        "When adding long running computations to an app, you can use `st.progress()` to display status in real time.\n",
        "\n",
        "First, let’s import `time`. We’re going to use the `time.sleep()` method to simulate a long running computation:\n",
        "\n",
        "```py\n",
        "import time\n",
        "```\n",
        "\n",
        "Now, let’s create a progress bar:\n",
        "\n",
        "```py\n",
        "'Starting a long computation...'\n",
        "\n",
        "# Add a placeholder\n",
        "latest_iteration = st.empty()\n",
        "bar = st.progress(0)\n",
        "\n",
        "for i in range(100):\n",
        "  # Update the progress bar with each iteration.\n",
        "  latest_iteration.text(f'Iteration {i+1}')\n",
        "  bar.progress(i + 1)\n",
        "  time.sleep(0.1)\n",
        "\n",
        "'...and now we\\'re done!'\n",
        "```"
      ],
      "metadata": {
        "id": "yPbzCls1_0ZO"
      }
    },
    {
      "cell_type": "markdown",
      "source": [
        "---\n",
        "## A.8 - Interactive Widget"
      ],
      "metadata": {
        "id": "OW1_YroTF4Py"
      }
    },
    {
      "cell_type": "markdown",
      "source": [
        "### A.8.1 - Button"
      ],
      "metadata": {
        "id": "D_rav7LXF9_k"
      }
    },
    {
      "cell_type": "markdown",
      "source": [
        "```py\n",
        "if st.button('Say hello'):\n",
        "    st.write('Why hello there')\n",
        "else:\n",
        "    st.write('Goodbye')\n",
        "```"
      ],
      "metadata": {
        "id": "5kcq1v7YF9Kd"
      }
    },
    {
      "cell_type": "markdown",
      "source": [
        "### A.8.2 - Download Button"
      ],
      "metadata": {
        "id": "DyBoXCDwGB5y"
      }
    },
    {
      "cell_type": "markdown",
      "source": [
        "```py\n",
        "@st.cache\n",
        "def convert_df(df):\n",
        "    # IMPORTANT: Cache the conversion to prevent computation on every rerun\n",
        "    return df.to_csv().encode('utf-8')\n",
        "csv = convert_df(my_large_df)\n",
        "st.download_button(\n",
        "    label=\"Download data as CSV\",\n",
        "    data=csv,\n",
        "    file_name='large_df.csv',\n",
        "    mime='text/csv',\n",
        ")\n",
        "```"
      ],
      "metadata": {
        "id": "lzzFnQlTGHqS"
      }
    },
    {
      "cell_type": "markdown",
      "source": [
        "### A.8.3 - Checkbox"
      ],
      "metadata": {
        "id": "p0x3NLavGkRI"
      }
    },
    {
      "cell_type": "markdown",
      "source": [
        "```py\n",
        "agree = st.checkbox('I agree')\n",
        "if agree:\n",
        "    st.write('Great!')\n",
        "```"
      ],
      "metadata": {
        "id": "UCeiyAdNGja0"
      }
    },
    {
      "cell_type": "markdown",
      "source": [
        "### A.8.4 - Radio Button"
      ],
      "metadata": {
        "id": "5-sqh_cwGrtX"
      }
    },
    {
      "cell_type": "markdown",
      "source": [
        "```py\n",
        "genre = st.radio(\n",
        "    \"What's your favorite movie genre\",\n",
        "    ('Comedy', 'Drama', 'Documentary'))\n",
        "if genre == 'Comedy':\n",
        "    st.write('You selected comedy.')\n",
        "else:\n",
        "    st.write(\"You didn't select comedy.\")\n",
        "```"
      ],
      "metadata": {
        "id": "PsBt8V3KGuvz"
      }
    },
    {
      "cell_type": "markdown",
      "source": [
        "### A.8.5. Select"
      ],
      "metadata": {
        "id": "YRKB-ctQHCJ-"
      }
    },
    {
      "cell_type": "markdown",
      "source": [
        "```py\n",
        "option = st.selectbox(\n",
        "    'How would you like to be contacted?',\n",
        "    ('Email', 'Home phone', 'Mobile phone'))\n",
        "st.write('You selected:', option)\n",
        "```"
      ],
      "metadata": {
        "id": "bcG7j1z9G3p1"
      }
    },
    {
      "cell_type": "markdown",
      "source": [
        "### A.8.6 - Multiselect"
      ],
      "metadata": {
        "id": "ERYvwWnCHD8C"
      }
    },
    {
      "cell_type": "markdown",
      "source": [
        "```py\n",
        "options = st.multiselect(\n",
        "    'What are your favorite colors',\n",
        "    ['Green', 'Yellow', 'Red', 'Blue'],\n",
        "    ['Yellow', 'Red'])\n",
        "st.write('You selected:', options)\n",
        "```"
      ],
      "metadata": {
        "id": "rHRkeKj3G7tP"
      }
    },
    {
      "cell_type": "markdown",
      "source": [
        "### A.8.7 - Slider"
      ],
      "metadata": {
        "id": "Ym5chy-hHHAH"
      }
    },
    {
      "cell_type": "markdown",
      "source": [
        "```py\n",
        "values = st.slider(\n",
        "    'Select a range of values',\n",
        "    0.0, 100.0, (25.0, 75.0))\n",
        "st.write('Values:', values)\n",
        "```"
      ],
      "metadata": {
        "id": "7TNdTnxCG-z5"
      }
    },
    {
      "cell_type": "markdown",
      "source": [
        "### A.8.8 - Range Select"
      ],
      "metadata": {
        "id": "ahlMtRdhHUIu"
      }
    },
    {
      "cell_type": "markdown",
      "source": [
        "```py\n",
        "start_color, end_color = st.select_slider(\n",
        "    'Select a range of color wavelength',\n",
        "    options=['red', 'orange', 'yellow', 'green', 'blue', 'indigo', 'violet'],\n",
        "    value=('red', 'blue'))\n",
        "st.write('You selected wavelengths between', start_color, 'and', end_color)\n",
        "```"
      ],
      "metadata": {
        "id": "u-fENAjeHTW7"
      }
    },
    {
      "cell_type": "markdown",
      "source": [
        "### A.8.9 - Text"
      ],
      "metadata": {
        "id": "SGrRTxHTHZrl"
      }
    },
    {
      "cell_type": "markdown",
      "source": [
        "```py\n",
        "title = st.text_input('Movie title', 'Life of Brian')\n",
        "st.write('The current movie title is', title)\n",
        "```"
      ],
      "metadata": {
        "id": "cExdU20UHiuh"
      }
    },
    {
      "cell_type": "markdown",
      "source": [
        "### A.8.10 - Number"
      ],
      "metadata": {
        "id": "3PnsZW7uHfCm"
      }
    },
    {
      "cell_type": "markdown",
      "source": [
        "```py\n",
        "number = st.number_input('Insert a number')\n",
        "st.write('The current number is ', number)\n",
        "```"
      ],
      "metadata": {
        "id": "En8yswqmHeHU"
      }
    },
    {
      "cell_type": "markdown",
      "source": [
        "### A.8.11 - Text Area"
      ],
      "metadata": {
        "id": "t0RlHEijH-FC"
      }
    },
    {
      "cell_type": "markdown",
      "source": [
        "```py\n",
        "txt = st.text_area('Text to analyze', '''\n",
        "    It was the best of times, it was the worst of times, it was\n",
        "    the age of wisdom, it was the age of foolishness, it was\n",
        "    the epoch of belief, it was the epoch of incredulity, it\n",
        "    was the season of Light, it was the season of Darkness, it\n",
        "    was the spring of hope, it was the winter of despair, (\n",
        "    ''')\n",
        "st.write('Sentiment:', run_sentiment_analysis(txt))\n",
        "```"
      ],
      "metadata": {
        "id": "2w_qBXIgHrpw"
      }
    },
    {
      "cell_type": "markdown",
      "source": [
        "### A.8.12 - Date"
      ],
      "metadata": {
        "id": "TjSZsq5WIGX1"
      }
    },
    {
      "cell_type": "markdown",
      "source": [
        "```py\n",
        "d = st.date_input(\n",
        "    \"When's your birthday\",\n",
        "    datetime.date(2019, 7, 6))\n",
        "st.write('Your birthday is:', d)\n",
        "```"
      ],
      "metadata": {
        "id": "uBStcjeEIFlm"
      }
    },
    {
      "cell_type": "markdown",
      "source": [
        "### A.8.13 - Time"
      ],
      "metadata": {
        "id": "Dkg2l4y1IOXy"
      }
    },
    {
      "cell_type": "markdown",
      "source": [
        "```py\n",
        "t = st.time_input('Set an alarm for', datetime.time(8, 45))\n",
        "st.write('Alarm is set for', t)\n",
        "```"
      ],
      "metadata": {
        "id": "IrI2M3XAIM4B"
      }
    },
    {
      "cell_type": "markdown",
      "source": [
        "### A.8.14 - File Upload"
      ],
      "metadata": {
        "id": "rQeeuuooIVQG"
      }
    },
    {
      "cell_type": "markdown",
      "source": [
        "```py\n",
        "uploaded_file = st.file_uploader(\"Choose a file\")\n",
        "if uploaded_file is not None:\n",
        "    # To read file as bytes:\n",
        "    bytes_data = uploaded_file.getvalue()\n",
        "    st.write(bytes_data)\n",
        "    # To convert to a string based IO:\n",
        "    stringio = StringIO(uploaded_file.getvalue().decode(\"utf-8\"))\n",
        "    st.write(stringio)\n",
        "    # To read file as string:\n",
        "    string_data = stringio.read()\n",
        "    st.write(string_data)\n",
        "    # Can be used wherever a \"file-like\" object is accepted:\n",
        "    dataframe = pd.read_csv(uploaded_file)\n",
        "    st.write(dataframe)\n",
        "```"
      ],
      "metadata": {
        "id": "bYwsr0SLIUaE"
      }
    },
    {
      "cell_type": "markdown",
      "source": [
        "### A.8.15 - Add Widget to Sidebar"
      ],
      "metadata": {
        "id": "-8Q9k4puIaVV"
      }
    },
    {
      "cell_type": "markdown",
      "metadata": {
        "id": "Yie878YoMPNT"
      },
      "source": [
        "\n",
        "```py\n",
        "import streamlit as st\n",
        "\n",
        "add_selectbox = st.sidebar.selectbox(\n",
        "    \"How would you like to be contacted?\",\n",
        "    (\"Email\", \"Home phone\", \"Mobile phone\")\n",
        ")\n",
        "```"
      ]
    },
    {
      "cell_type": "markdown",
      "source": [
        "### A.8.16 - Display Matplotlib Plot"
      ],
      "metadata": {
        "id": "cLOD8HSAIoow"
      }
    },
    {
      "cell_type": "markdown",
      "source": [
        "You can use `st.pyplot` to display a Matplotlib figure.\n",
        "\n",
        "```py\n",
        "import matplotlib.pyplot as plt\n",
        "import numpy as np\n",
        "\n",
        "arr = np.random.normal(1, 1, size=100)\n",
        "fig, ax = plt.subplots()\n",
        "ax.hist(arr, bins=20)\n",
        "\n",
        "st.pyplot(fig)\n",
        "```"
      ],
      "metadata": {
        "id": "nsSmEB5fIzEO"
      }
    },
    {
      "cell_type": "markdown",
      "source": [
        "### A.8.17. Display Plotly Plot"
      ],
      "metadata": {
        "id": "_5QVeGB7I14B"
      }
    },
    {
      "cell_type": "markdown",
      "metadata": {
        "id": "aHjKEsZPxfNY"
      },
      "source": [
        "You can use `st.plotly_chart` to display a Plotly figure.\n",
        "\n",
        "```py\n",
        "import plotly.express as px\n",
        "\n",
        "df = px.data.gapminder().query(\"country=='Canada'\")\n",
        "fig = px.line(df, x=\"year\", y=\"lifeExp\", title='Life expectancy in Canada')\n",
        "\n",
        "st.plotly_chart(fig)\n",
        "```"
      ]
    },
    {
      "cell_type": "markdown",
      "source": [
        "### A.8.18 - Media and Layout"
      ],
      "metadata": {
        "id": "9sOzZgZ0QTTL"
      }
    },
    {
      "cell_type": "markdown",
      "source": [
        "Display an image or list of images with `st.image()`.\n",
        "\n",
        "```py\n",
        "from PIL import Image\n",
        "image = Image.open('sunrise.jpg')\n",
        "\n",
        "st.image(image, caption='Sunrise by the mountains')\n",
        "```"
      ],
      "metadata": {
        "id": "J_P7eRcOQezI"
      }
    },
    {
      "cell_type": "markdown",
      "source": [
        "### A.8.19 - Columns"
      ],
      "metadata": {
        "id": "PN5cy2mOQgkH"
      }
    },
    {
      "cell_type": "markdown",
      "source": [
        "Insert containers laid out as side-by-side columns.\n",
        "\n",
        "Inserts a number of multi-element containers laid out side-by-side and returns a list of container objects.\n",
        "\n",
        "To add elements to the returned containers, you can use `with` notation (preferred) or just call methods directly on the returned object. See examples below.\n",
        "\n",
        "You can use `with` notation to insert any element into a column:\n",
        "\n",
        "```py\n",
        "col1, col2, col3 = st.columns(3)\n",
        "with col1:\n",
        "  st.header(\"A cat\")\n",
        "  st.image(\"https://static.streamlit.io/examples/cat.jpg\")\n",
        "\n",
        "with col2:\n",
        "  st.header(\"A dog\")\n",
        "  st.image(\"https://static.streamlit.io/examples/dog.jpg\")\n",
        "\n",
        "with col3:\n",
        "  st.header(\"An owl\")\n",
        "  st.image(\"https://static.streamlit.io/examples/owl.jpg\")\n",
        "```\n",
        "\n",
        "Or you can just call methods directly in the returned objects:\n",
        "\n",
        "```py\n",
        "col1, col2 = st.columns([3, 1])\n",
        "data = np.random.randn(10, 1)\n",
        "\n",
        "col1.subheader(\"A wide column with a chart\")\n",
        "col1.line_chart(data)\n",
        "\n",
        "col2.subheader(\"A narrow column with the data\")\n",
        "col2.write(data)\n",
        "```"
      ],
      "metadata": {
        "id": "-VdetiBRQVqW"
      }
    },
    {
      "cell_type": "markdown",
      "source": [
        "### A.8.20 - Streamlit Container"
      ],
      "metadata": {
        "id": "q5wBiZqiQ0r3"
      }
    },
    {
      "cell_type": "markdown",
      "source": [
        "Inserts an invisible container into your app that can be used to hold multiple elements. This allows you to, for example, insert multiple elements into your app out of order.\n",
        "\n",
        "To add elements to the returned container, you can use `with` notation (preferred) or just call methods directly on the returned object. See examples below.\n",
        "\n",
        "```py\n",
        "with st.container():\n",
        "  st.write(\"This is inside the container\")\n",
        "\n",
        "  # You can call any Streamlit command, including custom components:\n",
        "  st.bar_chart(np.random.randn(50, 3))\n",
        "\n",
        "st.write(\"This is outside the container\")\n",
        "```"
      ],
      "metadata": {
        "id": "CqQXvNNFQxur"
      }
    },
    {
      "cell_type": "markdown",
      "source": [
        "### A.8.21 - Page Config"
      ],
      "metadata": {
        "id": "K7_ibOMLRGz2"
      }
    },
    {
      "cell_type": "markdown",
      "source": [
        "Configures the default settings of the page using `st.set_page_config()`.\n",
        "\n",
        "```py\n",
        "st.set_page_config(\n",
        "    page_title=\"Ex-stream-ly Cool App\",\n",
        "    page_icon=\"🧊\",\n",
        "    layout=\"wide\",\n",
        "    initial_sidebar_state=\"expanded\",\n",
        "    menu_items={\n",
        "        'Get Help': 'https://www.extremelycoolapp.com/help',\n",
        "        'Report a bug': \"https://www.extremelycoolapp.com/bug\",\n",
        "        'About': \"# This is a header. This is an *extremely* cool app!\"\n",
        "    }\n",
        ")\n",
        "```"
      ],
      "metadata": {
        "id": "moi626nvRJLx"
      }
    },
    {
      "cell_type": "markdown",
      "source": [
        "*API Cheatsheet [here](https://share.streamlit.io/daniellewisdl/streamlit-cheat-sheet/app.py) or [here](https://docs.streamlit.io/library/api-reference)*"
      ],
      "metadata": {
        "id": "wcG2J2rwQEng"
      }
    },
    {
      "cell_type": "markdown",
      "source": [
        "---\n",
        "## A.9 - Multipage Streamlit"
      ],
      "metadata": {
        "id": "i02mykw3RSa4"
      }
    },
    {
      "cell_type": "markdown",
      "source": [
        "We can create multiple apps and navigate across each of them in a main app using a radio button. Let’s see how to do that.\n",
        "\n",
        "1. Create file `app1.py` and `app2.py`.\n",
        "   ```py\n",
        "   # Contents of `app1.py`\n",
        "   import streamlit as st\n",
        "   def app():\n",
        "       st.title('APP1')\n",
        "       st.write('Welcome to app1')\n",
        "   ```\n",
        "\n",
        "   ```py\n",
        "   # Contents of `app2.py`\n",
        "   import streamlit as st\n",
        "   def app():\n",
        "       st.title('APP2')\n",
        "       st.write('Welcome to app2')\n",
        "   ```\n",
        "\n",
        "2. Create a main app. Let's say `main.py` and add a navigator using radio or select buttons.\n",
        "\n",
        "   ```py\n",
        "   # Contents of main.py\n",
        "   import app1\n",
        "   import app2\n",
        "   import streamlit as st\n",
        "   PAGES = {\n",
        "       \"App1\": app1,\n",
        "       \"App2\": app2\n",
        "   }\n",
        "   st.sidebar.title('Navigation')\n",
        "   selection = st.sidebar.radio(\"Go to\", list(PAGES.keys()))\n",
        "   page = PAGES[selection]\n",
        "   page.app()\n",
        "   ```\n",
        "\n",
        "3. Now you run the `main.py` to access and navigate through both the apps."
      ],
      "metadata": {
        "id": "gSY-I8XFRWD8"
      }
    },
    {
      "cell_type": "markdown",
      "source": [
        "---\n",
        "## A.10 - App Exercise"
      ],
      "metadata": {
        "id": "MOBNRezgI91C"
      }
    },
    {
      "cell_type": "markdown",
      "source": [
        "Streamlit is more than just a way to make data apps, it’s also a community of creators that share their apps and ideas and help each other make their work better. Please come join us on the community forum."
      ],
      "metadata": {
        "id": "8yr6iYqGJO5t"
      }
    },
    {
      "cell_type": "markdown",
      "metadata": {
        "id": "dd225bp-NtH_"
      },
      "source": [
        "### A.10.1 - Create A New Python File\n",
        "\n",
        "The first step is to create a new Python script. Let's call it `uber_pickups.py`.\n",
        "\n",
        "Open `uber_pickups.py` in your favorite IDE or text editor, then add these lines:\n",
        "\n",
        "```py\n",
        "import streamlit as st\n",
        "import pandas as pd\n",
        "import numpy as np\n",
        "```\n",
        "\n",
        "Every good app has a title, so let's add one:\n",
        "\n",
        "`st.title('Uber pickups in NYC')`\n",
        "\n",
        "Now it's time to run Streamlit from the command line:\n",
        "```\n",
        "streamlit run uber_pickups.py\n",
        "```\n",
        "\n",
        "Running a Streamlit app is no different than any other Python script. Whenever you need to view the app, you can use this command"
      ]
    },
    {
      "cell_type": "markdown",
      "source": [
        "### A.10.2 - Fetch Data"
      ],
      "metadata": {
        "id": "H7mextdwJfci"
      }
    },
    {
      "cell_type": "markdown",
      "metadata": {
        "id": "oUrWCtX2Opo4"
      },
      "source": [
        "Now that you have an app, the next thing you'll need to do is fetch the Uber dataset for pickups and drop-offs in New York City.\n",
        "\n",
        "Let's start by writing a function to load the data. Add this code to your script:\n",
        "\n",
        "```py\n",
        "DATE_COLUMN = 'date/time'\n",
        "DATA_URL = ('https://s3-us-west-2.amazonaws.com/'\n",
        "         'streamlit-demo-data/uber-raw-data-sep14.csv.gz')\n",
        "\n",
        "def load_data(nrows):\n",
        "    data = pd.read_csv(DATA_URL, nrows=nrows)\n",
        "    lowercase = lambda x: str(x).lower()\n",
        "    data.rename(lowercase, axis='columns', inplace=True)\n",
        "    data[DATE_COLUMN] = pd.to_datetime(data[DATE_COLUMN])\n",
        "    return data\n",
        "```\n",
        "\n",
        "You'll notice that `load_data` is a plain old function that downloads some data, puts it in a Pandas dataframe, and converts the date column from text to datetime. The function accepts a single parameter (`nrows`), which specifies the number of rows that you want to load into the dataframe.\n",
        "\n",
        "Now let's test the function and review the output. Below your function, add these lines:\n",
        "\n",
        "```py\n",
        "# Create a text element and let the reader know the data is loading.\n",
        "data_load_state = st.text('Loading data...')\n",
        "\n",
        "# Load 10,000 rows of data into the dataframe.\n",
        "data = load_data(10000)\n",
        "\n",
        "# Notify the reader that the data was successfully loaded.\n",
        "data_load_state.text('Loading data...done!')\n",
        "```\n",
        "\n",
        "You'll see a few buttons in the upper-right corner of your app asking if you'd like to rerun the app. Choose `Always rerun`, and you'll see your changes automatically each time you save"
      ]
    },
    {
      "cell_type": "markdown",
      "source": [
        "### A.10.3 - Effortless Caching"
      ],
      "metadata": {
        "id": "GNcg4s00J1ty"
      }
    },
    {
      "cell_type": "markdown",
      "metadata": {
        "id": "u1KGNYqGPaV_"
      },
      "source": [
        "Try adding `@st.cache` before the `load_data` declaration:\n",
        "\n",
        "```py\n",
        "@st.cache\n",
        "def load_data(nrows):\n",
        "```\n",
        "\n",
        "Then save the script, and Streamlit will automatically rerun your app. Since this is the first time you’re running the script with `@st.cache`, you won't see anything change. Let’s tweak your file a little bit more so that you can see the power of caching.\n",
        "\n",
        "Replace the line `data_load_state.text('Loading data...done!')` with this:\n",
        "\n",
        "```\n",
        "data_load_state.text(\"Done! (using st.cache)\")\n",
        "```\n",
        "\n",
        "Now save. See how the line you added appeared immediately? If you take a step back for a second, this is actually quite amazing. Something magical is happening behind the scenes, and it only takes one line of code to activate it."
      ]
    },
    {
      "cell_type": "markdown",
      "source": [
        "### A.10.4 - Inspect the Raw Data"
      ],
      "metadata": {
        "id": "IUQt0crjLgMV"
      }
    },
    {
      "cell_type": "markdown",
      "metadata": {
        "id": "XzNvn9HdP-Hy"
      },
      "source": [
        "It's always a good idea to take a look at the raw data you're working with before you start working with it. Let's add a subheader and a printout of the raw data to the app:\n",
        "\n",
        "```py\n",
        "st.subheader('Raw data')\n",
        "st.write(data)\n",
        "```\n",
        "\n",
        "In the previous section, you learned that `st.write` will render almost anything you pass to it. In this case, you're passing in a dataframe and it's rendering as an interactive table.\n",
        "\n",
        "`st.write` tries to do the right thing based on the data type of the input. If it isn't doing what you expect you can use a specialized command like `st.dataframe` instead."
      ]
    },
    {
      "cell_type": "markdown",
      "source": [
        "### A.10.5 - Draw A Histogram"
      ],
      "metadata": {
        "id": "G2qZQ36KMUTd"
      }
    },
    {
      "cell_type": "markdown",
      "metadata": {
        "id": "j_iaLBeGpWye"
      },
      "source": [
        "Now that you've had a chance to take a look at the dataset and observe what's available, let's take things a step further and draw a histogram to see what Uber's busiest hours are in New York City.\n",
        "\n",
        "* To start, let's add a subheader just below the raw data section:\n",
        "   ```\n",
        "   `st.subheader('Number of pickups by hour')`\n",
        "   ```\n",
        "\n",
        "* Use `NumPy` to generate a histogram that breaks down pickup times binned by hour:\n",
        "\n",
        "   ```py\n",
        "   hist_values = np.histogram(data[DATE_COLUMN].dt.hour, bins=24, range=(0,24))[0]\n",
        "   ```\n",
        "\n",
        "* Now, let's use Streamlit's `st.bar_chart()` method to draw this histogram.\n",
        "\n",
        "   ```\n",
        "   st.bar_chart(hist_values)\n",
        "   ```\n",
        "\n",
        "* Save your script. This histogram should show up in your app right away. After a quick review, it looks like the busiest time is `17:00 (5 P.M.)`.\n",
        "\n",
        "To draw this diagram we used Streamlit's native `st.bar_chart()` method, but it's important to know that Streamlit supports more complex charting libraries like `Altair`, `Bokeh`, `Plotly`, `Matplotlib`, and more."
      ]
    },
    {
      "cell_type": "markdown",
      "source": [
        "### A.10.6 - Plot Data on A Map"
      ],
      "metadata": {
        "id": "mEkXrduIM3Jn"
      }
    },
    {
      "cell_type": "markdown",
      "metadata": {
        "id": "gxeJUi8opjuE"
      },
      "source": [
        "Using a histogram with Uber's dataset helped us determine what the busiest times are for pickups, but **what if we wanted to figure out where pickups were concentrated throughout the city ?** While you could use a bar chart to show this data, it wouldn't be easy to interpret unless you were intimately familiar with latitudinal and longitudinal coordinates in the city. To show pickup concentration, let's use Streamlit `st.map()` function to overlay the data on a map of New York City.\n",
        "\n",
        "* Add a subheader for the section:\n",
        "   ```\n",
        "   st.subheader('Map of all pickups')\n",
        "   ```\n",
        "\n",
        "* Use the `st.map()` function to plot the data:\n",
        "   ```\n",
        "   st.map(data)\n",
        "   ```\n",
        "\n",
        "* Save your script. The map is fully interactive. Give it a try by panning or zooming in a bit."
      ]
    },
    {
      "cell_type": "markdown",
      "source": [
        "---\n",
        "After drawing your histogram, you determined that the busiest hour for Uber pickups was `17:00`. Let's redraw the map to show the concentration of pickups at `17:00`.\n",
        "\n",
        "* Locate the following code snippet:\n",
        "   ```py\n",
        "   st.subheader('Map of all pickups')\n",
        "   st.map(data)\n",
        "   ```\n",
        "\n",
        "* Replace it with:\n",
        "   ```py\n",
        "   hour_to_filter = 17\n",
        "   filtered_data = data[data[DATE_COLUMN].dt.hour == hour_to_filter]\n",
        "   st.subheader(f'Map of all pickups at {hour_to_filter}:00')\n",
        "   st.map(filtered_data)\n",
        "   ```\n",
        "\n",
        "* You should see the data update instantly.\n",
        "\n",
        "To draw this map, we used the `st.map()` function that's built into Streamlit, but if you'd like to visualize complex map data, we encourage you to take a look at the `st.pydeck_chart()`."
      ],
      "metadata": {
        "id": "zmgf7RIYNpzp"
      }
    },
    {
      "cell_type": "markdown",
      "source": [
        "### A.10.7 - Filter Results with A Slider"
      ],
      "metadata": {
        "id": "ZSTueuVhNtPv"
      }
    },
    {
      "cell_type": "markdown",
      "source": [
        "In the last section, when you drew the map, the time used to filter results was hardcoded into the script, but what if we wanted to let a reader dynamically filter the data in real time? Using Streamlit's widgets you can. Let's add a slider to the app with the `st.slider()` method.\n",
        "\n",
        "* Locate hour_to_filter and replace it with this code snippet:\n",
        "   ```\n",
        "   hour_to_filter = st.slider('hour', 0, 23, 17)  # min: 0h, max: 23h, default: 17h\n",
        "   ```\n",
        "\n",
        "* Use the slider and watch the map update in real time."
      ],
      "metadata": {
        "id": "SITIsjSfN7Sf"
      }
    },
    {
      "cell_type": "markdown",
      "source": [
        "### A.10.8 - Use A Button to Toggle Data"
      ],
      "metadata": {
        "id": "VYRutqKHN9pT"
      }
    },
    {
      "cell_type": "markdown",
      "metadata": {
        "id": "J93AlIx_p1mR"
      },
      "source": [
        "Sliders are just one way to dynamically change the composition of your app. Let's use the `st.checkbox` function to add a checkbox to your app. We'll use this checkbox to show/hide the raw data table at the top of your app.\n",
        "\n",
        "* Locate these lines:\n",
        "   ```py\n",
        "   st.subheader('Raw data')\n",
        "   st.write(data)\n",
        "   ```\n",
        "\n",
        "* Replace these lines with the following code:\n",
        "   ```\n",
        "   if st.checkbox('Show raw data'):\n",
        "       st.subheader('Raw data')\n",
        "       st.write(data)\n",
        "   ```"
      ]
    },
    {
      "cell_type": "markdown",
      "source": [
        "### A.10.9 - Let's Put It All Together"
      ],
      "metadata": {
        "id": "_MWP0sROONXI"
      }
    },
    {
      "cell_type": "markdown",
      "metadata": {
        "id": "q2vHnuLJqFWa"
      },
      "source": [
        "\n",
        "\n",
        "That's it, you've made it to the end. Here's the complete script for our interactive app.\n",
        "\n",
        "```py\n",
        "import streamlit as st\n",
        "import pandas as pd\n",
        "import numpy as np\n",
        "\n",
        "st.title('Uber pickups in NYC')\n",
        "\n",
        "DATE_COLUMN = 'date/time'\n",
        "DATA_URL = ('https://s3-us-west-2.amazonaws.com/'\n",
        "            'streamlit-demo-data/uber-raw-data-sep14.csv.gz')\n",
        "\n",
        "@st.cache\n",
        "def load_data(nrows):\n",
        "    data = pd.read_csv(DATA_URL, nrows=nrows)\n",
        "    lowercase = lambda x: str(x).lower()\n",
        "    data.rename(lowercase, axis='columns', inplace=True)\n",
        "    data[DATE_COLUMN] = pd.to_datetime(data[DATE_COLUMN])\n",
        "    return data\n",
        "\n",
        "data_load_state = st.text('Loading data...')\n",
        "data = load_data(10000)\n",
        "data_load_state.text(\"Done! (using st.cache)\")\n",
        "\n",
        "if st.checkbox('Show raw data'):\n",
        "    st.subheader('Raw data')\n",
        "    st.write(data)\n",
        "\n",
        "st.subheader('Number of pickups by hour')\n",
        "hist_values = np.histogram(data[DATE_COLUMN].dt.hour, bins=24, range=(0,24))[0]\n",
        "st.bar_chart(hist_values)\n",
        "\n",
        "# Some number in the range 0-23\n",
        "hour_to_filter = st.slider('hour', 0, 23, 17)\n",
        "filtered_data = data[data[DATE_COLUMN].dt.hour == hour_to_filter]\n",
        "\n",
        "st.subheader('Map of all pickups at %s:00' % hour_to_filter)\n",
        "st.map(filtered_data)\n",
        "```\n"
      ]
    },
    {
      "cell_type": "markdown",
      "source": [
        "# B. HuggingFace"
      ],
      "metadata": {
        "id": "SPJlHsFowXdm"
      }
    },
    {
      "cell_type": "markdown",
      "source": [
        "---\n",
        "## B.1 - Make Your Own Model"
      ],
      "metadata": {
        "id": "hCAqBr-Kf5lC"
      }
    },
    {
      "cell_type": "markdown",
      "source": [
        "Campus recruitment is a strategy for sourcing, engaging and hiring young talent for internship and entry-level positions. College recruiting is typically a tactic for medium- to large-sized companies with high-volume recruiting needs, but can range from small efforts (like working with university career centers to source potential candidates) to large-scale operations (like visiting a wide array of colleges and attending recruiting events throughout the spring and fall semester). Campus recruitment often involves working with university career services centers and attending career fairs to meet in-person with college students and recent graduates.\n",
        "\n",
        "Context of our Dataset: Our dataset revolves around the placement season of a Business School in India. Where it has various factors on candidates getting hired such as work experience,exam percentage etc., Finally it contains the status of recruitment and remuneration details."
      ],
      "metadata": {
        "id": "9zdoOBt7uCTu"
      }
    },
    {
      "cell_type": "code",
      "source": [
        "import pandas as pd\n",
        "import numpy as np\n",
        "import matplotlib.pyplot as plt\n",
        "import seaborn as sns\n",
        "import sklearn\n",
        "%matplotlib inline"
      ],
      "metadata": {
        "id": "J-jzv_U0gbGr"
      },
      "execution_count": 1,
      "outputs": []
    },
    {
      "cell_type": "code",
      "source": [
        "#Loading the single csv file to a variable named 'placement'\n",
        "placement=pd.read_csv('https://raw.githubusercontent.com/FTDS-learning-materials/phase-1/master/w2/P1W2D4PM%20-%20Model%20Deployment%20-%20Campus.csv')\n",
        "placement_copy=placement.copy()\n",
        "placement_copy.head()"
      ],
      "metadata": {
        "id": "24RXVtHdhHlA",
        "colab": {
          "base_uri": "https://localhost:8080/",
          "height": 206
        },
        "outputId": "6469e4eb-b508-4d80-f35f-fe92a380de91"
      },
      "execution_count": 2,
      "outputs": [
        {
          "output_type": "execute_result",
          "data": {
            "text/plain": [
              "   sl_no gender  ssc_p    ssc_b  hsc_p    hsc_b     hsc_s  degree_p  \\\n",
              "0      1      M  67.00   Others  91.00   Others  Commerce     58.00   \n",
              "1      2      M  79.33  Central  78.33   Others   Science     77.48   \n",
              "2      3      M  65.00  Central  68.00  Central      Arts     64.00   \n",
              "3      4      M  56.00  Central  52.00  Central   Science     52.00   \n",
              "4      5      M  85.80  Central  73.60  Central  Commerce     73.30   \n",
              "\n",
              "    degree_t workex  etest_p specialisation  mba_p      status    salary  \n",
              "0   Sci&Tech     No     55.0         Mkt&HR  58.80      Placed  270000.0  \n",
              "1   Sci&Tech    Yes     86.5        Mkt&Fin  66.28      Placed  200000.0  \n",
              "2  Comm&Mgmt     No     75.0        Mkt&Fin  57.80      Placed  250000.0  \n",
              "3   Sci&Tech     No     66.0         Mkt&HR  59.43  Not Placed       NaN  \n",
              "4  Comm&Mgmt     No     96.8        Mkt&Fin  55.50      Placed  425000.0  "
            ],
            "text/html": [
              "\n",
              "  <div id=\"df-898f1c42-2436-4ec3-8478-4e0a709c8a41\" class=\"colab-df-container\">\n",
              "    <div>\n",
              "<style scoped>\n",
              "    .dataframe tbody tr th:only-of-type {\n",
              "        vertical-align: middle;\n",
              "    }\n",
              "\n",
              "    .dataframe tbody tr th {\n",
              "        vertical-align: top;\n",
              "    }\n",
              "\n",
              "    .dataframe thead th {\n",
              "        text-align: right;\n",
              "    }\n",
              "</style>\n",
              "<table border=\"1\" class=\"dataframe\">\n",
              "  <thead>\n",
              "    <tr style=\"text-align: right;\">\n",
              "      <th></th>\n",
              "      <th>sl_no</th>\n",
              "      <th>gender</th>\n",
              "      <th>ssc_p</th>\n",
              "      <th>ssc_b</th>\n",
              "      <th>hsc_p</th>\n",
              "      <th>hsc_b</th>\n",
              "      <th>hsc_s</th>\n",
              "      <th>degree_p</th>\n",
              "      <th>degree_t</th>\n",
              "      <th>workex</th>\n",
              "      <th>etest_p</th>\n",
              "      <th>specialisation</th>\n",
              "      <th>mba_p</th>\n",
              "      <th>status</th>\n",
              "      <th>salary</th>\n",
              "    </tr>\n",
              "  </thead>\n",
              "  <tbody>\n",
              "    <tr>\n",
              "      <th>0</th>\n",
              "      <td>1</td>\n",
              "      <td>M</td>\n",
              "      <td>67.00</td>\n",
              "      <td>Others</td>\n",
              "      <td>91.00</td>\n",
              "      <td>Others</td>\n",
              "      <td>Commerce</td>\n",
              "      <td>58.00</td>\n",
              "      <td>Sci&amp;Tech</td>\n",
              "      <td>No</td>\n",
              "      <td>55.0</td>\n",
              "      <td>Mkt&amp;HR</td>\n",
              "      <td>58.80</td>\n",
              "      <td>Placed</td>\n",
              "      <td>270000.0</td>\n",
              "    </tr>\n",
              "    <tr>\n",
              "      <th>1</th>\n",
              "      <td>2</td>\n",
              "      <td>M</td>\n",
              "      <td>79.33</td>\n",
              "      <td>Central</td>\n",
              "      <td>78.33</td>\n",
              "      <td>Others</td>\n",
              "      <td>Science</td>\n",
              "      <td>77.48</td>\n",
              "      <td>Sci&amp;Tech</td>\n",
              "      <td>Yes</td>\n",
              "      <td>86.5</td>\n",
              "      <td>Mkt&amp;Fin</td>\n",
              "      <td>66.28</td>\n",
              "      <td>Placed</td>\n",
              "      <td>200000.0</td>\n",
              "    </tr>\n",
              "    <tr>\n",
              "      <th>2</th>\n",
              "      <td>3</td>\n",
              "      <td>M</td>\n",
              "      <td>65.00</td>\n",
              "      <td>Central</td>\n",
              "      <td>68.00</td>\n",
              "      <td>Central</td>\n",
              "      <td>Arts</td>\n",
              "      <td>64.00</td>\n",
              "      <td>Comm&amp;Mgmt</td>\n",
              "      <td>No</td>\n",
              "      <td>75.0</td>\n",
              "      <td>Mkt&amp;Fin</td>\n",
              "      <td>57.80</td>\n",
              "      <td>Placed</td>\n",
              "      <td>250000.0</td>\n",
              "    </tr>\n",
              "    <tr>\n",
              "      <th>3</th>\n",
              "      <td>4</td>\n",
              "      <td>M</td>\n",
              "      <td>56.00</td>\n",
              "      <td>Central</td>\n",
              "      <td>52.00</td>\n",
              "      <td>Central</td>\n",
              "      <td>Science</td>\n",
              "      <td>52.00</td>\n",
              "      <td>Sci&amp;Tech</td>\n",
              "      <td>No</td>\n",
              "      <td>66.0</td>\n",
              "      <td>Mkt&amp;HR</td>\n",
              "      <td>59.43</td>\n",
              "      <td>Not Placed</td>\n",
              "      <td>NaN</td>\n",
              "    </tr>\n",
              "    <tr>\n",
              "      <th>4</th>\n",
              "      <td>5</td>\n",
              "      <td>M</td>\n",
              "      <td>85.80</td>\n",
              "      <td>Central</td>\n",
              "      <td>73.60</td>\n",
              "      <td>Central</td>\n",
              "      <td>Commerce</td>\n",
              "      <td>73.30</td>\n",
              "      <td>Comm&amp;Mgmt</td>\n",
              "      <td>No</td>\n",
              "      <td>96.8</td>\n",
              "      <td>Mkt&amp;Fin</td>\n",
              "      <td>55.50</td>\n",
              "      <td>Placed</td>\n",
              "      <td>425000.0</td>\n",
              "    </tr>\n",
              "  </tbody>\n",
              "</table>\n",
              "</div>\n",
              "    <div class=\"colab-df-buttons\">\n",
              "\n",
              "  <div class=\"colab-df-container\">\n",
              "    <button class=\"colab-df-convert\" onclick=\"convertToInteractive('df-898f1c42-2436-4ec3-8478-4e0a709c8a41')\"\n",
              "            title=\"Convert this dataframe to an interactive table.\"\n",
              "            style=\"display:none;\">\n",
              "\n",
              "  <svg xmlns=\"http://www.w3.org/2000/svg\" height=\"24px\" viewBox=\"0 -960 960 960\">\n",
              "    <path d=\"M120-120v-720h720v720H120Zm60-500h600v-160H180v160Zm220 220h160v-160H400v160Zm0 220h160v-160H400v160ZM180-400h160v-160H180v160Zm440 0h160v-160H620v160ZM180-180h160v-160H180v160Zm440 0h160v-160H620v160Z\"/>\n",
              "  </svg>\n",
              "    </button>\n",
              "\n",
              "  <style>\n",
              "    .colab-df-container {\n",
              "      display:flex;\n",
              "      gap: 12px;\n",
              "    }\n",
              "\n",
              "    .colab-df-convert {\n",
              "      background-color: #E8F0FE;\n",
              "      border: none;\n",
              "      border-radius: 50%;\n",
              "      cursor: pointer;\n",
              "      display: none;\n",
              "      fill: #1967D2;\n",
              "      height: 32px;\n",
              "      padding: 0 0 0 0;\n",
              "      width: 32px;\n",
              "    }\n",
              "\n",
              "    .colab-df-convert:hover {\n",
              "      background-color: #E2EBFA;\n",
              "      box-shadow: 0px 1px 2px rgba(60, 64, 67, 0.3), 0px 1px 3px 1px rgba(60, 64, 67, 0.15);\n",
              "      fill: #174EA6;\n",
              "    }\n",
              "\n",
              "    .colab-df-buttons div {\n",
              "      margin-bottom: 4px;\n",
              "    }\n",
              "\n",
              "    [theme=dark] .colab-df-convert {\n",
              "      background-color: #3B4455;\n",
              "      fill: #D2E3FC;\n",
              "    }\n",
              "\n",
              "    [theme=dark] .colab-df-convert:hover {\n",
              "      background-color: #434B5C;\n",
              "      box-shadow: 0px 1px 3px 1px rgba(0, 0, 0, 0.15);\n",
              "      filter: drop-shadow(0px 1px 2px rgba(0, 0, 0, 0.3));\n",
              "      fill: #FFFFFF;\n",
              "    }\n",
              "  </style>\n",
              "\n",
              "    <script>\n",
              "      const buttonEl =\n",
              "        document.querySelector('#df-898f1c42-2436-4ec3-8478-4e0a709c8a41 button.colab-df-convert');\n",
              "      buttonEl.style.display =\n",
              "        google.colab.kernel.accessAllowed ? 'block' : 'none';\n",
              "\n",
              "      async function convertToInteractive(key) {\n",
              "        const element = document.querySelector('#df-898f1c42-2436-4ec3-8478-4e0a709c8a41');\n",
              "        const dataTable =\n",
              "          await google.colab.kernel.invokeFunction('convertToInteractive',\n",
              "                                                    [key], {});\n",
              "        if (!dataTable) return;\n",
              "\n",
              "        const docLinkHtml = 'Like what you see? Visit the ' +\n",
              "          '<a target=\"_blank\" href=https://colab.research.google.com/notebooks/data_table.ipynb>data table notebook</a>'\n",
              "          + ' to learn more about interactive tables.';\n",
              "        element.innerHTML = '';\n",
              "        dataTable['output_type'] = 'display_data';\n",
              "        await google.colab.output.renderOutput(dataTable, element);\n",
              "        const docLink = document.createElement('div');\n",
              "        docLink.innerHTML = docLinkHtml;\n",
              "        element.appendChild(docLink);\n",
              "      }\n",
              "    </script>\n",
              "  </div>\n",
              "\n",
              "\n",
              "<div id=\"df-2cac0749-f809-49ed-b1ad-8ad2a424a994\">\n",
              "  <button class=\"colab-df-quickchart\" onclick=\"quickchart('df-2cac0749-f809-49ed-b1ad-8ad2a424a994')\"\n",
              "            title=\"Suggest charts\"\n",
              "            style=\"display:none;\">\n",
              "\n",
              "<svg xmlns=\"http://www.w3.org/2000/svg\" height=\"24px\"viewBox=\"0 0 24 24\"\n",
              "     width=\"24px\">\n",
              "    <g>\n",
              "        <path d=\"M19 3H5c-1.1 0-2 .9-2 2v14c0 1.1.9 2 2 2h14c1.1 0 2-.9 2-2V5c0-1.1-.9-2-2-2zM9 17H7v-7h2v7zm4 0h-2V7h2v10zm4 0h-2v-4h2v4z\"/>\n",
              "    </g>\n",
              "</svg>\n",
              "  </button>\n",
              "\n",
              "<style>\n",
              "  .colab-df-quickchart {\n",
              "      --bg-color: #E8F0FE;\n",
              "      --fill-color: #1967D2;\n",
              "      --hover-bg-color: #E2EBFA;\n",
              "      --hover-fill-color: #174EA6;\n",
              "      --disabled-fill-color: #AAA;\n",
              "      --disabled-bg-color: #DDD;\n",
              "  }\n",
              "\n",
              "  [theme=dark] .colab-df-quickchart {\n",
              "      --bg-color: #3B4455;\n",
              "      --fill-color: #D2E3FC;\n",
              "      --hover-bg-color: #434B5C;\n",
              "      --hover-fill-color: #FFFFFF;\n",
              "      --disabled-bg-color: #3B4455;\n",
              "      --disabled-fill-color: #666;\n",
              "  }\n",
              "\n",
              "  .colab-df-quickchart {\n",
              "    background-color: var(--bg-color);\n",
              "    border: none;\n",
              "    border-radius: 50%;\n",
              "    cursor: pointer;\n",
              "    display: none;\n",
              "    fill: var(--fill-color);\n",
              "    height: 32px;\n",
              "    padding: 0;\n",
              "    width: 32px;\n",
              "  }\n",
              "\n",
              "  .colab-df-quickchart:hover {\n",
              "    background-color: var(--hover-bg-color);\n",
              "    box-shadow: 0 1px 2px rgba(60, 64, 67, 0.3), 0 1px 3px 1px rgba(60, 64, 67, 0.15);\n",
              "    fill: var(--button-hover-fill-color);\n",
              "  }\n",
              "\n",
              "  .colab-df-quickchart-complete:disabled,\n",
              "  .colab-df-quickchart-complete:disabled:hover {\n",
              "    background-color: var(--disabled-bg-color);\n",
              "    fill: var(--disabled-fill-color);\n",
              "    box-shadow: none;\n",
              "  }\n",
              "\n",
              "  .colab-df-spinner {\n",
              "    border: 2px solid var(--fill-color);\n",
              "    border-color: transparent;\n",
              "    border-bottom-color: var(--fill-color);\n",
              "    animation:\n",
              "      spin 1s steps(1) infinite;\n",
              "  }\n",
              "\n",
              "  @keyframes spin {\n",
              "    0% {\n",
              "      border-color: transparent;\n",
              "      border-bottom-color: var(--fill-color);\n",
              "      border-left-color: var(--fill-color);\n",
              "    }\n",
              "    20% {\n",
              "      border-color: transparent;\n",
              "      border-left-color: var(--fill-color);\n",
              "      border-top-color: var(--fill-color);\n",
              "    }\n",
              "    30% {\n",
              "      border-color: transparent;\n",
              "      border-left-color: var(--fill-color);\n",
              "      border-top-color: var(--fill-color);\n",
              "      border-right-color: var(--fill-color);\n",
              "    }\n",
              "    40% {\n",
              "      border-color: transparent;\n",
              "      border-right-color: var(--fill-color);\n",
              "      border-top-color: var(--fill-color);\n",
              "    }\n",
              "    60% {\n",
              "      border-color: transparent;\n",
              "      border-right-color: var(--fill-color);\n",
              "    }\n",
              "    80% {\n",
              "      border-color: transparent;\n",
              "      border-right-color: var(--fill-color);\n",
              "      border-bottom-color: var(--fill-color);\n",
              "    }\n",
              "    90% {\n",
              "      border-color: transparent;\n",
              "      border-bottom-color: var(--fill-color);\n",
              "    }\n",
              "  }\n",
              "</style>\n",
              "\n",
              "  <script>\n",
              "    async function quickchart(key) {\n",
              "      const quickchartButtonEl =\n",
              "        document.querySelector('#' + key + ' button');\n",
              "      quickchartButtonEl.disabled = true;  // To prevent multiple clicks.\n",
              "      quickchartButtonEl.classList.add('colab-df-spinner');\n",
              "      try {\n",
              "        const charts = await google.colab.kernel.invokeFunction(\n",
              "            'suggestCharts', [key], {});\n",
              "      } catch (error) {\n",
              "        console.error('Error during call to suggestCharts:', error);\n",
              "      }\n",
              "      quickchartButtonEl.classList.remove('colab-df-spinner');\n",
              "      quickchartButtonEl.classList.add('colab-df-quickchart-complete');\n",
              "    }\n",
              "    (() => {\n",
              "      let quickchartButtonEl =\n",
              "        document.querySelector('#df-2cac0749-f809-49ed-b1ad-8ad2a424a994 button');\n",
              "      quickchartButtonEl.style.display =\n",
              "        google.colab.kernel.accessAllowed ? 'block' : 'none';\n",
              "    })();\n",
              "  </script>\n",
              "</div>\n",
              "\n",
              "    </div>\n",
              "  </div>\n"
            ],
            "application/vnd.google.colaboratory.intrinsic+json": {
              "type": "dataframe",
              "variable_name": "placement_copy",
              "summary": "{\n  \"name\": \"placement_copy\",\n  \"rows\": 215,\n  \"fields\": [\n    {\n      \"column\": \"sl_no\",\n      \"properties\": {\n        \"dtype\": \"number\",\n        \"std\": 62,\n        \"min\": 1,\n        \"max\": 215,\n        \"num_unique_values\": 215,\n        \"samples\": [\n          201,\n          213,\n          139\n        ],\n        \"semantic_type\": \"\",\n        \"description\": \"\"\n      }\n    },\n    {\n      \"column\": \"gender\",\n      \"properties\": {\n        \"dtype\": \"category\",\n        \"num_unique_values\": 2,\n        \"samples\": [\n          \"F\",\n          \"M\"\n        ],\n        \"semantic_type\": \"\",\n        \"description\": \"\"\n      }\n    },\n    {\n      \"column\": \"ssc_p\",\n      \"properties\": {\n        \"dtype\": \"number\",\n        \"std\": 10.827205398231452,\n        \"min\": 40.89,\n        \"max\": 89.4,\n        \"num_unique_values\": 103,\n        \"samples\": [\n          74.0,\n          73.96\n        ],\n        \"semantic_type\": \"\",\n        \"description\": \"\"\n      }\n    },\n    {\n      \"column\": \"ssc_b\",\n      \"properties\": {\n        \"dtype\": \"category\",\n        \"num_unique_values\": 2,\n        \"samples\": [\n          \"Central\",\n          \"Others\"\n        ],\n        \"semantic_type\": \"\",\n        \"description\": \"\"\n      }\n    },\n    {\n      \"column\": \"hsc_p\",\n      \"properties\": {\n        \"dtype\": \"number\",\n        \"std\": 10.89750915750298,\n        \"min\": 37.0,\n        \"max\": 97.7,\n        \"num_unique_values\": 97,\n        \"samples\": [\n          82.0,\n          73.2\n        ],\n        \"semantic_type\": \"\",\n        \"description\": \"\"\n      }\n    },\n    {\n      \"column\": \"hsc_b\",\n      \"properties\": {\n        \"dtype\": \"category\",\n        \"num_unique_values\": 2,\n        \"samples\": [\n          \"Central\",\n          \"Others\"\n        ],\n        \"semantic_type\": \"\",\n        \"description\": \"\"\n      }\n    },\n    {\n      \"column\": \"hsc_s\",\n      \"properties\": {\n        \"dtype\": \"category\",\n        \"num_unique_values\": 3,\n        \"samples\": [\n          \"Commerce\",\n          \"Science\"\n        ],\n        \"semantic_type\": \"\",\n        \"description\": \"\"\n      }\n    },\n    {\n      \"column\": \"degree_p\",\n      \"properties\": {\n        \"dtype\": \"number\",\n        \"std\": 7.35874328733944,\n        \"min\": 50.0,\n        \"max\": 91.0,\n        \"num_unique_values\": 89,\n        \"samples\": [\n          71.72,\n          76.0\n        ],\n        \"semantic_type\": \"\",\n        \"description\": \"\"\n      }\n    },\n    {\n      \"column\": \"degree_t\",\n      \"properties\": {\n        \"dtype\": \"category\",\n        \"num_unique_values\": 3,\n        \"samples\": [\n          \"Sci&Tech\",\n          \"Comm&Mgmt\"\n        ],\n        \"semantic_type\": \"\",\n        \"description\": \"\"\n      }\n    },\n    {\n      \"column\": \"workex\",\n      \"properties\": {\n        \"dtype\": \"category\",\n        \"num_unique_values\": 2,\n        \"samples\": [\n          \"Yes\",\n          \"No\"\n        ],\n        \"semantic_type\": \"\",\n        \"description\": \"\"\n      }\n    },\n    {\n      \"column\": \"etest_p\",\n      \"properties\": {\n        \"dtype\": \"number\",\n        \"std\": 13.275956401653833,\n        \"min\": 50.0,\n        \"max\": 98.0,\n        \"num_unique_values\": 100,\n        \"samples\": [\n          93.4,\n          69.0\n        ],\n        \"semantic_type\": \"\",\n        \"description\": \"\"\n      }\n    },\n    {\n      \"column\": \"specialisation\",\n      \"properties\": {\n        \"dtype\": \"category\",\n        \"num_unique_values\": 2,\n        \"samples\": [\n          \"Mkt&Fin\",\n          \"Mkt&HR\"\n        ],\n        \"semantic_type\": \"\",\n        \"description\": \"\"\n      }\n    },\n    {\n      \"column\": \"mba_p\",\n      \"properties\": {\n        \"dtype\": \"number\",\n        \"std\": 5.833384580683801,\n        \"min\": 51.21,\n        \"max\": 77.89,\n        \"num_unique_values\": 205,\n        \"samples\": [\n          64.66,\n          52.21\n        ],\n        \"semantic_type\": \"\",\n        \"description\": \"\"\n      }\n    },\n    {\n      \"column\": \"status\",\n      \"properties\": {\n        \"dtype\": \"category\",\n        \"num_unique_values\": 2,\n        \"samples\": [\n          \"Not Placed\",\n          \"Placed\"\n        ],\n        \"semantic_type\": \"\",\n        \"description\": \"\"\n      }\n    },\n    {\n      \"column\": \"salary\",\n      \"properties\": {\n        \"dtype\": \"number\",\n        \"std\": 93457.45241958875,\n        \"min\": 200000.0,\n        \"max\": 940000.0,\n        \"num_unique_values\": 45,\n        \"samples\": [\n          255000.0,\n          336000.0\n        ],\n        \"semantic_type\": \"\",\n        \"description\": \"\"\n      }\n    }\n  ]\n}"
            }
          },
          "metadata": {},
          "execution_count": 2
        }
      ]
    },
    {
      "cell_type": "markdown",
      "source": [
        "Inference\n",
        "\n",
        "- We have Gender and Educational qualification data\n",
        "- We have all the educational performance(score) data\n",
        "- We have the status of placement and salary details\n",
        "- We can expect null values in salary as candidates who weren't placed would - have no salary\n",
        "- Status of placement is our target variable rest of them are independent variable except salary"
      ],
      "metadata": {
        "id": "q3FbKjxdhXiK"
      }
    },
    {
      "cell_type": "code",
      "source": [
        "print(\"The shape of the  data is (row, column):\"+ str(placement.shape))\n",
        "print(placement_copy.info())"
      ],
      "metadata": {
        "colab": {
          "base_uri": "https://localhost:8080/"
        },
        "id": "y4QiyeGvhVGP",
        "outputId": "687bfeb6-f8c0-4b32-bd50-70ae83f2af14"
      },
      "execution_count": 3,
      "outputs": [
        {
          "output_type": "stream",
          "name": "stdout",
          "text": [
            "The shape of the  data is (row, column):(215, 15)\n",
            "<class 'pandas.core.frame.DataFrame'>\n",
            "RangeIndex: 215 entries, 0 to 214\n",
            "Data columns (total 15 columns):\n",
            " #   Column          Non-Null Count  Dtype  \n",
            "---  ------          --------------  -----  \n",
            " 0   sl_no           215 non-null    int64  \n",
            " 1   gender          215 non-null    object \n",
            " 2   ssc_p           215 non-null    float64\n",
            " 3   ssc_b           215 non-null    object \n",
            " 4   hsc_p           215 non-null    float64\n",
            " 5   hsc_b           215 non-null    object \n",
            " 6   hsc_s           215 non-null    object \n",
            " 7   degree_p        215 non-null    float64\n",
            " 8   degree_t        215 non-null    object \n",
            " 9   workex          215 non-null    object \n",
            " 10  etest_p         215 non-null    float64\n",
            " 11  specialisation  215 non-null    object \n",
            " 12  mba_p           215 non-null    float64\n",
            " 13  status          215 non-null    object \n",
            " 14  salary          148 non-null    float64\n",
            "dtypes: float64(6), int64(1), object(8)\n",
            "memory usage: 25.3+ KB\n",
            "None\n"
          ]
        }
      ]
    },
    {
      "cell_type": "code",
      "source": [
        "import missingno as msno\n",
        "msno.matrix(placement)"
      ],
      "metadata": {
        "colab": {
          "base_uri": "https://localhost:8080/",
          "height": 715
        },
        "id": "EMzRV6yLhVDv",
        "outputId": "30674023-cc98-45b6-f55f-991a25eb2885"
      },
      "execution_count": 4,
      "outputs": [
        {
          "output_type": "execute_result",
          "data": {
            "text/plain": [
              "<Axes: >"
            ]
          },
          "metadata": {},
          "execution_count": 4
        },
        {
          "output_type": "display_data",
          "data": {
            "text/plain": [
              "<Figure size 2500x1000 with 2 Axes>"
            ],
            "image/png": "[encoded data removed]"
          },
          "metadata": {}
        }
      ]
    },
    {
      "cell_type": "code",
      "source": [
        "print('Data columns with null values:',placement_copy.isnull().sum(), sep = '\\n')"
      ],
      "metadata": {
        "colab": {
          "base_uri": "https://localhost:8080/"
        },
        "id": "Xz_NKR9ThVBI",
        "outputId": "8ace57bc-34d1-45cc-bead-0a4bcf1e1015"
      },
      "execution_count": 5,
      "outputs": [
        {
          "output_type": "stream",
          "name": "stdout",
          "text": [
            "Data columns with null values:\n",
            "sl_no              0\n",
            "gender             0\n",
            "ssc_p              0\n",
            "ssc_b              0\n",
            "hsc_p              0\n",
            "hsc_b              0\n",
            "hsc_s              0\n",
            "degree_p           0\n",
            "degree_t           0\n",
            "workex             0\n",
            "etest_p            0\n",
            "specialisation     0\n",
            "mba_p              0\n",
            "status             0\n",
            "salary            67\n",
            "dtype: int64\n"
          ]
        }
      ]
    },
    {
      "cell_type": "code",
      "source": [
        "placement_copy['salary'].fillna(value=0, inplace=True)\n",
        "print('Salary column with null values:', placement_copy['salary'].isnull().sum(), sep = '\\n')"
      ],
      "metadata": {
        "colab": {
          "base_uri": "https://localhost:8080/"
        },
        "id": "Hh202B3FhU-m",
        "outputId": "12a02698-8c11-48c8-f366-aecf0aaecd94"
      },
      "execution_count": 6,
      "outputs": [
        {
          "output_type": "stream",
          "name": "stdout",
          "text": [
            "Salary column with null values:\n",
            "0\n"
          ]
        }
      ]
    },
    {
      "cell_type": "code",
      "source": [
        "placement_copy.drop(['sl_no','ssc_b','hsc_b'], axis = 1,inplace=True)\n",
        "placement_copy.head()"
      ],
      "metadata": {
        "colab": {
          "base_uri": "https://localhost:8080/",
          "height": 206
        },
        "id": "xvkaEbUJhU71",
        "outputId": "4646703a-d37c-45f9-bf73-03ea6b927240"
      },
      "execution_count": 7,
      "outputs": [
        {
          "output_type": "execute_result",
          "data": {
            "text/plain": [
              "  gender  ssc_p  hsc_p     hsc_s  degree_p   degree_t workex  etest_p  \\\n",
              "0      M  67.00  91.00  Commerce     58.00   Sci&Tech     No     55.0   \n",
              "1      M  79.33  78.33   Science     77.48   Sci&Tech    Yes     86.5   \n",
              "2      M  65.00  68.00      Arts     64.00  Comm&Mgmt     No     75.0   \n",
              "3      M  56.00  52.00   Science     52.00   Sci&Tech     No     66.0   \n",
              "4      M  85.80  73.60  Commerce     73.30  Comm&Mgmt     No     96.8   \n",
              "\n",
              "  specialisation  mba_p      status    salary  \n",
              "0         Mkt&HR  58.80      Placed  270000.0  \n",
              "1        Mkt&Fin  66.28      Placed  200000.0  \n",
              "2        Mkt&Fin  57.80      Placed  250000.0  \n",
              "3         Mkt&HR  59.43  Not Placed       0.0  \n",
              "4        Mkt&Fin  55.50      Placed  425000.0  "
            ],
            "text/html": [
              "\n",
              "  <div id=\"df-07a37813-84b3-46d5-b8ec-e0d673184553\" class=\"colab-df-container\">\n",
              "    <div>\n",
              "<style scoped>\n",
              "    .dataframe tbody tr th:only-of-type {\n",
              "        vertical-align: middle;\n",
              "    }\n",
              "\n",
              "    .dataframe tbody tr th {\n",
              "        vertical-align: top;\n",
              "    }\n",
              "\n",
              "    .dataframe thead th {\n",
              "        text-align: right;\n",
              "    }\n",
              "</style>\n",
              "<table border=\"1\" class=\"dataframe\">\n",
              "  <thead>\n",
              "    <tr style=\"text-align: right;\">\n",
              "      <th></th>\n",
              "      <th>gender</th>\n",
              "      <th>ssc_p</th>\n",
              "      <th>hsc_p</th>\n",
              "      <th>hsc_s</th>\n",
              "      <th>degree_p</th>\n",
              "      <th>degree_t</th>\n",
              "      <th>workex</th>\n",
              "      <th>etest_p</th>\n",
              "      <th>specialisation</th>\n",
              "      <th>mba_p</th>\n",
              "      <th>status</th>\n",
              "      <th>salary</th>\n",
              "    </tr>\n",
              "  </thead>\n",
              "  <tbody>\n",
              "    <tr>\n",
              "      <th>0</th>\n",
              "      <td>M</td>\n",
              "      <td>67.00</td>\n",
              "      <td>91.00</td>\n",
              "      <td>Commerce</td>\n",
              "      <td>58.00</td>\n",
              "      <td>Sci&amp;Tech</td>\n",
              "      <td>No</td>\n",
              "      <td>55.0</td>\n",
              "      <td>Mkt&amp;HR</td>\n",
              "      <td>58.80</td>\n",
              "      <td>Placed</td>\n",
              "      <td>270000.0</td>\n",
              "    </tr>\n",
              "    <tr>\n",
              "      <th>1</th>\n",
              "      <td>M</td>\n",
              "      <td>79.33</td>\n",
              "      <td>78.33</td>\n",
              "      <td>Science</td>\n",
              "      <td>77.48</td>\n",
              "      <td>Sci&amp;Tech</td>\n",
              "      <td>Yes</td>\n",
              "      <td>86.5</td>\n",
              "      <td>Mkt&amp;Fin</td>\n",
              "      <td>66.28</td>\n",
              "      <td>Placed</td>\n",
              "      <td>200000.0</td>\n",
              "    </tr>\n",
              "    <tr>\n",
              "      <th>2</th>\n",
              "      <td>M</td>\n",
              "      <td>65.00</td>\n",
              "      <td>68.00</td>\n",
              "      <td>Arts</td>\n",
              "      <td>64.00</td>\n",
              "      <td>Comm&amp;Mgmt</td>\n",
              "      <td>No</td>\n",
              "      <td>75.0</td>\n",
              "      <td>Mkt&amp;Fin</td>\n",
              "      <td>57.80</td>\n",
              "      <td>Placed</td>\n",
              "      <td>250000.0</td>\n",
              "    </tr>\n",
              "    <tr>\n",
              "      <th>3</th>\n",
              "      <td>M</td>\n",
              "      <td>56.00</td>\n",
              "      <td>52.00</td>\n",
              "      <td>Science</td>\n",
              "      <td>52.00</td>\n",
              "      <td>Sci&amp;Tech</td>\n",
              "      <td>No</td>\n",
              "      <td>66.0</td>\n",
              "      <td>Mkt&amp;HR</td>\n",
              "      <td>59.43</td>\n",
              "      <td>Not Placed</td>\n",
              "      <td>0.0</td>\n",
              "    </tr>\n",
              "    <tr>\n",
              "      <th>4</th>\n",
              "      <td>M</td>\n",
              "      <td>85.80</td>\n",
              "      <td>73.60</td>\n",
              "      <td>Commerce</td>\n",
              "      <td>73.30</td>\n",
              "      <td>Comm&amp;Mgmt</td>\n",
              "      <td>No</td>\n",
              "      <td>96.8</td>\n",
              "      <td>Mkt&amp;Fin</td>\n",
              "      <td>55.50</td>\n",
              "      <td>Placed</td>\n",
              "      <td>425000.0</td>\n",
              "    </tr>\n",
              "  </tbody>\n",
              "</table>\n",
              "</div>\n",
              "    <div class=\"colab-df-buttons\">\n",
              "\n",
              "  <div class=\"colab-df-container\">\n",
              "    <button class=\"colab-df-convert\" onclick=\"convertToInteractive('df-07a37813-84b3-46d5-b8ec-e0d673184553')\"\n",
              "            title=\"Convert this dataframe to an interactive table.\"\n",
              "            style=\"display:none;\">\n",
              "\n",
              "  <svg xmlns=\"http://www.w3.org/2000/svg\" height=\"24px\" viewBox=\"0 -960 960 960\">\n",
              "    <path d=\"M120-120v-720h720v720H120Zm60-500h600v-160H180v160Zm220 220h160v-160H400v160Zm0 220h160v-160H400v160ZM180-400h160v-160H180v160Zm440 0h160v-160H620v160ZM180-180h160v-160H180v160Zm440 0h160v-160H620v160Z\"/>\n",
              "  </svg>\n",
              "    </button>\n",
              "\n",
              "  <style>\n",
              "    .colab-df-container {\n",
              "      display:flex;\n",
              "      gap: 12px;\n",
              "    }\n",
              "\n",
              "    .colab-df-convert {\n",
              "      background-color: #E8F0FE;\n",
              "      border: none;\n",
              "      border-radius: 50%;\n",
              "      cursor: pointer;\n",
              "      display: none;\n",
              "      fill: #1967D2;\n",
              "      height: 32px;\n",
              "      padding: 0 0 0 0;\n",
              "      width: 32px;\n",
              "    }\n",
              "\n",
              "    .colab-df-convert:hover {\n",
              "      background-color: #E2EBFA;\n",
              "      box-shadow: 0px 1px 2px rgba(60, 64, 67, 0.3), 0px 1px 3px 1px rgba(60, 64, 67, 0.15);\n",
              "      fill: #174EA6;\n",
              "    }\n",
              "\n",
              "    .colab-df-buttons div {\n",
              "      margin-bottom: 4px;\n",
              "    }\n",
              "\n",
              "    [theme=dark] .colab-df-convert {\n",
              "      background-color: #3B4455;\n",
              "      fill: #D2E3FC;\n",
              "    }\n",
              "\n",
              "    [theme=dark] .colab-df-convert:hover {\n",
              "      background-color: #434B5C;\n",
              "      box-shadow: 0px 1px 3px 1px rgba(0, 0, 0, 0.15);\n",
              "      filter: drop-shadow(0px 1px 2px rgba(0, 0, 0, 0.3));\n",
              "      fill: #FFFFFF;\n",
              "    }\n",
              "  </style>\n",
              "\n",
              "    <script>\n",
              "      const buttonEl =\n",
              "        document.querySelector('#df-07a37813-84b3-46d5-b8ec-e0d673184553 button.colab-df-convert');\n",
              "      buttonEl.style.display =\n",
              "        google.colab.kernel.accessAllowed ? 'block' : 'none';\n",
              "\n",
              "      async function convertToInteractive(key) {\n",
              "        const element = document.querySelector('#df-07a37813-84b3-46d5-b8ec-e0d673184553');\n",
              "        const dataTable =\n",
              "          await google.colab.kernel.invokeFunction('convertToInteractive',\n",
              "                                                    [key], {});\n",
              "        if (!dataTable) return;\n",
              "\n",
              "        const docLinkHtml = 'Like what you see? Visit the ' +\n",
              "          '<a target=\"_blank\" href=https://colab.research.google.com/notebooks/data_table.ipynb>data table notebook</a>'\n",
              "          + ' to learn more about interactive tables.';\n",
              "        element.innerHTML = '';\n",
              "        dataTable['output_type'] = 'display_data';\n",
              "        await google.colab.output.renderOutput(dataTable, element);\n",
              "        const docLink = document.createElement('div');\n",
              "        docLink.innerHTML = docLinkHtml;\n",
              "        element.appendChild(docLink);\n",
              "      }\n",
              "    </script>\n",
              "  </div>\n",
              "\n",
              "\n",
              "<div id=\"df-a90efa26-fdf2-49b9-96a6-ac9afaa1f0f5\">\n",
              "  <button class=\"colab-df-quickchart\" onclick=\"quickchart('df-a90efa26-fdf2-49b9-96a6-ac9afaa1f0f5')\"\n",
              "            title=\"Suggest charts\"\n",
              "            style=\"display:none;\">\n",
              "\n",
              "<svg xmlns=\"http://www.w3.org/2000/svg\" height=\"24px\"viewBox=\"0 0 24 24\"\n",
              "     width=\"24px\">\n",
              "    <g>\n",
              "        <path d=\"M19 3H5c-1.1 0-2 .9-2 2v14c0 1.1.9 2 2 2h14c1.1 0 2-.9 2-2V5c0-1.1-.9-2-2-2zM9 17H7v-7h2v7zm4 0h-2V7h2v10zm4 0h-2v-4h2v4z\"/>\n",
              "    </g>\n",
              "</svg>\n",
              "  </button>\n",
              "\n",
              "<style>\n",
              "  .colab-df-quickchart {\n",
              "      --bg-color: #E8F0FE;\n",
              "      --fill-color: #1967D2;\n",
              "      --hover-bg-color: #E2EBFA;\n",
              "      --hover-fill-color: #174EA6;\n",
              "      --disabled-fill-color: #AAA;\n",
              "      --disabled-bg-color: #DDD;\n",
              "  }\n",
              "\n",
              "  [theme=dark] .colab-df-quickchart {\n",
              "      --bg-color: #3B4455;\n",
              "      --fill-color: #D2E3FC;\n",
              "      --hover-bg-color: #434B5C;\n",
              "      --hover-fill-color: #FFFFFF;\n",
              "      --disabled-bg-color: #3B4455;\n",
              "      --disabled-fill-color: #666;\n",
              "  }\n",
              "\n",
              "  .colab-df-quickchart {\n",
              "    background-color: var(--bg-color);\n",
              "    border: none;\n",
              "    border-radius: 50%;\n",
              "    cursor: pointer;\n",
              "    display: none;\n",
              "    fill: var(--fill-color);\n",
              "    height: 32px;\n",
              "    padding: 0;\n",
              "    width: 32px;\n",
              "  }\n",
              "\n",
              "  .colab-df-quickchart:hover {\n",
              "    background-color: var(--hover-bg-color);\n",
              "    box-shadow: 0 1px 2px rgba(60, 64, 67, 0.3), 0 1px 3px 1px rgba(60, 64, 67, 0.15);\n",
              "    fill: var(--button-hover-fill-color);\n",
              "  }\n",
              "\n",
              "  .colab-df-quickchart-complete:disabled,\n",
              "  .colab-df-quickchart-complete:disabled:hover {\n",
              "    background-color: var(--disabled-bg-color);\n",
              "    fill: var(--disabled-fill-color);\n",
              "    box-shadow: none;\n",
              "  }\n",
              "\n",
              "  .colab-df-spinner {\n",
              "    border: 2px solid var(--fill-color);\n",
              "    border-color: transparent;\n",
              "    border-bottom-color: var(--fill-color);\n",
              "    animation:\n",
              "      spin 1s steps(1) infinite;\n",
              "  }\n",
              "\n",
              "  @keyframes spin {\n",
              "    0% {\n",
              "      border-color: transparent;\n",
              "      border-bottom-color: var(--fill-color);\n",
              "      border-left-color: var(--fill-color);\n",
              "    }\n",
              "    20% {\n",
              "      border-color: transparent;\n",
              "      border-left-color: var(--fill-color);\n",
              "      border-top-color: var(--fill-color);\n",
              "    }\n",
              "    30% {\n",
              "      border-color: transparent;\n",
              "      border-left-color: var(--fill-color);\n",
              "      border-top-color: var(--fill-color);\n",
              "      border-right-color: var(--fill-color);\n",
              "    }\n",
              "    40% {\n",
              "      border-color: transparent;\n",
              "      border-right-color: var(--fill-color);\n",
              "      border-top-color: var(--fill-color);\n",
              "    }\n",
              "    60% {\n",
              "      border-color: transparent;\n",
              "      border-right-color: var(--fill-color);\n",
              "    }\n",
              "    80% {\n",
              "      border-color: transparent;\n",
              "      border-right-color: var(--fill-color);\n",
              "      border-bottom-color: var(--fill-color);\n",
              "    }\n",
              "    90% {\n",
              "      border-color: transparent;\n",
              "      border-bottom-color: var(--fill-color);\n",
              "    }\n",
              "  }\n",
              "</style>\n",
              "\n",
              "  <script>\n",
              "    async function quickchart(key) {\n",
              "      const quickchartButtonEl =\n",
              "        document.querySelector('#' + key + ' button');\n",
              "      quickchartButtonEl.disabled = true;  // To prevent multiple clicks.\n",
              "      quickchartButtonEl.classList.add('colab-df-spinner');\n",
              "      try {\n",
              "        const charts = await google.colab.kernel.invokeFunction(\n",
              "            'suggestCharts', [key], {});\n",
              "      } catch (error) {\n",
              "        console.error('Error during call to suggestCharts:', error);\n",
              "      }\n",
              "      quickchartButtonEl.classList.remove('colab-df-spinner');\n",
              "      quickchartButtonEl.classList.add('colab-df-quickchart-complete');\n",
              "    }\n",
              "    (() => {\n",
              "      let quickchartButtonEl =\n",
              "        document.querySelector('#df-a90efa26-fdf2-49b9-96a6-ac9afaa1f0f5 button');\n",
              "      quickchartButtonEl.style.display =\n",
              "        google.colab.kernel.accessAllowed ? 'block' : 'none';\n",
              "    })();\n",
              "  </script>\n",
              "</div>\n",
              "\n",
              "    </div>\n",
              "  </div>\n"
            ],
            "application/vnd.google.colaboratory.intrinsic+json": {
              "type": "dataframe",
              "variable_name": "placement_copy",
              "summary": "{\n  \"name\": \"placement_copy\",\n  \"rows\": 215,\n  \"fields\": [\n    {\n      \"column\": \"gender\",\n      \"properties\": {\n        \"dtype\": \"category\",\n        \"num_unique_values\": 2,\n        \"samples\": [\n          \"F\",\n          \"M\"\n        ],\n        \"semantic_type\": \"\",\n        \"description\": \"\"\n      }\n    },\n    {\n      \"column\": \"ssc_p\",\n      \"properties\": {\n        \"dtype\": \"number\",\n        \"std\": 10.827205398231452,\n        \"min\": 40.89,\n        \"max\": 89.4,\n        \"num_unique_values\": 103,\n        \"samples\": [\n          74.0,\n          73.96\n        ],\n        \"semantic_type\": \"\",\n        \"description\": \"\"\n      }\n    },\n    {\n      \"column\": \"hsc_p\",\n      \"properties\": {\n        \"dtype\": \"number\",\n        \"std\": 10.89750915750298,\n        \"min\": 37.0,\n        \"max\": 97.7,\n        \"num_unique_values\": 97,\n        \"samples\": [\n          82.0,\n          73.2\n        ],\n        \"semantic_type\": \"\",\n        \"description\": \"\"\n      }\n    },\n    {\n      \"column\": \"hsc_s\",\n      \"properties\": {\n        \"dtype\": \"category\",\n        \"num_unique_values\": 3,\n        \"samples\": [\n          \"Commerce\",\n          \"Science\"\n        ],\n        \"semantic_type\": \"\",\n        \"description\": \"\"\n      }\n    },\n    {\n      \"column\": \"degree_p\",\n      \"properties\": {\n        \"dtype\": \"number\",\n        \"std\": 7.35874328733944,\n        \"min\": 50.0,\n        \"max\": 91.0,\n        \"num_unique_values\": 89,\n        \"samples\": [\n          71.72,\n          76.0\n        ],\n        \"semantic_type\": \"\",\n        \"description\": \"\"\n      }\n    },\n    {\n      \"column\": \"degree_t\",\n      \"properties\": {\n        \"dtype\": \"category\",\n        \"num_unique_values\": 3,\n        \"samples\": [\n          \"Sci&Tech\",\n          \"Comm&Mgmt\"\n        ],\n        \"semantic_type\": \"\",\n        \"description\": \"\"\n      }\n    },\n    {\n      \"column\": \"workex\",\n      \"properties\": {\n        \"dtype\": \"category\",\n        \"num_unique_values\": 2,\n        \"samples\": [\n          \"Yes\",\n          \"No\"\n        ],\n        \"semantic_type\": \"\",\n        \"description\": \"\"\n      }\n    },\n    {\n      \"column\": \"etest_p\",\n      \"properties\": {\n        \"dtype\": \"number\",\n        \"std\": 13.275956401653833,\n        \"min\": 50.0,\n        \"max\": 98.0,\n        \"num_unique_values\": 100,\n        \"samples\": [\n          93.4,\n          69.0\n        ],\n        \"semantic_type\": \"\",\n        \"description\": \"\"\n      }\n    },\n    {\n      \"column\": \"specialisation\",\n      \"properties\": {\n        \"dtype\": \"category\",\n        \"num_unique_values\": 2,\n        \"samples\": [\n          \"Mkt&Fin\",\n          \"Mkt&HR\"\n        ],\n        \"semantic_type\": \"\",\n        \"description\": \"\"\n      }\n    },\n    {\n      \"column\": \"mba_p\",\n      \"properties\": {\n        \"dtype\": \"number\",\n        \"std\": 5.833384580683801,\n        \"min\": 51.21,\n        \"max\": 77.89,\n        \"num_unique_values\": 205,\n        \"samples\": [\n          64.66,\n          52.21\n        ],\n        \"semantic_type\": \"\",\n        \"description\": \"\"\n      }\n    },\n    {\n      \"column\": \"status\",\n      \"properties\": {\n        \"dtype\": \"category\",\n        \"num_unique_values\": 2,\n        \"samples\": [\n          \"Not Placed\",\n          \"Placed\"\n        ],\n        \"semantic_type\": \"\",\n        \"description\": \"\"\n      }\n    },\n    {\n      \"column\": \"salary\",\n      \"properties\": {\n        \"dtype\": \"number\",\n        \"std\": 154780.92671560097,\n        \"min\": 0.0,\n        \"max\": 940000.0,\n        \"num_unique_values\": 46,\n        \"samples\": [\n          340000.0,\n          275000.0\n        ],\n        \"semantic_type\": \"\",\n        \"description\": \"\"\n      }\n    }\n  ]\n}"
            }
          },
          "metadata": {},
          "execution_count": 7
        }
      ]
    },
    {
      "cell_type": "markdown",
      "source": [
        "**Preprocessing data for classficiation models**"
      ],
      "metadata": {
        "id": "wuhBOJ-2Ucxv"
      }
    },
    {
      "cell_type": "code",
      "source": [
        "X=placement_copy.drop(['status', 'salary'],axis=1)\n",
        "y=placement_copy.status"
      ],
      "metadata": {
        "id": "JS--RZhAwpK9"
      },
      "execution_count": 8,
      "outputs": []
    },
    {
      "cell_type": "code",
      "source": [
        "from sklearn.model_selection import train_test_split\n",
        "X_train, X_test, y_train, y_test = train_test_split(X, y,train_size=0.8,random_state=1)\n",
        "print(\"Input Training:\",X_train.shape)\n",
        "print(\"Input Test:\",X_test.shape)\n",
        "print(\"Output Training:\",y_train.shape)\n",
        "print(\"Output Test:\",y_test.shape)"
      ],
      "metadata": {
        "colab": {
          "base_uri": "https://localhost:8080/"
        },
        "id": "svdDYa9SxFCE",
        "outputId": "86590e5b-34ca-48bf-946a-f342285f288a"
      },
      "execution_count": 9,
      "outputs": [
        {
          "output_type": "stream",
          "name": "stdout",
          "text": [
            "Input Training: (172, 10)\n",
            "Input Test: (43, 10)\n",
            "Output Training: (172,)\n",
            "Output Test: (43,)\n"
          ]
        }
      ]
    },
    {
      "cell_type": "code",
      "source": [
        "X_train"
      ],
      "metadata": {
        "colab": {
          "base_uri": "https://localhost:8080/",
          "height": 424
        },
        "id": "6rkY3_UT3_ug",
        "outputId": "fe7f690c-d29f-46d4-b6c1-dae375be7b5e"
      },
      "execution_count": 10,
      "outputs": [
        {
          "output_type": "execute_result",
          "data": {
            "text/plain": [
              "    gender  ssc_p  hsc_p     hsc_s  degree_p   degree_t workex  etest_p  \\\n",
              "47       M  63.00  60.00  Commerce     57.00  Comm&Mgmt    Yes    78.00   \n",
              "202      M  70.00  63.00   Science     66.00   Sci&Tech     No    61.28   \n",
              "27       M  63.00  67.00  Commerce     66.00  Comm&Mgmt     No    68.00   \n",
              "58       M  74.00  62.00   Science     68.00  Comm&Mgmt     No    74.00   \n",
              "40       F  78.00  77.00  Commerce     80.00  Comm&Mgmt     No    60.00   \n",
              "..     ...    ...    ...       ...       ...        ...    ...      ...   \n",
              "203      M  55.68  61.33  Commerce     56.87  Comm&Mgmt     No    66.00   \n",
              "137      M  67.00  63.00  Commerce     72.00  Comm&Mgmt     No    56.00   \n",
              "72       M  84.86  67.00   Science     78.00  Comm&Mgmt     No    95.50   \n",
              "140      M  65.00  64.80  Commerce     69.50  Comm&Mgmt    Yes    56.00   \n",
              "37       F  79.00  76.00   Science     65.60   Sci&Tech     No    58.00   \n",
              "\n",
              "    specialisation  mba_p  \n",
              "47         Mkt&Fin  54.55  \n",
              "202         Mkt&HR  60.11  \n",
              "27          Mkt&HR  57.69  \n",
              "58         Mkt&Fin  57.99  \n",
              "40         Mkt&Fin  66.72  \n",
              "..             ...    ...  \n",
              "203         Mkt&HR  58.30  \n",
              "137         Mkt&HR  60.41  \n",
              "72         Mkt&Fin  68.53  \n",
              "140        Mkt&Fin  56.94  \n",
              "37          Mkt&HR  55.47  \n",
              "\n",
              "[172 rows x 10 columns]"
            ],
            "text/html": [
              "\n",
              "  <div id=\"df-f52804c9-ac94-4d3a-ae90-c1661539a6f9\" class=\"colab-df-container\">\n",
              "    <div>\n",
              "<style scoped>\n",
              "    .dataframe tbody tr th:only-of-type {\n",
              "        vertical-align: middle;\n",
              "    }\n",
              "\n",
              "    .dataframe tbody tr th {\n",
              "        vertical-align: top;\n",
              "    }\n",
              "\n",
              "    .dataframe thead th {\n",
              "        text-align: right;\n",
              "    }\n",
              "</style>\n",
              "<table border=\"1\" class=\"dataframe\">\n",
              "  <thead>\n",
              "    <tr style=\"text-align: right;\">\n",
              "      <th></th>\n",
              "      <th>gender</th>\n",
              "      <th>ssc_p</th>\n",
              "      <th>hsc_p</th>\n",
              "      <th>hsc_s</th>\n",
              "      <th>degree_p</th>\n",
              "      <th>degree_t</th>\n",
              "      <th>workex</th>\n",
              "      <th>etest_p</th>\n",
              "      <th>specialisation</th>\n",
              "      <th>mba_p</th>\n",
              "    </tr>\n",
              "  </thead>\n",
              "  <tbody>\n",
              "    <tr>\n",
              "      <th>47</th>\n",
              "      <td>M</td>\n",
              "      <td>63.00</td>\n",
              "      <td>60.00</td>\n",
              "      <td>Commerce</td>\n",
              "      <td>57.00</td>\n",
              "      <td>Comm&amp;Mgmt</td>\n",
              "      <td>Yes</td>\n",
              "      <td>78.00</td>\n",
              "      <td>Mkt&amp;Fin</td>\n",
              "      <td>54.55</td>\n",
              "    </tr>\n",
              "    <tr>\n",
              "      <th>202</th>\n",
              "      <td>M</td>\n",
              "      <td>70.00</td>\n",
              "      <td>63.00</td>\n",
              "      <td>Science</td>\n",
              "      <td>66.00</td>\n",
              "      <td>Sci&amp;Tech</td>\n",
              "      <td>No</td>\n",
              "      <td>61.28</td>\n",
              "      <td>Mkt&amp;HR</td>\n",
              "      <td>60.11</td>\n",
              "    </tr>\n",
              "    <tr>\n",
              "      <th>27</th>\n",
              "      <td>M</td>\n",
              "      <td>63.00</td>\n",
              "      <td>67.00</td>\n",
              "      <td>Commerce</td>\n",
              "      <td>66.00</td>\n",
              "      <td>Comm&amp;Mgmt</td>\n",
              "      <td>No</td>\n",
              "      <td>68.00</td>\n",
              "      <td>Mkt&amp;HR</td>\n",
              "      <td>57.69</td>\n",
              "    </tr>\n",
              "    <tr>\n",
              "      <th>58</th>\n",
              "      <td>M</td>\n",
              "      <td>74.00</td>\n",
              "      <td>62.00</td>\n",
              "      <td>Science</td>\n",
              "      <td>68.00</td>\n",
              "      <td>Comm&amp;Mgmt</td>\n",
              "      <td>No</td>\n",
              "      <td>74.00</td>\n",
              "      <td>Mkt&amp;Fin</td>\n",
              "      <td>57.99</td>\n",
              "    </tr>\n",
              "    <tr>\n",
              "      <th>40</th>\n",
              "      <td>F</td>\n",
              "      <td>78.00</td>\n",
              "      <td>77.00</td>\n",
              "      <td>Commerce</td>\n",
              "      <td>80.00</td>\n",
              "      <td>Comm&amp;Mgmt</td>\n",
              "      <td>No</td>\n",
              "      <td>60.00</td>\n",
              "      <td>Mkt&amp;Fin</td>\n",
              "      <td>66.72</td>\n",
              "    </tr>\n",
              "    <tr>\n",
              "      <th>...</th>\n",
              "      <td>...</td>\n",
              "      <td>...</td>\n",
              "      <td>...</td>\n",
              "      <td>...</td>\n",
              "      <td>...</td>\n",
              "      <td>...</td>\n",
              "      <td>...</td>\n",
              "      <td>...</td>\n",
              "      <td>...</td>\n",
              "      <td>...</td>\n",
              "    </tr>\n",
              "    <tr>\n",
              "      <th>203</th>\n",
              "      <td>M</td>\n",
              "      <td>55.68</td>\n",
              "      <td>61.33</td>\n",
              "      <td>Commerce</td>\n",
              "      <td>56.87</td>\n",
              "      <td>Comm&amp;Mgmt</td>\n",
              "      <td>No</td>\n",
              "      <td>66.00</td>\n",
              "      <td>Mkt&amp;HR</td>\n",
              "      <td>58.30</td>\n",
              "    </tr>\n",
              "    <tr>\n",
              "      <th>137</th>\n",
              "      <td>M</td>\n",
              "      <td>67.00</td>\n",
              "      <td>63.00</td>\n",
              "      <td>Commerce</td>\n",
              "      <td>72.00</td>\n",
              "      <td>Comm&amp;Mgmt</td>\n",
              "      <td>No</td>\n",
              "      <td>56.00</td>\n",
              "      <td>Mkt&amp;HR</td>\n",
              "      <td>60.41</td>\n",
              "    </tr>\n",
              "    <tr>\n",
              "      <th>72</th>\n",
              "      <td>M</td>\n",
              "      <td>84.86</td>\n",
              "      <td>67.00</td>\n",
              "      <td>Science</td>\n",
              "      <td>78.00</td>\n",
              "      <td>Comm&amp;Mgmt</td>\n",
              "      <td>No</td>\n",
              "      <td>95.50</td>\n",
              "      <td>Mkt&amp;Fin</td>\n",
              "      <td>68.53</td>\n",
              "    </tr>\n",
              "    <tr>\n",
              "      <th>140</th>\n",
              "      <td>M</td>\n",
              "      <td>65.00</td>\n",
              "      <td>64.80</td>\n",
              "      <td>Commerce</td>\n",
              "      <td>69.50</td>\n",
              "      <td>Comm&amp;Mgmt</td>\n",
              "      <td>Yes</td>\n",
              "      <td>56.00</td>\n",
              "      <td>Mkt&amp;Fin</td>\n",
              "      <td>56.94</td>\n",
              "    </tr>\n",
              "    <tr>\n",
              "      <th>37</th>\n",
              "      <td>F</td>\n",
              "      <td>79.00</td>\n",
              "      <td>76.00</td>\n",
              "      <td>Science</td>\n",
              "      <td>65.60</td>\n",
              "      <td>Sci&amp;Tech</td>\n",
              "      <td>No</td>\n",
              "      <td>58.00</td>\n",
              "      <td>Mkt&amp;HR</td>\n",
              "      <td>55.47</td>\n",
              "    </tr>\n",
              "  </tbody>\n",
              "</table>\n",
              "<p>172 rows × 10 columns</p>\n",
              "</div>\n",
              "    <div class=\"colab-df-buttons\">\n",
              "\n",
              "  <div class=\"colab-df-container\">\n",
              "    <button class=\"colab-df-convert\" onclick=\"convertToInteractive('df-f52804c9-ac94-4d3a-ae90-c1661539a6f9')\"\n",
              "            title=\"Convert this dataframe to an interactive table.\"\n",
              "            style=\"display:none;\">\n",
              "\n",
              "  <svg xmlns=\"http://www.w3.org/2000/svg\" height=\"24px\" viewBox=\"0 -960 960 960\">\n",
              "    <path d=\"M120-120v-720h720v720H120Zm60-500h600v-160H180v160Zm220 220h160v-160H400v160Zm0 220h160v-160H400v160ZM180-400h160v-160H180v160Zm440 0h160v-160H620v160ZM180-180h160v-160H180v160Zm440 0h160v-160H620v160Z\"/>\n",
              "  </svg>\n",
              "    </button>\n",
              "\n",
              "  <style>\n",
              "    .colab-df-container {\n",
              "      display:flex;\n",
              "      gap: 12px;\n",
              "    }\n",
              "\n",
              "    .colab-df-convert {\n",
              "      background-color: #E8F0FE;\n",
              "      border: none;\n",
              "      border-radius: 50%;\n",
              "      cursor: pointer;\n",
              "      display: none;\n",
              "      fill: #1967D2;\n",
              "      height: 32px;\n",
              "      padding: 0 0 0 0;\n",
              "      width: 32px;\n",
              "    }\n",
              "\n",
              "    .colab-df-convert:hover {\n",
              "      background-color: #E2EBFA;\n",
              "      box-shadow: 0px 1px 2px rgba(60, 64, 67, 0.3), 0px 1px 3px 1px rgba(60, 64, 67, 0.15);\n",
              "      fill: #174EA6;\n",
              "    }\n",
              "\n",
              "    .colab-df-buttons div {\n",
              "      margin-bottom: 4px;\n",
              "    }\n",
              "\n",
              "    [theme=dark] .colab-df-convert {\n",
              "      background-color: #3B4455;\n",
              "      fill: #D2E3FC;\n",
              "    }\n",
              "\n",
              "    [theme=dark] .colab-df-convert:hover {\n",
              "      background-color: #434B5C;\n",
              "      box-shadow: 0px 1px 3px 1px rgba(0, 0, 0, 0.15);\n",
              "      filter: drop-shadow(0px 1px 2px rgba(0, 0, 0, 0.3));\n",
              "      fill: #FFFFFF;\n",
              "    }\n",
              "  </style>\n",
              "\n",
              "    <script>\n",
              "      const buttonEl =\n",
              "        document.querySelector('#df-f52804c9-ac94-4d3a-ae90-c1661539a6f9 button.colab-df-convert');\n",
              "      buttonEl.style.display =\n",
              "        google.colab.kernel.accessAllowed ? 'block' : 'none';\n",
              "\n",
              "      async function convertToInteractive(key) {\n",
              "        const element = document.querySelector('#df-f52804c9-ac94-4d3a-ae90-c1661539a6f9');\n",
              "        const dataTable =\n",
              "          await google.colab.kernel.invokeFunction('convertToInteractive',\n",
              "                                                    [key], {});\n",
              "        if (!dataTable) return;\n",
              "\n",
              "        const docLinkHtml = 'Like what you see? Visit the ' +\n",
              "          '<a target=\"_blank\" href=https://colab.research.google.com/notebooks/data_table.ipynb>data table notebook</a>'\n",
              "          + ' to learn more about interactive tables.';\n",
              "        element.innerHTML = '';\n",
              "        dataTable['output_type'] = 'display_data';\n",
              "        await google.colab.output.renderOutput(dataTable, element);\n",
              "        const docLink = document.createElement('div');\n",
              "        docLink.innerHTML = docLinkHtml;\n",
              "        element.appendChild(docLink);\n",
              "      }\n",
              "    </script>\n",
              "  </div>\n",
              "\n",
              "\n",
              "<div id=\"df-cf549202-2e04-45c9-8d04-15d4baf98762\">\n",
              "  <button class=\"colab-df-quickchart\" onclick=\"quickchart('df-cf549202-2e04-45c9-8d04-15d4baf98762')\"\n",
              "            title=\"Suggest charts\"\n",
              "            style=\"display:none;\">\n",
              "\n",
              "<svg xmlns=\"http://www.w3.org/2000/svg\" height=\"24px\"viewBox=\"0 0 24 24\"\n",
              "     width=\"24px\">\n",
              "    <g>\n",
              "        <path d=\"M19 3H5c-1.1 0-2 .9-2 2v14c0 1.1.9 2 2 2h14c1.1 0 2-.9 2-2V5c0-1.1-.9-2-2-2zM9 17H7v-7h2v7zm4 0h-2V7h2v10zm4 0h-2v-4h2v4z\"/>\n",
              "    </g>\n",
              "</svg>\n",
              "  </button>\n",
              "\n",
              "<style>\n",
              "  .colab-df-quickchart {\n",
              "      --bg-color: #E8F0FE;\n",
              "      --fill-color: #1967D2;\n",
              "      --hover-bg-color: #E2EBFA;\n",
              "      --hover-fill-color: #174EA6;\n",
              "      --disabled-fill-color: #AAA;\n",
              "      --disabled-bg-color: #DDD;\n",
              "  }\n",
              "\n",
              "  [theme=dark] .colab-df-quickchart {\n",
              "      --bg-color: #3B4455;\n",
              "      --fill-color: #D2E3FC;\n",
              "      --hover-bg-color: #434B5C;\n",
              "      --hover-fill-color: #FFFFFF;\n",
              "      --disabled-bg-color: #3B4455;\n",
              "      --disabled-fill-color: #666;\n",
              "  }\n",
              "\n",
              "  .colab-df-quickchart {\n",
              "    background-color: var(--bg-color);\n",
              "    border: none;\n",
              "    border-radius: 50%;\n",
              "    cursor: pointer;\n",
              "    display: none;\n",
              "    fill: var(--fill-color);\n",
              "    height: 32px;\n",
              "    padding: 0;\n",
              "    width: 32px;\n",
              "  }\n",
              "\n",
              "  .colab-df-quickchart:hover {\n",
              "    background-color: var(--hover-bg-color);\n",
              "    box-shadow: 0 1px 2px rgba(60, 64, 67, 0.3), 0 1px 3px 1px rgba(60, 64, 67, 0.15);\n",
              "    fill: var(--button-hover-fill-color);\n",
              "  }\n",
              "\n",
              "  .colab-df-quickchart-complete:disabled,\n",
              "  .colab-df-quickchart-complete:disabled:hover {\n",
              "    background-color: var(--disabled-bg-color);\n",
              "    fill: var(--disabled-fill-color);\n",
              "    box-shadow: none;\n",
              "  }\n",
              "\n",
              "  .colab-df-spinner {\n",
              "    border: 2px solid var(--fill-color);\n",
              "    border-color: transparent;\n",
              "    border-bottom-color: var(--fill-color);\n",
              "    animation:\n",
              "      spin 1s steps(1) infinite;\n",
              "  }\n",
              "\n",
              "  @keyframes spin {\n",
              "    0% {\n",
              "      border-color: transparent;\n",
              "      border-bottom-color: var(--fill-color);\n",
              "      border-left-color: var(--fill-color);\n",
              "    }\n",
              "    20% {\n",
              "      border-color: transparent;\n",
              "      border-left-color: var(--fill-color);\n",
              "      border-top-color: var(--fill-color);\n",
              "    }\n",
              "    30% {\n",
              "      border-color: transparent;\n",
              "      border-left-color: var(--fill-color);\n",
              "      border-top-color: var(--fill-color);\n",
              "      border-right-color: var(--fill-color);\n",
              "    }\n",
              "    40% {\n",
              "      border-color: transparent;\n",
              "      border-right-color: var(--fill-color);\n",
              "      border-top-color: var(--fill-color);\n",
              "    }\n",
              "    60% {\n",
              "      border-color: transparent;\n",
              "      border-right-color: var(--fill-color);\n",
              "    }\n",
              "    80% {\n",
              "      border-color: transparent;\n",
              "      border-right-color: var(--fill-color);\n",
              "      border-bottom-color: var(--fill-color);\n",
              "    }\n",
              "    90% {\n",
              "      border-color: transparent;\n",
              "      border-bottom-color: var(--fill-color);\n",
              "    }\n",
              "  }\n",
              "</style>\n",
              "\n",
              "  <script>\n",
              "    async function quickchart(key) {\n",
              "      const quickchartButtonEl =\n",
              "        document.querySelector('#' + key + ' button');\n",
              "      quickchartButtonEl.disabled = true;  // To prevent multiple clicks.\n",
              "      quickchartButtonEl.classList.add('colab-df-spinner');\n",
              "      try {\n",
              "        const charts = await google.colab.kernel.invokeFunction(\n",
              "            'suggestCharts', [key], {});\n",
              "      } catch (error) {\n",
              "        console.error('Error during call to suggestCharts:', error);\n",
              "      }\n",
              "      quickchartButtonEl.classList.remove('colab-df-spinner');\n",
              "      quickchartButtonEl.classList.add('colab-df-quickchart-complete');\n",
              "    }\n",
              "    (() => {\n",
              "      let quickchartButtonEl =\n",
              "        document.querySelector('#df-cf549202-2e04-45c9-8d04-15d4baf98762 button');\n",
              "      quickchartButtonEl.style.display =\n",
              "        google.colab.kernel.accessAllowed ? 'block' : 'none';\n",
              "    })();\n",
              "  </script>\n",
              "</div>\n",
              "\n",
              "  <div id=\"id_b6f8bb57-ae0f-4e50-8b3d-8d50b0af20fb\">\n",
              "    <style>\n",
              "      .colab-df-generate {\n",
              "        background-color: #E8F0FE;\n",
              "        border: none;\n",
              "        border-radius: 50%;\n",
              "        cursor: pointer;\n",
              "        display: none;\n",
              "        fill: #1967D2;\n",
              "        height: 32px;\n",
              "        padding: 0 0 0 0;\n",
              "        width: 32px;\n",
              "      }\n",
              "\n",
              "      .colab-df-generate:hover {\n",
              "        background-color: #E2EBFA;\n",
              "        box-shadow: 0px 1px 2px rgba(60, 64, 67, 0.3), 0px 1px 3px 1px rgba(60, 64, 67, 0.15);\n",
              "        fill: #174EA6;\n",
              "      }\n",
              "\n",
              "      [theme=dark] .colab-df-generate {\n",
              "        background-color: #3B4455;\n",
              "        fill: #D2E3FC;\n",
              "      }\n",
              "\n",
              "      [theme=dark] .colab-df-generate:hover {\n",
              "        background-color: #434B5C;\n",
              "        box-shadow: 0px 1px 3px 1px rgba(0, 0, 0, 0.15);\n",
              "        filter: drop-shadow(0px 1px 2px rgba(0, 0, 0, 0.3));\n",
              "        fill: #FFFFFF;\n",
              "      }\n",
              "    </style>\n",
              "    <button class=\"colab-df-generate\" onclick=\"generateWithVariable('X_train')\"\n",
              "            title=\"Generate code using this dataframe.\"\n",
              "            style=\"display:none;\">\n",
              "\n",
              "  <svg xmlns=\"http://www.w3.org/2000/svg\" height=\"24px\"viewBox=\"0 0 24 24\"\n",
              "       width=\"24px\">\n",
              "    <path d=\"M7,19H8.4L18.45,9,17,7.55,7,17.6ZM5,21V16.75L18.45,3.32a2,2,0,0,1,2.83,0l1.4,1.43a1.91,1.91,0,0,1,.58,1.4,1.91,1.91,0,0,1-.58,1.4L9.25,21ZM18.45,9,17,7.55Zm-12,3A5.31,5.31,0,0,0,4.9,8.1,5.31,5.31,0,0,0,1,6.5,5.31,5.31,0,0,0,4.9,4.9,5.31,5.31,0,0,0,6.5,1,5.31,5.31,0,0,0,8.1,4.9,5.31,5.31,0,0,0,12,6.5,5.46,5.46,0,0,0,6.5,12Z\"/>\n",
              "  </svg>\n",
              "    </button>\n",
              "    <script>\n",
              "      (() => {\n",
              "      const buttonEl =\n",
              "        document.querySelector('#id_b6f8bb57-ae0f-4e50-8b3d-8d50b0af20fb button.colab-df-generate');\n",
              "      buttonEl.style.display =\n",
              "        google.colab.kernel.accessAllowed ? 'block' : 'none';\n",
              "\n",
              "      buttonEl.onclick = () => {\n",
              "        google.colab.notebook.generateWithVariable('X_train');\n",
              "      }\n",
              "      })();\n",
              "    </script>\n",
              "  </div>\n",
              "\n",
              "    </div>\n",
              "  </div>\n"
            ],
            "application/vnd.google.colaboratory.intrinsic+json": {
              "type": "dataframe",
              "variable_name": "X_train",
              "summary": "{\n  \"name\": \"X_train\",\n  \"rows\": 172,\n  \"fields\": [\n    {\n      \"column\": \"gender\",\n      \"properties\": {\n        \"dtype\": \"category\",\n        \"num_unique_values\": 2,\n        \"samples\": [\n          \"F\",\n          \"M\"\n        ],\n        \"semantic_type\": \"\",\n        \"description\": \"\"\n      }\n    },\n    {\n      \"column\": \"ssc_p\",\n      \"properties\": {\n        \"dtype\": \"number\",\n        \"std\": 11.161339454062524,\n        \"min\": 40.89,\n        \"max\": 89.4,\n        \"num_unique_values\": 89,\n        \"samples\": [\n          41.0,\n          74.2\n        ],\n        \"semantic_type\": \"\",\n        \"description\": \"\"\n      }\n    },\n    {\n      \"column\": \"hsc_p\",\n      \"properties\": {\n        \"dtype\": \"number\",\n        \"std\": 10.912977356450519,\n        \"min\": 37.0,\n        \"max\": 97.7,\n        \"num_unique_values\": 83,\n        \"samples\": [\n          77.6,\n          60.0\n        ],\n        \"semantic_type\": \"\",\n        \"description\": \"\"\n      }\n    },\n    {\n      \"column\": \"hsc_s\",\n      \"properties\": {\n        \"dtype\": \"category\",\n        \"num_unique_values\": 3,\n        \"samples\": [\n          \"Commerce\",\n          \"Science\"\n        ],\n        \"semantic_type\": \"\",\n        \"description\": \"\"\n      }\n    },\n    {\n      \"column\": \"degree_p\",\n      \"properties\": {\n        \"dtype\": \"number\",\n        \"std\": 7.175519165830275,\n        \"min\": 50.0,\n        \"max\": 91.0,\n        \"num_unique_values\": 73,\n        \"samples\": [\n          70.67,\n          72.7\n        ],\n        \"semantic_type\": \"\",\n        \"description\": \"\"\n      }\n    },\n    {\n      \"column\": \"degree_t\",\n      \"properties\": {\n        \"dtype\": \"category\",\n        \"num_unique_values\": 3,\n        \"samples\": [\n          \"Comm&Mgmt\",\n          \"Sci&Tech\"\n        ],\n        \"semantic_type\": \"\",\n        \"description\": \"\"\n      }\n    },\n    {\n      \"column\": \"workex\",\n      \"properties\": {\n        \"dtype\": \"category\",\n        \"num_unique_values\": 2,\n        \"samples\": [\n          \"No\",\n          \"Yes\"\n        ],\n        \"semantic_type\": \"\",\n        \"description\": \"\"\n      }\n    },\n    {\n      \"column\": \"etest_p\",\n      \"properties\": {\n        \"dtype\": \"number\",\n        \"std\": 13.001021659003825,\n        \"min\": 50.0,\n        \"max\": 97.4,\n        \"num_unique_values\": 84,\n        \"samples\": [\n          55.67,\n          78.0\n        ],\n        \"semantic_type\": \"\",\n        \"description\": \"\"\n      }\n    },\n    {\n      \"column\": \"specialisation\",\n      \"properties\": {\n        \"dtype\": \"category\",\n        \"num_unique_values\": 2,\n        \"samples\": [\n          \"Mkt&HR\",\n          \"Mkt&Fin\"\n        ],\n        \"semantic_type\": \"\",\n        \"description\": \"\"\n      }\n    },\n    {\n      \"column\": \"mba_p\",\n      \"properties\": {\n        \"dtype\": \"number\",\n        \"std\": 5.782965950586127,\n        \"min\": 51.21,\n        \"max\": 76.26,\n        \"num_unique_values\": 165,\n        \"samples\": [\n          76.26,\n          57.9\n        ],\n        \"semantic_type\": \"\",\n        \"description\": \"\"\n      }\n    }\n  ]\n}"
            }
          },
          "metadata": {},
          "execution_count": 10
        }
      ]
    },
    {
      "cell_type": "code",
      "source": [
        "from sklearn.preprocessing import LabelEncoder\n",
        "label_encoder = LabelEncoder()\n",
        "\n",
        "y_train = label_encoder.fit_transform(y_train)\n",
        "y_test = label_encoder.fit_transform(y_test)"
      ],
      "metadata": {
        "id": "VPmkLhkg3CT-"
      },
      "execution_count": 11,
      "outputs": []
    },
    {
      "cell_type": "code",
      "source": [
        "import warnings\n",
        "warnings.filterwarnings('ignore')\n",
        "from sklearn.preprocessing import OneHotEncoder"
      ],
      "metadata": {
        "id": "WVrD0jmmhUwD"
      },
      "execution_count": 12,
      "outputs": []
    },
    {
      "cell_type": "code",
      "source": [
        "placement_cat = X_train[['gender', 'workex', 'specialisation', 'hsc_s', 'degree_t']]\n",
        "\n",
        "cat_encoder = OneHotEncoder()\n",
        "placement_cat_1_hot = cat_encoder.fit_transform(placement_cat)\n",
        "placement_cat_1_hot"
      ],
      "metadata": {
        "colab": {
          "base_uri": "https://localhost:8080/"
        },
        "id": "CSw6Aqv5ie8F",
        "outputId": "ebc4d03d-68ea-4a4f-b8c0-017a107c74ee"
      },
      "execution_count": 13,
      "outputs": [
        {
          "output_type": "execute_result",
          "data": {
            "text/plain": [
              "<172x12 sparse matrix of type '<class 'numpy.float64'>'\n",
              "\twith 860 stored elements in Compressed Sparse Row format>"
            ]
          },
          "metadata": {},
          "execution_count": 13
        }
      ]
    },
    {
      "cell_type": "code",
      "source": [
        "placement_num = X_train[['ssc_p',\t'hsc_p', 'degree_p', 'etest_p', 'mba_p']]"
      ],
      "metadata": {
        "id": "412A4YrquFuo"
      },
      "execution_count": 14,
      "outputs": []
    },
    {
      "cell_type": "code",
      "source": [
        "from sklearn.pipeline import Pipeline\n",
        "from sklearn.preprocessing import StandardScaler\n",
        "from sklearn.impute import SimpleImputer\n",
        "\n",
        "num_pipeline = Pipeline([\n",
        "        ('imputer', SimpleImputer(strategy=\"median\")),\n",
        "        ('std_scaler', StandardScaler()),\n",
        "    ])\n",
        "\n",
        "placement_num_tr = num_pipeline.fit_transform(placement_num)"
      ],
      "metadata": {
        "id": "vgRIisYGhUqI"
      },
      "execution_count": 15,
      "outputs": []
    },
    {
      "cell_type": "code",
      "source": [
        "from sklearn.compose import ColumnTransformer\n",
        "\n",
        "num_attribs = ['ssc_p',\t'hsc_p', 'degree_p', 'etest_p', 'mba_p']\n",
        "cat_attribs = ['gender', 'workex', 'specialisation', 'hsc_s', 'degree_t']\n",
        "\n",
        "full_pipeline = ColumnTransformer([\n",
        "        (\"num\", num_pipeline, num_attribs),\n",
        "        (\"cat\", OneHotEncoder(), cat_attribs),\n",
        "    ])\n",
        "\n",
        "placement_prepared = full_pipeline.fit_transform(X_train)"
      ],
      "metadata": {
        "id": "XZmvEBiruw1A"
      },
      "execution_count": 16,
      "outputs": []
    },
    {
      "cell_type": "code",
      "source": [
        "placement_prepared"
      ],
      "metadata": {
        "colab": {
          "base_uri": "https://localhost:8080/"
        },
        "id": "u6vhzX_jv2GJ",
        "outputId": "ba5c345f-6978-42b8-e65d-51bf4a7c6cd6"
      },
      "execution_count": 17,
      "outputs": [
        {
          "output_type": "execute_result",
          "data": {
            "text/plain": [
              "array([[-0.37802451, -0.57006221, -1.30846321, ...,  1.        ,\n",
              "         0.        ,  0.        ],\n",
              "       [ 0.2509715 , -0.29435751, -0.05053648, ...,  0.        ,\n",
              "         0.        ,  1.        ],\n",
              "       [-0.37802451,  0.07324875, -0.05053648, ...,  1.        ,\n",
              "         0.        ,  0.        ],\n",
              "       ...,\n",
              "       [ 1.58624017,  0.07324875,  1.62669918, ...,  1.        ,\n",
              "         0.        ,  0.        ],\n",
              "       [-0.19831137, -0.12893469,  0.43865726, ...,  1.        ,\n",
              "         0.        ,  0.        ],\n",
              "       [ 1.05968066,  0.90036285, -0.10644433, ...,  0.        ,\n",
              "         0.        ,  1.        ]])"
            ]
          },
          "metadata": {},
          "execution_count": 17
        }
      ]
    },
    {
      "cell_type": "code",
      "source": [
        "placement_test_prepared = full_pipeline.transform(X_test)"
      ],
      "metadata": {
        "id": "0he8YX5jyIt6"
      },
      "execution_count": 18,
      "outputs": []
    },
    {
      "cell_type": "code",
      "source": [
        "from sklearn.linear_model import LogisticRegression\n",
        "from sklearn import metrics\n",
        "\n",
        "logreg = LogisticRegression()\n",
        "logreg.fit(placement_prepared, y_train)\n",
        "\n",
        "y_pred = logreg.predict(placement_test_prepared)\n",
        "print('Accuracy of logistic regression classifier on test set: {:.2f}'.format(logreg.score(placement_test_prepared, y_test)))"
      ],
      "metadata": {
        "colab": {
          "base_uri": "https://localhost:8080/"
        },
        "id": "9Uu7azm4hUm5",
        "outputId": "ada552b6-3efb-497b-bd11-31dae7e5d8ed"
      },
      "execution_count": 19,
      "outputs": [
        {
          "output_type": "stream",
          "name": "stdout",
          "text": [
            "Accuracy of logistic regression classifier on test set: 0.93\n"
          ]
        }
      ]
    },
    {
      "cell_type": "code",
      "source": [
        "from sklearn.tree import DecisionTreeClassifier\n",
        "\n",
        "dt = DecisionTreeClassifier(criterion=\"gini\", max_depth=3)\n",
        "dt = dt.fit(placement_prepared,y_train)\n",
        "\n",
        "y_pred = dt.predict(placement_test_prepared)\n",
        "print(\"Accuracy:\",metrics.accuracy_score(y_test, y_pred))"
      ],
      "metadata": {
        "colab": {
          "base_uri": "https://localhost:8080/"
        },
        "id": "FQDm6N0hyZ73",
        "outputId": "ffdad666-5ce9-408e-ce04-c80a0019c143"
      },
      "execution_count": 20,
      "outputs": [
        {
          "output_type": "stream",
          "name": "stdout",
          "text": [
            "Accuracy: 0.7441860465116279\n"
          ]
        }
      ]
    },
    {
      "cell_type": "code",
      "source": [
        "from sklearn.ensemble import RandomForestClassifier\n",
        "\n",
        "rt=RandomForestClassifier(n_estimators=100)\n",
        "rt.fit(placement_prepared,y_train)\n",
        "\n",
        "y_pred=rt.predict(placement_test_prepared)\n",
        "print(\"Accuracy:\",metrics.accuracy_score(y_test, y_pred))"
      ],
      "metadata": {
        "colab": {
          "base_uri": "https://localhost:8080/"
        },
        "id": "tgbHRmJMysJH",
        "outputId": "e41e9e76-9146-467a-fb95-4df8dbfec2d2"
      },
      "execution_count": 21,
      "outputs": [
        {
          "output_type": "stream",
          "name": "stdout",
          "text": [
            "Accuracy: 0.8837209302325582\n"
          ]
        }
      ]
    },
    {
      "cell_type": "code",
      "source": [
        "from sklearn.model_selection import GridSearchCV\n",
        "\n",
        "param_grid = [\n",
        "              {'solver': ['newton-cg', 'lbfgs', 'liblinear', 'sag', 'saga'], 'C': [0.1, 1.0, 10.0]}\n",
        "  ]\n",
        "\n",
        "logreg = LogisticRegression()\n",
        "grid_search = GridSearchCV(logreg, param_grid, cv=5,\n",
        "                           scoring='precision',\n",
        "                           return_train_score=True)\n",
        "\n",
        "grid_search.fit(placement_prepared, y_train)"
      ],
      "metadata": {
        "colab": {
          "base_uri": "https://localhost:8080/",
          "height": 118
        },
        "id": "tyMPku630OBq",
        "outputId": "2e90fc6d-9e84-422a-e0b3-f229ddae79f5"
      },
      "execution_count": 22,
      "outputs": [
        {
          "output_type": "execute_result",
          "data": {
            "text/plain": [
              "GridSearchCV(cv=5, estimator=LogisticRegression(),\n",
              "             param_grid=[{'C': [0.1, 1.0, 10.0],\n",
              "                          'solver': ['newton-cg', 'lbfgs', 'liblinear', 'sag',\n",
              "                                     'saga']}],\n",
              "             return_train_score=True, scoring='precision')"
            ],
            "text/html": [
              "<style>#sk-container-id-1 {color: black;}#sk-container-id-1 pre{padding: 0;}#sk-container-id-1 div.sk-toggleable {background-color: white;}#sk-container-id-1 label.sk-toggleable__label {cursor: pointer;display: block;width: 100%;margin-bottom: 0;padding: 0.3em;box-sizing: border-box;text-align: center;}#sk-container-id-1 label.sk-toggleable__label-arrow:before {content: \"▸\";float: left;margin-right: 0.25em;color: #696969;}#sk-container-id-1 label.sk-toggleable__label-arrow:hover:before {color: black;}#sk-container-id-1 div.sk-estimator:hover label.sk-toggleable__label-arrow:before {color: black;}#sk-container-id-1 div.sk-toggleable__content {max-height: 0;max-width: 0;overflow: hidden;text-align: left;background-color: #f0f8ff;}#sk-container-id-1 div.sk-toggleable__content pre {margin: 0.2em;color: black;border-radius: 0.25em;background-color: #f0f8ff;}#sk-container-id-1 input.sk-toggleable__control:checked~div.sk-toggleable__content {max-height: 200px;max-width: 100%;overflow: auto;}#sk-container-id-1 input.sk-toggleable__control:checked~label.sk-toggleable__label-arrow:before {content: \"▾\";}#sk-container-id-1 div.sk-estimator input.sk-toggleable__control:checked~label.sk-toggleable__label {background-color: #d4ebff;}#sk-container-id-1 div.sk-label input.sk-toggleable__control:checked~label.sk-toggleable__label {background-color: #d4ebff;}#sk-container-id-1 input.sk-hidden--visually {border: 0;clip: rect(1px 1px 1px 1px);clip: rect(1px, 1px, 1px, 1px);height: 1px;margin: -1px;overflow: hidden;padding: 0;position: absolute;width: 1px;}#sk-container-id-1 div.sk-estimator {font-family: monospace;background-color: #f0f8ff;border: 1px dotted black;border-radius: 0.25em;box-sizing: border-box;margin-bottom: 0.5em;}#sk-container-id-1 div.sk-estimator:hover {background-color: #d4ebff;}#sk-container-id-1 div.sk-parallel-item::after {content: \"\";width: 100%;border-bottom: 1px solid gray;flex-grow: 1;}#sk-container-id-1 div.sk-label:hover label.sk-toggleable__label {background-color: #d4ebff;}#sk-container-id-1 div.sk-serial::before {content: \"\";position: absolute;border-left: 1px solid gray;box-sizing: border-box;top: 0;bottom: 0;left: 50%;z-index: 0;}#sk-container-id-1 div.sk-serial {display: flex;flex-direction: column;align-items: center;background-color: white;padding-right: 0.2em;padding-left: 0.2em;position: relative;}#sk-container-id-1 div.sk-item {position: relative;z-index: 1;}#sk-container-id-1 div.sk-parallel {display: flex;align-items: stretch;justify-content: center;background-color: white;position: relative;}#sk-container-id-1 div.sk-item::before, #sk-container-id-1 div.sk-parallel-item::before {content: \"\";position: absolute;border-left: 1px solid gray;box-sizing: border-box;top: 0;bottom: 0;left: 50%;z-index: -1;}#sk-container-id-1 div.sk-parallel-item {display: flex;flex-direction: column;z-index: 1;position: relative;background-color: white;}#sk-container-id-1 div.sk-parallel-item:first-child::after {align-self: flex-end;width: 50%;}#sk-container-id-1 div.sk-parallel-item:last-child::after {align-self: flex-start;width: 50%;}#sk-container-id-1 div.sk-parallel-item:only-child::after {width: 0;}#sk-container-id-1 div.sk-dashed-wrapped {border: 1px dashed gray;margin: 0 0.4em 0.5em 0.4em;box-sizing: border-box;padding-bottom: 0.4em;background-color: white;}#sk-container-id-1 div.sk-label label {font-family: monospace;font-weight: bold;display: inline-block;line-height: 1.2em;}#sk-container-id-1 div.sk-label-container {text-align: center;}#sk-container-id-1 div.sk-container {/* jupyter's `normalize.less` sets `[hidden] { display: none; }` but bootstrap.min.css set `[hidden] { display: none !important; }` so we also need the `!important` here to be able to override the default hidden behavior on the sphinx rendered scikit-learn.org. See: https://github.com/scikit-learn/scikit-learn/issues/21755 */display: inline-block !important;position: relative;}#sk-container-id-1 div.sk-text-repr-fallback {display: none;}</style><div id=\"sk-container-id-1\" class=\"sk-top-container\"><div class=\"sk-text-repr-fallback\"><pre>GridSearchCV(cv=5, estimator=LogisticRegression(),\n",
              "             param_grid=[{&#x27;C&#x27;: [0.1, 1.0, 10.0],\n",
              "                          &#x27;solver&#x27;: [&#x27;newton-cg&#x27;, &#x27;lbfgs&#x27;, &#x27;liblinear&#x27;, &#x27;sag&#x27;,\n",
              "                                     &#x27;saga&#x27;]}],\n",
              "             return_train_score=True, scoring=&#x27;precision&#x27;)</pre><b>In a Jupyter environment, please rerun this cell to show the HTML representation or trust the notebook. <br />On GitHub, the HTML representation is unable to render, please try loading this page with nbviewer.org.</b></div><div class=\"sk-container\" hidden><div class=\"sk-item sk-dashed-wrapped\"><div class=\"sk-label-container\"><div class=\"sk-label sk-toggleable\"><input class=\"sk-toggleable__control sk-hidden--visually\" id=\"sk-estimator-id-1\" type=\"checkbox\" ><label for=\"sk-estimator-id-1\" class=\"sk-toggleable__label sk-toggleable__label-arrow\">GridSearchCV</label><div class=\"sk-toggleable__content\"><pre>GridSearchCV(cv=5, estimator=LogisticRegression(),\n",
              "             param_grid=[{&#x27;C&#x27;: [0.1, 1.0, 10.0],\n",
              "                          &#x27;solver&#x27;: [&#x27;newton-cg&#x27;, &#x27;lbfgs&#x27;, &#x27;liblinear&#x27;, &#x27;sag&#x27;,\n",
              "                                     &#x27;saga&#x27;]}],\n",
              "             return_train_score=True, scoring=&#x27;precision&#x27;)</pre></div></div></div><div class=\"sk-parallel\"><div class=\"sk-parallel-item\"><div class=\"sk-item\"><div class=\"sk-label-container\"><div class=\"sk-label sk-toggleable\"><input class=\"sk-toggleable__control sk-hidden--visually\" id=\"sk-estimator-id-2\" type=\"checkbox\" ><label for=\"sk-estimator-id-2\" class=\"sk-toggleable__label sk-toggleable__label-arrow\">estimator: LogisticRegression</label><div class=\"sk-toggleable__content\"><pre>LogisticRegression()</pre></div></div></div><div class=\"sk-serial\"><div class=\"sk-item\"><div class=\"sk-estimator sk-toggleable\"><input class=\"sk-toggleable__control sk-hidden--visually\" id=\"sk-estimator-id-3\" type=\"checkbox\" ><label for=\"sk-estimator-id-3\" class=\"sk-toggleable__label sk-toggleable__label-arrow\">LogisticRegression</label><div class=\"sk-toggleable__content\"><pre>LogisticRegression()</pre></div></div></div></div></div></div></div></div></div></div>"
            ]
          },
          "metadata": {},
          "execution_count": 22
        }
      ]
    },
    {
      "cell_type": "code",
      "source": [
        "final_model = grid_search.best_estimator_"
      ],
      "metadata": {
        "id": "tMGZb3bU1PXt"
      },
      "execution_count": 23,
      "outputs": []
    },
    {
      "cell_type": "code",
      "source": [
        "some_data = placement.iloc[:5]"
      ],
      "metadata": {
        "id": "-28GGuGa4l-S"
      },
      "execution_count": 24,
      "outputs": []
    },
    {
      "cell_type": "code",
      "source": [
        "some_data"
      ],
      "metadata": {
        "colab": {
          "base_uri": "https://localhost:8080/",
          "height": 206
        },
        "id": "joC57gaE_S5M",
        "outputId": "26aaf6e7-0d62-48c8-e6fd-0f1ff0903e0e"
      },
      "execution_count": 25,
      "outputs": [
        {
          "output_type": "execute_result",
          "data": {
            "text/plain": [
              "   sl_no gender  ssc_p    ssc_b  hsc_p    hsc_b     hsc_s  degree_p  \\\n",
              "0      1      M  67.00   Others  91.00   Others  Commerce     58.00   \n",
              "1      2      M  79.33  Central  78.33   Others   Science     77.48   \n",
              "2      3      M  65.00  Central  68.00  Central      Arts     64.00   \n",
              "3      4      M  56.00  Central  52.00  Central   Science     52.00   \n",
              "4      5      M  85.80  Central  73.60  Central  Commerce     73.30   \n",
              "\n",
              "    degree_t workex  etest_p specialisation  mba_p      status    salary  \n",
              "0   Sci&Tech     No     55.0         Mkt&HR  58.80      Placed  270000.0  \n",
              "1   Sci&Tech    Yes     86.5        Mkt&Fin  66.28      Placed  200000.0  \n",
              "2  Comm&Mgmt     No     75.0        Mkt&Fin  57.80      Placed  250000.0  \n",
              "3   Sci&Tech     No     66.0         Mkt&HR  59.43  Not Placed       NaN  \n",
              "4  Comm&Mgmt     No     96.8        Mkt&Fin  55.50      Placed  425000.0  "
            ],
            "text/html": [
              "\n",
              "  <div id=\"df-0c2bbf9b-7c37-4582-9a4d-800a58e7c582\" class=\"colab-df-container\">\n",
              "    <div>\n",
              "<style scoped>\n",
              "    .dataframe tbody tr th:only-of-type {\n",
              "        vertical-align: middle;\n",
              "    }\n",
              "\n",
              "    .dataframe tbody tr th {\n",
              "        vertical-align: top;\n",
              "    }\n",
              "\n",
              "    .dataframe thead th {\n",
              "        text-align: right;\n",
              "    }\n",
              "</style>\n",
              "<table border=\"1\" class=\"dataframe\">\n",
              "  <thead>\n",
              "    <tr style=\"text-align: right;\">\n",
              "      <th></th>\n",
              "      <th>sl_no</th>\n",
              "      <th>gender</th>\n",
              "      <th>ssc_p</th>\n",
              "      <th>ssc_b</th>\n",
              "      <th>hsc_p</th>\n",
              "      <th>hsc_b</th>\n",
              "      <th>hsc_s</th>\n",
              "      <th>degree_p</th>\n",
              "      <th>degree_t</th>\n",
              "      <th>workex</th>\n",
              "      <th>etest_p</th>\n",
              "      <th>specialisation</th>\n",
              "      <th>mba_p</th>\n",
              "      <th>status</th>\n",
              "      <th>salary</th>\n",
              "    </tr>\n",
              "  </thead>\n",
              "  <tbody>\n",
              "    <tr>\n",
              "      <th>0</th>\n",
              "      <td>1</td>\n",
              "      <td>M</td>\n",
              "      <td>67.00</td>\n",
              "      <td>Others</td>\n",
              "      <td>91.00</td>\n",
              "      <td>Others</td>\n",
              "      <td>Commerce</td>\n",
              "      <td>58.00</td>\n",
              "      <td>Sci&amp;Tech</td>\n",
              "      <td>No</td>\n",
              "      <td>55.0</td>\n",
              "      <td>Mkt&amp;HR</td>\n",
              "      <td>58.80</td>\n",
              "      <td>Placed</td>\n",
              "      <td>270000.0</td>\n",
              "    </tr>\n",
              "    <tr>\n",
              "      <th>1</th>\n",
              "      <td>2</td>\n",
              "      <td>M</td>\n",
              "      <td>79.33</td>\n",
              "      <td>Central</td>\n",
              "      <td>78.33</td>\n",
              "      <td>Others</td>\n",
              "      <td>Science</td>\n",
              "      <td>77.48</td>\n",
              "      <td>Sci&amp;Tech</td>\n",
              "      <td>Yes</td>\n",
              "      <td>86.5</td>\n",
              "      <td>Mkt&amp;Fin</td>\n",
              "      <td>66.28</td>\n",
              "      <td>Placed</td>\n",
              "      <td>200000.0</td>\n",
              "    </tr>\n",
              "    <tr>\n",
              "      <th>2</th>\n",
              "      <td>3</td>\n",
              "      <td>M</td>\n",
              "      <td>65.00</td>\n",
              "      <td>Central</td>\n",
              "      <td>68.00</td>\n",
              "      <td>Central</td>\n",
              "      <td>Arts</td>\n",
              "      <td>64.00</td>\n",
              "      <td>Comm&amp;Mgmt</td>\n",
              "      <td>No</td>\n",
              "      <td>75.0</td>\n",
              "      <td>Mkt&amp;Fin</td>\n",
              "      <td>57.80</td>\n",
              "      <td>Placed</td>\n",
              "      <td>250000.0</td>\n",
              "    </tr>\n",
              "    <tr>\n",
              "      <th>3</th>\n",
              "      <td>4</td>\n",
              "      <td>M</td>\n",
              "      <td>56.00</td>\n",
              "      <td>Central</td>\n",
              "      <td>52.00</td>\n",
              "      <td>Central</td>\n",
              "      <td>Science</td>\n",
              "      <td>52.00</td>\n",
              "      <td>Sci&amp;Tech</td>\n",
              "      <td>No</td>\n",
              "      <td>66.0</td>\n",
              "      <td>Mkt&amp;HR</td>\n",
              "      <td>59.43</td>\n",
              "      <td>Not Placed</td>\n",
              "      <td>NaN</td>\n",
              "    </tr>\n",
              "    <tr>\n",
              "      <th>4</th>\n",
              "      <td>5</td>\n",
              "      <td>M</td>\n",
              "      <td>85.80</td>\n",
              "      <td>Central</td>\n",
              "      <td>73.60</td>\n",
              "      <td>Central</td>\n",
              "      <td>Commerce</td>\n",
              "      <td>73.30</td>\n",
              "      <td>Comm&amp;Mgmt</td>\n",
              "      <td>No</td>\n",
              "      <td>96.8</td>\n",
              "      <td>Mkt&amp;Fin</td>\n",
              "      <td>55.50</td>\n",
              "      <td>Placed</td>\n",
              "      <td>425000.0</td>\n",
              "    </tr>\n",
              "  </tbody>\n",
              "</table>\n",
              "</div>\n",
              "    <div class=\"colab-df-buttons\">\n",
              "\n",
              "  <div class=\"colab-df-container\">\n",
              "    <button class=\"colab-df-convert\" onclick=\"convertToInteractive('df-0c2bbf9b-7c37-4582-9a4d-800a58e7c582')\"\n",
              "            title=\"Convert this dataframe to an interactive table.\"\n",
              "            style=\"display:none;\">\n",
              "\n",
              "  <svg xmlns=\"http://www.w3.org/2000/svg\" height=\"24px\" viewBox=\"0 -960 960 960\">\n",
              "    <path d=\"M120-120v-720h720v720H120Zm60-500h600v-160H180v160Zm220 220h160v-160H400v160Zm0 220h160v-160H400v160ZM180-400h160v-160H180v160Zm440 0h160v-160H620v160ZM180-180h160v-160H180v160Zm440 0h160v-160H620v160Z\"/>\n",
              "  </svg>\n",
              "    </button>\n",
              "\n",
              "  <style>\n",
              "    .colab-df-container {\n",
              "      display:flex;\n",
              "      gap: 12px;\n",
              "    }\n",
              "\n",
              "    .colab-df-convert {\n",
              "      background-color: #E8F0FE;\n",
              "      border: none;\n",
              "      border-radius: 50%;\n",
              "      cursor: pointer;\n",
              "      display: none;\n",
              "      fill: #1967D2;\n",
              "      height: 32px;\n",
              "      padding: 0 0 0 0;\n",
              "      width: 32px;\n",
              "    }\n",
              "\n",
              "    .colab-df-convert:hover {\n",
              "      background-color: #E2EBFA;\n",
              "      box-shadow: 0px 1px 2px rgba(60, 64, 67, 0.3), 0px 1px 3px 1px rgba(60, 64, 67, 0.15);\n",
              "      fill: #174EA6;\n",
              "    }\n",
              "\n",
              "    .colab-df-buttons div {\n",
              "      margin-bottom: 4px;\n",
              "    }\n",
              "\n",
              "    [theme=dark] .colab-df-convert {\n",
              "      background-color: #3B4455;\n",
              "      fill: #D2E3FC;\n",
              "    }\n",
              "\n",
              "    [theme=dark] .colab-df-convert:hover {\n",
              "      background-color: #434B5C;\n",
              "      box-shadow: 0px 1px 3px 1px rgba(0, 0, 0, 0.15);\n",
              "      filter: drop-shadow(0px 1px 2px rgba(0, 0, 0, 0.3));\n",
              "      fill: #FFFFFF;\n",
              "    }\n",
              "  </style>\n",
              "\n",
              "    <script>\n",
              "      const buttonEl =\n",
              "        document.querySelector('#df-0c2bbf9b-7c37-4582-9a4d-800a58e7c582 button.colab-df-convert');\n",
              "      buttonEl.style.display =\n",
              "        google.colab.kernel.accessAllowed ? 'block' : 'none';\n",
              "\n",
              "      async function convertToInteractive(key) {\n",
              "        const element = document.querySelector('#df-0c2bbf9b-7c37-4582-9a4d-800a58e7c582');\n",
              "        const dataTable =\n",
              "          await google.colab.kernel.invokeFunction('convertToInteractive',\n",
              "                                                    [key], {});\n",
              "        if (!dataTable) return;\n",
              "\n",
              "        const docLinkHtml = 'Like what you see? Visit the ' +\n",
              "          '<a target=\"_blank\" href=https://colab.research.google.com/notebooks/data_table.ipynb>data table notebook</a>'\n",
              "          + ' to learn more about interactive tables.';\n",
              "        element.innerHTML = '';\n",
              "        dataTable['output_type'] = 'display_data';\n",
              "        await google.colab.output.renderOutput(dataTable, element);\n",
              "        const docLink = document.createElement('div');\n",
              "        docLink.innerHTML = docLinkHtml;\n",
              "        element.appendChild(docLink);\n",
              "      }\n",
              "    </script>\n",
              "  </div>\n",
              "\n",
              "\n",
              "<div id=\"df-6ac24b0c-f3a7-4c12-a0d9-4fb1985c211c\">\n",
              "  <button class=\"colab-df-quickchart\" onclick=\"quickchart('df-6ac24b0c-f3a7-4c12-a0d9-4fb1985c211c')\"\n",
              "            title=\"Suggest charts\"\n",
              "            style=\"display:none;\">\n",
              "\n",
              "<svg xmlns=\"http://www.w3.org/2000/svg\" height=\"24px\"viewBox=\"0 0 24 24\"\n",
              "     width=\"24px\">\n",
              "    <g>\n",
              "        <path d=\"M19 3H5c-1.1 0-2 .9-2 2v14c0 1.1.9 2 2 2h14c1.1 0 2-.9 2-2V5c0-1.1-.9-2-2-2zM9 17H7v-7h2v7zm4 0h-2V7h2v10zm4 0h-2v-4h2v4z\"/>\n",
              "    </g>\n",
              "</svg>\n",
              "  </button>\n",
              "\n",
              "<style>\n",
              "  .colab-df-quickchart {\n",
              "      --bg-color: #E8F0FE;\n",
              "      --fill-color: #1967D2;\n",
              "      --hover-bg-color: #E2EBFA;\n",
              "      --hover-fill-color: #174EA6;\n",
              "      --disabled-fill-color: #AAA;\n",
              "      --disabled-bg-color: #DDD;\n",
              "  }\n",
              "\n",
              "  [theme=dark] .colab-df-quickchart {\n",
              "      --bg-color: #3B4455;\n",
              "      --fill-color: #D2E3FC;\n",
              "      --hover-bg-color: #434B5C;\n",
              "      --hover-fill-color: #FFFFFF;\n",
              "      --disabled-bg-color: #3B4455;\n",
              "      --disabled-fill-color: #666;\n",
              "  }\n",
              "\n",
              "  .colab-df-quickchart {\n",
              "    background-color: var(--bg-color);\n",
              "    border: none;\n",
              "    border-radius: 50%;\n",
              "    cursor: pointer;\n",
              "    display: none;\n",
              "    fill: var(--fill-color);\n",
              "    height: 32px;\n",
              "    padding: 0;\n",
              "    width: 32px;\n",
              "  }\n",
              "\n",
              "  .colab-df-quickchart:hover {\n",
              "    background-color: var(--hover-bg-color);\n",
              "    box-shadow: 0 1px 2px rgba(60, 64, 67, 0.3), 0 1px 3px 1px rgba(60, 64, 67, 0.15);\n",
              "    fill: var(--button-hover-fill-color);\n",
              "  }\n",
              "\n",
              "  .colab-df-quickchart-complete:disabled,\n",
              "  .colab-df-quickchart-complete:disabled:hover {\n",
              "    background-color: var(--disabled-bg-color);\n",
              "    fill: var(--disabled-fill-color);\n",
              "    box-shadow: none;\n",
              "  }\n",
              "\n",
              "  .colab-df-spinner {\n",
              "    border: 2px solid var(--fill-color);\n",
              "    border-color: transparent;\n",
              "    border-bottom-color: var(--fill-color);\n",
              "    animation:\n",
              "      spin 1s steps(1) infinite;\n",
              "  }\n",
              "\n",
              "  @keyframes spin {\n",
              "    0% {\n",
              "      border-color: transparent;\n",
              "      border-bottom-color: var(--fill-color);\n",
              "      border-left-color: var(--fill-color);\n",
              "    }\n",
              "    20% {\n",
              "      border-color: transparent;\n",
              "      border-left-color: var(--fill-color);\n",
              "      border-top-color: var(--fill-color);\n",
              "    }\n",
              "    30% {\n",
              "      border-color: transparent;\n",
              "      border-left-color: var(--fill-color);\n",
              "      border-top-color: var(--fill-color);\n",
              "      border-right-color: var(--fill-color);\n",
              "    }\n",
              "    40% {\n",
              "      border-color: transparent;\n",
              "      border-right-color: var(--fill-color);\n",
              "      border-top-color: var(--fill-color);\n",
              "    }\n",
              "    60% {\n",
              "      border-color: transparent;\n",
              "      border-right-color: var(--fill-color);\n",
              "    }\n",
              "    80% {\n",
              "      border-color: transparent;\n",
              "      border-right-color: var(--fill-color);\n",
              "      border-bottom-color: var(--fill-color);\n",
              "    }\n",
              "    90% {\n",
              "      border-color: transparent;\n",
              "      border-bottom-color: var(--fill-color);\n",
              "    }\n",
              "  }\n",
              "</style>\n",
              "\n",
              "  <script>\n",
              "    async function quickchart(key) {\n",
              "      const quickchartButtonEl =\n",
              "        document.querySelector('#' + key + ' button');\n",
              "      quickchartButtonEl.disabled = true;  // To prevent multiple clicks.\n",
              "      quickchartButtonEl.classList.add('colab-df-spinner');\n",
              "      try {\n",
              "        const charts = await google.colab.kernel.invokeFunction(\n",
              "            'suggestCharts', [key], {});\n",
              "      } catch (error) {\n",
              "        console.error('Error during call to suggestCharts:', error);\n",
              "      }\n",
              "      quickchartButtonEl.classList.remove('colab-df-spinner');\n",
              "      quickchartButtonEl.classList.add('colab-df-quickchart-complete');\n",
              "    }\n",
              "    (() => {\n",
              "      let quickchartButtonEl =\n",
              "        document.querySelector('#df-6ac24b0c-f3a7-4c12-a0d9-4fb1985c211c button');\n",
              "      quickchartButtonEl.style.display =\n",
              "        google.colab.kernel.accessAllowed ? 'block' : 'none';\n",
              "    })();\n",
              "  </script>\n",
              "</div>\n",
              "\n",
              "  <div id=\"id_506682be-6371-4a46-94ef-3b7eff031e56\">\n",
              "    <style>\n",
              "      .colab-df-generate {\n",
              "        background-color: #E8F0FE;\n",
              "        border: none;\n",
              "        border-radius: 50%;\n",
              "        cursor: pointer;\n",
              "        display: none;\n",
              "        fill: #1967D2;\n",
              "        height: 32px;\n",
              "        padding: 0 0 0 0;\n",
              "        width: 32px;\n",
              "      }\n",
              "\n",
              "      .colab-df-generate:hover {\n",
              "        background-color: #E2EBFA;\n",
              "        box-shadow: 0px 1px 2px rgba(60, 64, 67, 0.3), 0px 1px 3px 1px rgba(60, 64, 67, 0.15);\n",
              "        fill: #174EA6;\n",
              "      }\n",
              "\n",
              "      [theme=dark] .colab-df-generate {\n",
              "        background-color: #3B4455;\n",
              "        fill: #D2E3FC;\n",
              "      }\n",
              "\n",
              "      [theme=dark] .colab-df-generate:hover {\n",
              "        background-color: #434B5C;\n",
              "        box-shadow: 0px 1px 3px 1px rgba(0, 0, 0, 0.15);\n",
              "        filter: drop-shadow(0px 1px 2px rgba(0, 0, 0, 0.3));\n",
              "        fill: #FFFFFF;\n",
              "      }\n",
              "    </style>\n",
              "    <button class=\"colab-df-generate\" onclick=\"generateWithVariable('some_data')\"\n",
              "            title=\"Generate code using this dataframe.\"\n",
              "            style=\"display:none;\">\n",
              "\n",
              "  <svg xmlns=\"http://www.w3.org/2000/svg\" height=\"24px\"viewBox=\"0 0 24 24\"\n",
              "       width=\"24px\">\n",
              "    <path d=\"M7,19H8.4L18.45,9,17,7.55,7,17.6ZM5,21V16.75L18.45,3.32a2,2,0,0,1,2.83,0l1.4,1.43a1.91,1.91,0,0,1,.58,1.4,1.91,1.91,0,0,1-.58,1.4L9.25,21ZM18.45,9,17,7.55Zm-12,3A5.31,5.31,0,0,0,4.9,8.1,5.31,5.31,0,0,0,1,6.5,5.31,5.31,0,0,0,4.9,4.9,5.31,5.31,0,0,0,6.5,1,5.31,5.31,0,0,0,8.1,4.9,5.31,5.31,0,0,0,12,6.5,5.46,5.46,0,0,0,6.5,12Z\"/>\n",
              "  </svg>\n",
              "    </button>\n",
              "    <script>\n",
              "      (() => {\n",
              "      const buttonEl =\n",
              "        document.querySelector('#id_506682be-6371-4a46-94ef-3b7eff031e56 button.colab-df-generate');\n",
              "      buttonEl.style.display =\n",
              "        google.colab.kernel.accessAllowed ? 'block' : 'none';\n",
              "\n",
              "      buttonEl.onclick = () => {\n",
              "        google.colab.notebook.generateWithVariable('some_data');\n",
              "      }\n",
              "      })();\n",
              "    </script>\n",
              "  </div>\n",
              "\n",
              "    </div>\n",
              "  </div>\n"
            ],
            "application/vnd.google.colaboratory.intrinsic+json": {
              "type": "dataframe",
              "variable_name": "some_data",
              "summary": "{\n  \"name\": \"some_data\",\n  \"rows\": 5,\n  \"fields\": [\n    {\n      \"column\": \"sl_no\",\n      \"properties\": {\n        \"dtype\": \"number\",\n        \"std\": 1,\n        \"min\": 1,\n        \"max\": 5,\n        \"num_unique_values\": 5,\n        \"samples\": [\n          2,\n          5,\n          3\n        ],\n        \"semantic_type\": \"\",\n        \"description\": \"\"\n      }\n    },\n    {\n      \"column\": \"gender\",\n      \"properties\": {\n        \"dtype\": \"category\",\n        \"num_unique_values\": 1,\n        \"samples\": [\n          \"M\"\n        ],\n        \"semantic_type\": \"\",\n        \"description\": \"\"\n      }\n    },\n    {\n      \"column\": \"ssc_p\",\n      \"properties\": {\n        \"dtype\": \"number\",\n        \"std\": 11.882019188673278,\n        \"min\": 56.0,\n        \"max\": 85.8,\n        \"num_unique_values\": 5,\n        \"samples\": [\n          79.33\n        ],\n        \"semantic_type\": \"\",\n        \"description\": \"\"\n      }\n    },\n    {\n      \"column\": \"ssc_b\",\n      \"properties\": {\n        \"dtype\": \"category\",\n        \"num_unique_values\": 2,\n        \"samples\": [\n          \"Central\"\n        ],\n        \"semantic_type\": \"\",\n        \"description\": \"\"\n      }\n    },\n    {\n      \"column\": \"hsc_p\",\n      \"properties\": {\n        \"dtype\": \"number\",\n        \"std\": 14.299579714103489,\n        \"min\": 52.0,\n        \"max\": 91.0,\n        \"num_unique_values\": 5,\n        \"samples\": [\n          78.33\n        ],\n        \"semantic_type\": \"\",\n        \"description\": \"\"\n      }\n    },\n    {\n      \"column\": \"hsc_b\",\n      \"properties\": {\n        \"dtype\": \"category\",\n        \"num_unique_values\": 2,\n        \"samples\": [\n          \"Central\"\n        ],\n        \"semantic_type\": \"\",\n        \"description\": \"\"\n      }\n    },\n    {\n      \"column\": \"hsc_s\",\n      \"properties\": {\n        \"dtype\": \"string\",\n        \"num_unique_values\": 3,\n        \"samples\": [\n          \"Commerce\"\n        ],\n        \"semantic_type\": \"\",\n        \"description\": \"\"\n      }\n    },\n    {\n      \"column\": \"degree_p\",\n      \"properties\": {\n        \"dtype\": \"number\",\n        \"std\": 10.531271528167908,\n        \"min\": 52.0,\n        \"max\": 77.48,\n        \"num_unique_values\": 5,\n        \"samples\": [\n          77.48\n        ],\n        \"semantic_type\": \"\",\n        \"description\": \"\"\n      }\n    },\n    {\n      \"column\": \"degree_t\",\n      \"properties\": {\n        \"dtype\": \"category\",\n        \"num_unique_values\": 2,\n        \"samples\": [\n          \"Comm&Mgmt\"\n        ],\n        \"semantic_type\": \"\",\n        \"description\": \"\"\n      }\n    },\n    {\n      \"column\": \"workex\",\n      \"properties\": {\n        \"dtype\": \"category\",\n        \"num_unique_values\": 2,\n        \"samples\": [\n          \"Yes\"\n        ],\n        \"semantic_type\": \"\",\n        \"description\": \"\"\n      }\n    },\n    {\n      \"column\": \"etest_p\",\n      \"properties\": {\n        \"dtype\": \"number\",\n        \"std\": 16.468090356808222,\n        \"min\": 55.0,\n        \"max\": 96.8,\n        \"num_unique_values\": 5,\n        \"samples\": [\n          86.5\n        ],\n        \"semantic_type\": \"\",\n        \"description\": \"\"\n      }\n    },\n    {\n      \"column\": \"specialisation\",\n      \"properties\": {\n        \"dtype\": \"category\",\n        \"num_unique_values\": 2,\n        \"samples\": [\n          \"Mkt&Fin\"\n        ],\n        \"semantic_type\": \"\",\n        \"description\": \"\"\n      }\n    },\n    {\n      \"column\": \"mba_p\",\n      \"properties\": {\n        \"dtype\": \"number\",\n        \"std\": 4.041474978272166,\n        \"min\": 55.5,\n        \"max\": 66.28,\n        \"num_unique_values\": 5,\n        \"samples\": [\n          66.28\n        ],\n        \"semantic_type\": \"\",\n        \"description\": \"\"\n      }\n    },\n    {\n      \"column\": \"status\",\n      \"properties\": {\n        \"dtype\": \"category\",\n        \"num_unique_values\": 2,\n        \"samples\": [\n          \"Not Placed\"\n        ],\n        \"semantic_type\": \"\",\n        \"description\": \"\"\n      }\n    },\n    {\n      \"column\": \"salary\",\n      \"properties\": {\n        \"dtype\": \"number\",\n        \"std\": 97071.70888918494,\n        \"min\": 200000.0,\n        \"max\": 425000.0,\n        \"num_unique_values\": 4,\n        \"samples\": [\n          200000.0\n        ],\n        \"semantic_type\": \"\",\n        \"description\": \"\"\n      }\n    }\n  ]\n}"
            }
          },
          "metadata": {},
          "execution_count": 25
        }
      ]
    },
    {
      "cell_type": "code",
      "source": [
        "full_pipeline_with_predictor = Pipeline([\n",
        "        (\"preparation\", full_pipeline),\n",
        "        (\"linear\", final_model)\n",
        "    ])\n",
        "\n",
        "full_pipeline_with_predictor.fit(X_train, y_train)\n",
        "full_pipeline_with_predictor.predict(some_data)"
      ],
      "metadata": {
        "colab": {
          "base_uri": "https://localhost:8080/"
        },
        "id": "UqZ1L6EC1dNY",
        "outputId": "bf16a064-3e37-4ca0-b291-404d14d268c6"
      },
      "execution_count": 26,
      "outputs": [
        {
          "output_type": "execute_result",
          "data": {
            "text/plain": [
              "array([1, 1, 1, 0, 1])"
            ]
          },
          "metadata": {},
          "execution_count": 26
        }
      ]
    },
    {
      "cell_type": "markdown",
      "source": [
        "**Save your Model**"
      ],
      "metadata": {
        "id": "fBw_z-O8UkvR"
      }
    },
    {
      "cell_type": "code",
      "source": [
        "import joblib\n",
        "joblib.dump(full_pipeline_with_predictor, \"my_model.pkl\")"
      ],
      "metadata": {
        "colab": {
          "base_uri": "https://localhost:8080/"
        },
        "id": "rrSv-LsA5HxD",
        "outputId": "543a92c8-a774-4ed9-a106-d14012ef8ca3"
      },
      "execution_count": 27,
      "outputs": [
        {
          "output_type": "execute_result",
          "data": {
            "text/plain": [
              "['my_model.pkl']"
            ]
          },
          "metadata": {},
          "execution_count": 27
        }
      ]
    },
    {
      "cell_type": "markdown",
      "source": [
        "---\n",
        "## B.2 - Deployment with Streamlit"
      ],
      "metadata": {
        "id": "G0iAriRpftTt"
      }
    },
    {
      "cell_type": "markdown",
      "source": [
        "```PY\n",
        "import streamlit as st\n",
        "import pandas as pd\n",
        "import joblib\n",
        "\n",
        "st.header('FTDS Model Deployment')\n",
        "st.write(\"\"\"\n",
        "Created by FTDS Curriculum Team\n",
        "\n",
        "Use the sidebar to select input features.\n",
        "\"\"\")\n",
        "\n",
        "@st.cache\n",
        "def fetch_data():\n",
        "    df = pd.read_csv('https://raw.githubusercontent.com/ardhiraka/PFDS_sources/master/campus.csv')\n",
        "    return df\n",
        "\n",
        "df = fetch_data()\n",
        "st.write(df)\n",
        "\n",
        "st.sidebar.header('User Input Features')\n",
        "\n",
        "def user_input():\n",
        "    gender = st.sidebar.selectbox('Gender', df['gender'].unique())\n",
        "    ssc = st.sidebar.number_input('Secondary School Points', value=67.00)\n",
        "    hsc = st.sidebar.number_input('High School Points', 0.0, value=91.0)\n",
        "    hsc_s = st.sidebar.selectbox('High School Spec', df['hsc_s'].unique())\n",
        "    degree_p = st.sidebar.number_input('Degree Points', 0.0, value=58.0)\n",
        "    degree_t = st.sidebar.selectbox('Degree Spec', df['degree_t'].unique())\n",
        "    workex = st.sidebar.selectbox('Work Experience?', df['workex'].unique())\n",
        "    etest_p = st.sidebar.number_input('Etest Points', 0.0, value=78.00)\n",
        "    spec = st.sidebar.selectbox('Specialization', df['specialisation'].unique())\n",
        "    mba_p = st.sidebar.number_input('MBA Points', 0.0, value=54.55)\n",
        "\n",
        "    data = {\n",
        "        'gender': gender,\n",
        "        'ssc_p': ssc,\n",
        "        'hsc_p': hsc,\n",
        "        'hsc_s': hsc_s,\n",
        "        'degree_p': degree_p,\n",
        "        'degree_t': degree_t,\n",
        "        'workex': workex,\n",
        "        'etest_p': etest_p,\n",
        "        'specialisation':spec,\n",
        "        'mba_p': mba_p\n",
        "    }\n",
        "    features = pd.DataFrame(data, index=[0])\n",
        "    return features\n",
        "\n",
        "\n",
        "input = user_input()\n",
        "\n",
        "st.subheader('User Input')\n",
        "st.write(input)\n",
        "\n",
        "load_model = joblib.load(\"my_model.pkl\")\n",
        "\n",
        "prediction = load_model.predict(input)\n",
        "\n",
        "if prediction == 1:\n",
        "    prediction = 'Placed'\n",
        "else:\n",
        "    prediction = 'Not Placed'\n",
        "\n",
        "st.write('Based on user input, the placement model predicted: ')\n",
        "st.write(prediction)\n",
        "\n",
        "```"
      ],
      "metadata": {
        "id": "-zX0WnYmuCTu"
      }
    },
    {
      "cell_type": "markdown",
      "source": [
        "---\n",
        "## B.3 - Deploy Your Streamlit app to Huggingface"
      ],
      "metadata": {
        "id": "iS9_UWPNfyM4"
      }
    },
    {
      "cell_type": "markdown",
      "source": [
        "HuggingFace is a community and data science platform that provides:\n",
        "* Tools that enable users to build, train and deploy ML models based on open source (OS) code and technologies.\n",
        "\n",
        "* A place where a broad community of data scientists, researchers, and ML engineers can come together and share ideas, get support and contribute to open source projects."
      ],
      "metadata": {
        "id": "kVplfyUDujvq"
      }
    },
    {
      "cell_type": "markdown",
      "source": [
        "### B.3.1 - Getting Started -> Your Repository"
      ],
      "metadata": {
        "id": "O7YY1JGvgA30"
      }
    },
    {
      "cell_type": "markdown",
      "source": [
        "When you sign up to be a member of Hugging Face you get a Git-based hosted repository where you can store: Models, Datasets and Spaces.\n",
        "\n",
        "It’s free to sign up as a Community individual contributor. There is a ‘Pro’ plan and separate pricing models for Organisations.\n",
        "\n",
        "\n",
        "You have to went ahead and signed up, during the process you can also link to a Homepage, Github and Twitter accounts, as shown below:\n",
        "\n",
        "<img src=\"https://miro.medium.com/max/1400/0*_ri6ZWReAW0EzQuH\"></img>\n",
        "\n",
        "Once you’ve created an account, you will be redirected to your personal repository. From this page you can do a number of things, including:\n",
        "* See your Activity feed\n",
        "* Viewing your profile and settings\n",
        "* Creating a new Model, Dataset or Space\n",
        "* See what’s currently trending across the Hugging Face community\n",
        "* View your the list of Organizations to which you belong and jump into their respective areas\n",
        "* Tap into helpful resources and documentation\n",
        "\n",
        "\n",
        "<img src=\"https://miro.medium.com/max/1400/0*pFzzfWYa8_6UsEDg\"></img>\n",
        "\n",
        "\n",
        "\n"
      ],
      "metadata": {
        "id": "pzXQ-MGCvK4c"
      }
    },
    {
      "cell_type": "markdown",
      "source": [
        "### B.3.2 - Models"
      ],
      "metadata": {
        "id": "imnUucIkgHBW"
      }
    },
    {
      "cell_type": "markdown",
      "source": [
        "When you create a new ‘Model’ it’s actually a Git repo for the files that relate to an ML model you want to share. It has all the benefits you would expect such as versioning, branches, discoverability and so on.\n",
        "\n",
        "Clicking the ‘+ New’ button from the Hub and then selecting ‘Model’ takes you to a dialog where you can specify a name and the type of OS licence against which you are contributing your model’s code and associated assets.\n",
        "\n",
        "You can also control the visibility of your model i.e. make it Public and make it visible to Hugging Face community or keep it Private within your personal repository or Organization.\n",
        "\n",
        "<img src=\"https://miro.medium.com/max/1400/0*e9-YQGWiSOmET0mr\"></img>\n",
        "\n",
        "\n",
        "Once the model has been created, you will be taken to a repository view, with the ‘Model card’ tab selected by default:\n",
        "\n",
        "<img src=\"https://miro.medium.com/max/1400/0*oZej9EimIB4z1c2E\"></img>\n",
        "\n",
        "\n",
        "For regular Git users, the ‘Files and versions’ tab will feel familiar:\n",
        "\n",
        "<img src=\"https://miro.medium.com/max/1400/0*pOV0vwEB-qMpcR3q\"></img>\n",
        "\n",
        "\n",
        "Your model repository is empty at the moment, but the screenshot below shows what a fully populated model card would like for one of the Hugging Face community models:\n",
        "\n",
        "<img src=\"https://miro.medium.com/max/1400/0*dM-H6pPm5rqQQBSC\"></img>"
      ],
      "metadata": {
        "id": "cEfjQMC-wgL9"
      }
    },
    {
      "cell_type": "markdown",
      "source": [
        "### B.3.3 - Dataset"
      ],
      "metadata": {
        "id": "rM93m3D4gKhb"
      }
    },
    {
      "cell_type": "markdown",
      "source": [
        "Creating a new Dataset follows a very similar flow to creating a new model. click the ‘+ New’ button from the Hub and then select ‘Dataset’. You specify the name, licence type, public or private access. Then you see a repository view, with a ‘Dataset card’, ‘Files and versions’, analogous to what you have in the Model repository.\n",
        "\n",
        "<img src=\"https://miro.medium.com/max/1400/0*wGs8xW1-4QI3TScC\"></img>"
      ],
      "metadata": {
        "id": "sHOeWGbPxbyU"
      }
    },
    {
      "cell_type": "markdown",
      "source": [
        "### B.3.4 - Spaces"
      ],
      "metadata": {
        "id": "F6KxW9nrgQXr"
      }
    },
    {
      "cell_type": "markdown",
      "source": [
        "Spaces give you a place to showcase your work in the form of self contained ML demo apps. There are lots of community contributed Spaces available for you to check out if you’re looking for inspiration.\n",
        "\n",
        "\n",
        "<img src=\"https://miro.medium.com/max/1400/0*HQBY1H7nuQoUZyAA\"></img>\n",
        "\n",
        "\n",
        "It’s a nice way to build a portfolio of your projects that could be used when presenting, working collaboratively with colleagues in your organization or with the broader ML ecosystem.\n",
        "\n",
        "To get started click the ‘+ New’ button from the Hub and then select ‘Space’. This takes you to a dialog where you can specify the name of the Space and the licence type.\n",
        "\n",
        "You will also need to choose an SDK. At the time of writing you can pick from two Python based frameworks for hosting apps: Gradio or Streamlit. Alternatively you can just use custom HTML.\n",
        "\n",
        "![Screenshot 2022-11-07 at 18.11.57.png](data:image/png;base64,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)\n",
        "\n",
        "However, in this class, we will choose **Streamlit**."
      ],
      "metadata": {
        "id": "l2X4n1-Rxl-p"
      }
    },
    {
      "cell_type": "markdown",
      "source": [
        "### B.3.5 - Get Started with Your Spaces!"
      ],
      "metadata": {
        "id": "wIoe0CDGgUMj"
      }
    },
    {
      "cell_type": "markdown",
      "source": [
        "To get start, you can clone the repository as well as you have done with the Github classroom repo.\n",
        "\n",
        "```bash\n",
        "$git clone https://huggingface.co/spaces/fahmimnalfrzki/ml-deploy-p1\n",
        "\n",
        "$git add app.py\n",
        "$git commit -m \"Add application file\"\n",
        "$git push\n",
        "```\n",
        "\n",
        "**Note that don't include the `$` on terminal/prompt**\n",
        "\n",
        "\n",
        "Huggingface spaces now can run your app.py, but if there are some libraries or depedencies that you need to include with your app, please add requirement.txt file at the root of the repository to specify Python dependencies. Note that Huggingface Spaces only include Streamlit and basic Python library.\n",
        "\n",
        "Example your requirement.txt:\n",
        "\n",
        "```\n",
        "sklearn\n",
        "pandas\n",
        "matplotlib\n",
        "joblib\n",
        "```\n",
        "\n",
        "\n",
        "\n"
      ],
      "metadata": {
        "id": "z2xLgsg6y7LX"
      }
    }
  ]
}