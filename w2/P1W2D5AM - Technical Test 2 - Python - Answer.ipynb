{
  "nbformat": 4,
  "nbformat_minor": 0,
  "metadata": {
    "colab": {
      "provenance": [],
      "toc_visible": true
    },
    "kernelspec": {
      "name": "python3",
      "display_name": "Python 3"
    },
    "language_info": {
      "name": "python"
    }
  },
  "cells": [
    {
      "cell_type": "markdown",
      "source": [
        "# Phase 1 - Week 2 - Day 5 AM - Technical Test: Python"
      ],
      "metadata": {
        "id": "GKtZGY_8Ke1p"
      }
    },
    {
      "cell_type": "markdown",
      "source": [
        "## A. Check if a Number Exists in a List"
      ],
      "metadata": {
        "id": "VCrDiu-2sS9g"
      }
    },
    {
      "cell_type": "markdown",
      "source": [
        "**Problem**:  \n",
        "Write a function that takes a list of numbers and a target number, and returns `True` if the target exists in the list, otherwise `False`.\n",
        "\n",
        "<br>\n",
        "\n",
        "**Example**:  \n",
        "Input:\n",
        "```\n",
        "numbers = [1, 2, 3, 4, 5]\n",
        "target = 3\n",
        "```\n",
        "\n",
        "Output:\n",
        "```\n",
        "True\n",
        "```"
      ],
      "metadata": {
        "id": "WTsKaqpSS4b4"
      }
    },
    {
      "cell_type": "code",
      "source": [
        "def check_number_exists(numbers, target):\n",
        "  for num in numbers:\n",
        "    if num == target:\n",
        "      return True\n",
        "  return False\n",
        "\n",
        "numbers = [1, 2, 3, 4, 5]\n",
        "target = 3\n",
        "\n",
        "print(check_number_exists(numbers, target))"
      ],
      "metadata": {
        "colab": {
          "base_uri": "https://localhost:8080/"
        },
        "id": "mstDoEFfS-Na",
        "outputId": "34b54ee5-9268-4058-e31d-f0ed11898140"
      },
      "execution_count": 1,
      "outputs": [
        {
          "output_type": "stream",
          "name": "stdout",
          "text": [
            "True\n"
          ]
        }
      ]
    },
    {
      "cell_type": "markdown",
      "source": [
        "## B. Find the Sum of All Elements in a List"
      ],
      "metadata": {
        "id": "oeHkW8rLrX4R"
      }
    },
    {
      "cell_type": "markdown",
      "source": [
        "**Problem**:  \n",
        "Write a function that takes a list of numbers and returns the sum of all elements. **(Do not using any built in function or method)**\n",
        "\n",
        "<br>\n",
        "\n",
        "**Example**:  \n",
        "Input:  \n",
        "```\n",
        "[1, 2, 3, 4, 5]\n",
        "```\n",
        "\n",
        "Output:\n",
        "```\n",
        "15\n",
        "```"
      ],
      "metadata": {
        "id": "d9C5TRBESDsY"
      }
    },
    {
      "cell_type": "code",
      "source": [
        "# Using a function\n",
        "\n",
        "def sum_total(nums):\n",
        "  total = 0\n",
        "\n",
        "  # loop the nums\n",
        "  for num in nums:\n",
        "    total += num\n",
        "\n",
        "  # return the total\n",
        "  return total\n",
        "\n",
        "nums = [1,2,3,4,5]\n",
        "print(sum_total(nums))"
      ],
      "metadata": {
        "colab": {
          "base_uri": "https://localhost:8080/"
        },
        "id": "az-Rov3zSRAA",
        "outputId": "a2bdbcdc-a1c6-43aa-fde1-d834abc43459"
      },
      "execution_count": 2,
      "outputs": [
        {
          "output_type": "stream",
          "name": "stdout",
          "text": [
            "15\n"
          ]
        }
      ]
    },
    {
      "cell_type": "markdown",
      "source": [
        "## C. Reverse a String Without Using Built-in Functions"
      ],
      "metadata": {
        "id": "bAF7O11RrfrI"
      }
    },
    {
      "cell_type": "markdown",
      "source": [
        "**Problem**:  \n",
        "Write a function that takes a string and returns its reverse **without using any built-in string reversal methods**.\n",
        "\n",
        "<br>\n",
        "\n",
        "**Example**:  \n",
        "Input:\n",
        "```\n",
        "hello\n",
        "```\n",
        "\n",
        "Output:\n",
        "```\n",
        "olleh\n",
        "```"
      ],
      "metadata": {
        "id": "8UYqJ-blhvBt"
      }
    },
    {
      "cell_type": "code",
      "source": [
        "# Using a function\n",
        "\n",
        "def reverse_string(s):\n",
        "  reversed_str = \"\"\n",
        "  for char in s:\n",
        "    reversed_str = char + reversed_str  # Prepend each character\n",
        "  return reversed_str\n",
        "\n",
        "# Example\n",
        "print(reverse_string(\"hello\"))  # Output: \"olleh\""
      ],
      "metadata": {
        "colab": {
          "base_uri": "https://localhost:8080/"
        },
        "id": "95mYUHMRhyXh",
        "outputId": "93824ad2-b55f-4cdb-c65f-0e24d942c689"
      },
      "execution_count": 3,
      "outputs": [
        {
          "output_type": "stream",
          "name": "stdout",
          "text": [
            "olleh\n"
          ]
        }
      ]
    },
    {
      "cell_type": "markdown",
      "source": [
        "## D. The Common Element"
      ],
      "metadata": {
        "id": "BRNw8jOYtnmb"
      }
    },
    {
      "cell_type": "markdown",
      "source": [
        "**Problem:**\n",
        "Given two arrays/lists of integer, please return the common element between them. The output list should not contain duplicates.\n",
        "\n",
        "<br>\n",
        "\n",
        "**Example:**  \n",
        "Input:  \n",
        "```\n",
        "list1 = [1, 2, 3, 4, 5]\n",
        "list2 = [7, 6, 4, 5]\n",
        "```  \n",
        "\n",
        "Output:\n",
        "```\n",
        "[4, 5]\n",
        "```"
      ],
      "metadata": {
        "id": "0Gessg0YNWMf"
      }
    },
    {
      "cell_type": "code",
      "source": [
        "def find_common_elements(list1, list2):\n",
        "  common = []\n",
        "  for num in list1:  # Iterate through each element in list1\n",
        "    if num in list2 and num not in common:  # Check if it exists in list2 and is not already added\n",
        "      common.append(num)\n",
        "  return common\n",
        "\n",
        "# Example test\n",
        "list1 = [1, 2, 3, 4, 5]\n",
        "list2 = [7, 6, 4, 5]\n",
        "\n",
        "print(find_common_elements(list1, list2))  # Output: [4, 5]"
      ],
      "metadata": {
        "colab": {
          "base_uri": "https://localhost:8080/"
        },
        "id": "wlLUt-bZOyp8",
        "outputId": "7acc7063-cfe0-4983-ff48-68755925a0a5"
      },
      "execution_count": 4,
      "outputs": [
        {
          "output_type": "stream",
          "name": "stdout",
          "text": [
            "[4, 5]\n"
          ]
        }
      ]
    },
    {
      "cell_type": "markdown",
      "source": [
        "## E. Find the Largest Number in a List"
      ],
      "metadata": {
        "id": "epSqbVG1sPeN"
      }
    },
    {
      "cell_type": "markdown",
      "source": [
        "**Problem**:  \n",
        "Write a function that takes a list of numbers and returns the largest number in the list **without using built-in functions**.\n",
        "\n",
        "<br>\n",
        "\n",
        "**Example**:  \n",
        "Input:\n",
        "```\n",
        "[3, 7, 2, 9, 4]\n",
        "```\n",
        "\n",
        "Output:\n",
        "```\n",
        "9\n",
        "```"
      ],
      "metadata": {
        "id": "LTgoQg7gR9R5"
      }
    },
    {
      "cell_type": "code",
      "source": [
        "def find_largest_number(numbers):\n",
        "  if not numbers:\n",
        "    return None  # Handle empty list case\n",
        "  largest = numbers[0]\n",
        "  for num in numbers:\n",
        "    if num > largest:\n",
        "      largest = num\n",
        "  return largest\n",
        "\n",
        "nums = [3,7,2,9,4]\n",
        "print(find_largest_number(nums))"
      ],
      "metadata": {
        "colab": {
          "base_uri": "https://localhost:8080/"
        },
        "id": "bhMCqqYWSr79",
        "outputId": "ed7e7d21-34d1-485e-992c-4fbc3256077f"
      },
      "execution_count": 5,
      "outputs": [
        {
          "output_type": "stream",
          "name": "stdout",
          "text": [
            "9\n"
          ]
        }
      ]
    },
    {
      "cell_type": "markdown",
      "source": [
        "## F. Remove Duplicates from a List"
      ],
      "metadata": {
        "id": "AFamSHE2ta9B"
      }
    },
    {
      "cell_type": "markdown",
      "source": [
        "**Problem**:  \n",
        "Write a function that takes a list and returns a new list with duplicates removed. **Do not using `set` data type**\n",
        "\n",
        "<br>\n",
        "\n",
        "**Example**:  \n",
        "Input:\n",
        "```\n",
        "[1, 2, 2, 3, 4, 4, 5]\n",
        "```\n",
        "\n",
        "Output:\n",
        "```\n",
        "[1, 2, 3, 4, 5]\n",
        "```"
      ],
      "metadata": {
        "id": "Iaui4VdnTfka"
      }
    },
    {
      "cell_type": "code",
      "source": [
        "def remove_duplicates(lst):\n",
        "  unique_list = []  # Empty list to store unique elements\n",
        "  for num in lst:\n",
        "    if num not in unique_list:  # Check if number is already added\n",
        "      unique_list.append(num)\n",
        "  return unique_list\n",
        "\n",
        "# Example test\n",
        "nums = [1, 2, 2, 3, 4, 4, 5]\n",
        "print(remove_duplicates(nums))  # Output: [1, 2, 3, 4, 5]"
      ],
      "metadata": {
        "colab": {
          "base_uri": "https://localhost:8080/"
        },
        "id": "0v6oVKbDR4j8",
        "outputId": "0005adcc-2b50-47e3-f2e8-bce62234ce02"
      },
      "execution_count": 6,
      "outputs": [
        {
          "output_type": "stream",
          "name": "stdout",
          "text": [
            "[1, 2, 3, 4, 5]\n"
          ]
        }
      ]
    },
    {
      "cell_type": "markdown",
      "source": [
        "## G. Find the Second Largest Number in a List"
      ],
      "metadata": {
        "id": "2wMfgQmcriGc"
      }
    },
    {
      "cell_type": "markdown",
      "source": [
        "**Problem**:  \n",
        "Write a function that takes a list of numbers and returns the **second largest** number **without using built-in sorting functions**.\n",
        "\n",
        "<br>\n",
        "\n",
        "**Example**:  \n",
        "Input:\n",
        "```\n",
        "[10, 20, 4, 45, 99]\n",
        "```\n",
        "\n",
        "Output:\n",
        "```\n",
        "45\n",
        "```"
      ],
      "metadata": {
        "id": "aXqakHVjiHQv"
      }
    },
    {
      "cell_type": "code",
      "source": [
        "def second_largest(lst):\n",
        "  if len(lst) < 2:\n",
        "    return None  # Handle cases with fewer than 2 elements\n",
        "  first, second = float('-inf'), float('-inf')\n",
        "  for num in lst:\n",
        "    if num > first:\n",
        "      second = first\n",
        "      first = num\n",
        "    elif second < num < first:\n",
        "      second = num\n",
        "  return second if second != float('-inf') else None  # Handle all elements being the same\n",
        "\n",
        "# Example\n",
        "print(second_largest([10, 20, 4, 45, 99]))  # Output: 45"
      ],
      "metadata": {
        "colab": {
          "base_uri": "https://localhost:8080/"
        },
        "id": "4eqT-2p1iNmc",
        "outputId": "991bc567-9c73-41ff-ae50-049cb83b8c93"
      },
      "execution_count": 7,
      "outputs": [
        {
          "output_type": "stream",
          "name": "stdout",
          "text": [
            "45\n"
          ]
        }
      ]
    },
    {
      "cell_type": "markdown",
      "source": [
        "---\n",
        "\n",
        "## H. Free Practice"
      ],
      "metadata": {
        "id": "DXE5JjztyJNo"
      }
    },
    {
      "cell_type": "markdown",
      "source": [
        "### H.1. Count the Number of Even Numbers in a List"
      ],
      "metadata": {
        "id": "_VgJ1H2ztU0h"
      }
    },
    {
      "cell_type": "markdown",
      "source": [
        "**Problem**:  \n",
        "Write a function that takes a list of integers and returns the count of even numbers in the list.\n",
        "\n",
        "<br>\n",
        "\n",
        "**Example**:  \n",
        "Input: `[1, 2, 3, 4, 5, 6]`  \n",
        "Output: `3`"
      ],
      "metadata": {
        "id": "GHE57feKTHyb"
      }
    },
    {
      "cell_type": "code",
      "source": [
        "def count_even_numbers(numbers):\n",
        "  count = 0\n",
        "  for num in numbers:\n",
        "    if num % 2 == 0:\n",
        "      count += 1\n",
        "  return count\n",
        "\n",
        "numbers = [1, 2, 3, 4, 5, 6, 7, 8, 9, 10]\n",
        "even_count = count_even_numbers(numbers)\n",
        "print(\"Number of even numbers:\", even_count)"
      ],
      "metadata": {
        "colab": {
          "base_uri": "https://localhost:8080/"
        },
        "id": "K5zGLoHATRrp",
        "outputId": "57abd589-6f74-49d0-f16c-433eade6bba2"
      },
      "execution_count": 8,
      "outputs": [
        {
          "output_type": "stream",
          "name": "stdout",
          "text": [
            "Number of even numbers: 5\n"
          ]
        }
      ]
    },
    {
      "cell_type": "markdown",
      "source": [
        "### H.2. The Sort Challenge"
      ],
      "metadata": {
        "id": "M59V2IS0tdCS"
      }
    },
    {
      "cell_type": "markdown",
      "source": [
        "**Problem:**  \n",
        "Given an array of integers `num`, return the sort sequence of the list in ascending format **without** using any build-in method of sort (`.sort()`)\n",
        "\n",
        "<br>\n",
        "\n",
        "**Example:**  \n",
        "Input:\n",
        "```\n",
        "[9, 8, 1, 7, 6]\n",
        "```\n",
        "\n",
        "Output:\n",
        "```\n",
        "[1, 6, 7, 8, 9]\n",
        "```"
      ],
      "metadata": {
        "id": "lJT9HQ0GMBjD"
      }
    },
    {
      "cell_type": "code",
      "source": [
        "# first method\n",
        "def selection_sort(nums):\n",
        "  n = len(nums)\n",
        "  for i in range(n):\n",
        "    min_index = i\n",
        "    for j in range(i + 1, n):\n",
        "      if nums[j] < nums[min_index]:\n",
        "        min_index = j\n",
        "    nums[i], nums[min_index] = nums[min_index], nums[i]  # Swap\n",
        "  return nums\n",
        "\n",
        "# Example test\n",
        "nums = [9, 8, 1, 7, 6]\n",
        "print(selection_sort(nums))  # Output: [1, 6, 7, 8, 9]"
      ],
      "metadata": {
        "colab": {
          "base_uri": "https://localhost:8080/"
        },
        "id": "PKUdLHrIPVbN",
        "outputId": "37ecae04-f22e-4abe-8e54-3177067b9346"
      },
      "execution_count": 9,
      "outputs": [
        {
          "output_type": "stream",
          "name": "stdout",
          "text": [
            "[1, 6, 7, 8, 9]\n"
          ]
        }
      ]
    },
    {
      "cell_type": "code",
      "source": [
        "# second method\n",
        "def sort_using_empty_list(nums):\n",
        "  sorted_list = []  # Initialize an empty list\n",
        "  while nums:  # Loop until the original list is empty\n",
        "    min_value = min(nums)  # Find the minimum value in the list\n",
        "    sorted_list.append(min_value)  # Append it to the new list\n",
        "    nums.remove(min_value)  # Remove the minimum value from the original list\n",
        "  return sorted_list\n",
        "\n",
        "# Example test\n",
        "nums = [9, 8, 1, 7, 6]\n",
        "print(sort_using_empty_list(nums))  # Output: [1, 6, 7, 8, 9]"
      ],
      "metadata": {
        "colab": {
          "base_uri": "https://localhost:8080/"
        },
        "id": "wdUM671zMBW9",
        "outputId": "51e86ab0-bd98-4ceb-a9c0-40fc8f96e5a4"
      },
      "execution_count": 10,
      "outputs": [
        {
          "output_type": "stream",
          "name": "stdout",
          "text": [
            "[1, 6, 7, 8, 9]\n"
          ]
        }
      ]
    },
    {
      "cell_type": "markdown",
      "source": [
        "### H.3. The Two Sum Problem"
      ],
      "metadata": {
        "id": "xl1m-jEkthbw"
      }
    },
    {
      "cell_type": "markdown",
      "source": [
        "**Problem:**  \n",
        "Given an array of integers `nums` and an integer `target`, return **indices** of the two numbers such that they add up to `target`.\n",
        "You may assume that each input would have **exactly one solution**, and you may not use the *same* element twice.\n",
        "You can return the answer in any order.\n",
        "\n",
        "<br>\n",
        "\n",
        "**Example:**  \n",
        "Input:\n",
        "```\n",
        "nums = [2, 7, 11, 15]\n",
        "target = 9\n",
        "```\n",
        "\n",
        "Output:\n",
        "```\n",
        "[0,1]\n",
        "```\n",
        "\n",
        "*Explanation: Because `nums[0] + nums[1] == 9`, we return `[0, 1]`*\n"
      ],
      "metadata": {
        "id": "VT7ngsd6Kxzd"
      }
    },
    {
      "cell_type": "code",
      "source": [
        "def two_sum(nums, target):\n",
        "    # Create a dictionary to store the difference and its index\n",
        "    num_to_index = {}\n",
        "\n",
        "    # Iterate through the list\n",
        "    for i, num in enumerate(nums):\n",
        "      # Calculate the difference needed to reach the target\n",
        "      difference = target - num\n",
        "\n",
        "      # Check if the difference is already in the dictionary\n",
        "      if difference in num_to_index:\n",
        "        # If found, return the current index and the stored index\n",
        "        return [num_to_index[difference], i]\n",
        "\n",
        "      # Otherwise, store the current number and its index in the dictionary\n",
        "      num_to_index[num] = i\n",
        "\n",
        "    # If no solution is found (though the problem guarantees one), return an empty list\n",
        "    return []\n",
        "\n",
        "\n",
        "nums = [2, 7, 11, 15]\n",
        "target = 9\n",
        "print(two_sum(nums, target))  # Output: [0, 1]"
      ],
      "metadata": {
        "colab": {
          "base_uri": "https://localhost:8080/"
        },
        "id": "NemmLGHbLHGe",
        "outputId": "96c61de5-335b-46d2-9e14-c9fa911ffbe2"
      },
      "execution_count": 11,
      "outputs": [
        {
          "output_type": "stream",
          "name": "stdout",
          "text": [
            "[0, 1]\n"
          ]
        }
      ]
    }
  ]
}