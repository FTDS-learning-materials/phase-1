{
  "nbformat": 4,
  "nbformat_minor": 0,
  "metadata": {
    "colab": {
      "provenance": [],
      "toc_visible": true
    },
    "kernelspec": {
      "name": "python3",
      "display_name": "Python 3"
    },
    "language_info": {
      "name": "python"
    }
  },
  "cells": [
    {
      "cell_type": "markdown",
      "source": [
        "# Phase 1 - Week 2 - Day 5 AM - Technical Test: Python"
      ],
      "metadata": {
        "id": "GKtZGY_8Ke1p"
      }
    },
    {
      "cell_type": "markdown",
      "source": [
        "## A. Check if a Number Exists in a List"
      ],
      "metadata": {
        "id": "VCrDiu-2sS9g"
      }
    },
    {
      "cell_type": "markdown",
      "source": [
        "**Problem**:  \n",
        "Write a function that takes a list of numbers and a target number, and returns `True` if the target exists in the list, otherwise `False`.\n",
        "\n",
        "<br>\n",
        "\n",
        "**Example**:  \n",
        "Input:\n",
        "```\n",
        "numbers = [1, 2, 3, 4, 5]\n",
        "target = 3\n",
        "```\n",
        "\n",
        "Output:\n",
        "```\n",
        "True\n",
        "```"
      ],
      "metadata": {
        "id": "WTsKaqpSS4b4"
      }
    },
    {
      "cell_type": "markdown",
      "source": [
        "## B. Find the Sum of All Elements in a List"
      ],
      "metadata": {
        "id": "oeHkW8rLrX4R"
      }
    },
    {
      "cell_type": "markdown",
      "source": [
        "**Problem**:  \n",
        "Write a function that takes a list of numbers and returns the sum of all elements. **(Do not using any built in function or method)**\n",
        "\n",
        "<br>\n",
        "\n",
        "**Example**:  \n",
        "Input:  \n",
        "```\n",
        "[1, 2, 3, 4, 5]\n",
        "```\n",
        "\n",
        "Output:\n",
        "```\n",
        "15\n",
        "```"
      ],
      "metadata": {
        "id": "d9C5TRBESDsY"
      }
    },
    {
      "cell_type": "markdown",
      "source": [
        "## C. Reverse a String Without Using Built-in Functions"
      ],
      "metadata": {
        "id": "bAF7O11RrfrI"
      }
    },
    {
      "cell_type": "markdown",
      "source": [
        "**Problem**:  \n",
        "Write a function that takes a string and returns its reverse **without using any built-in string reversal methods**.\n",
        "\n",
        "<br>\n",
        "\n",
        "**Example**:  \n",
        "Input:\n",
        "```\n",
        "hello\n",
        "```\n",
        "\n",
        "Output:\n",
        "```\n",
        "olleh\n",
        "```"
      ],
      "metadata": {
        "id": "8UYqJ-blhvBt"
      }
    },
    {
      "cell_type": "markdown",
      "source": [
        "## D. The Common Element"
      ],
      "metadata": {
        "id": "BRNw8jOYtnmb"
      }
    },
    {
      "cell_type": "markdown",
      "source": [
        "**Problem:**\n",
        "Given two arrays/lists of integer, please return the common element between them. The output list should not contain duplicates.\n",
        "\n",
        "<br>\n",
        "\n",
        "**Example:**  \n",
        "Input:  \n",
        "```\n",
        "list1 = [1, 2, 3, 4, 5]\n",
        "list2 = [7, 6, 4, 5]\n",
        "```  \n",
        "\n",
        "Output:\n",
        "```\n",
        "[4, 5]\n",
        "```"
      ],
      "metadata": {
        "id": "0Gessg0YNWMf"
      }
    },
    {
      "cell_type": "markdown",
      "source": [
        "## E. Find the Largest Number in a List"
      ],
      "metadata": {
        "id": "epSqbVG1sPeN"
      }
    },
    {
      "cell_type": "markdown",
      "source": [
        "**Problem**:  \n",
        "Write a function that takes a list of numbers and returns the largest number in the list **without using built-in functions**.\n",
        "\n",
        "<br>\n",
        "\n",
        "**Example**:  \n",
        "Input:\n",
        "```\n",
        "[3, 7, 2, 9, 4]\n",
        "```\n",
        "\n",
        "Output:\n",
        "```\n",
        "9\n",
        "```"
      ],
      "metadata": {
        "id": "LTgoQg7gR9R5"
      }
    },
    {
      "cell_type": "markdown",
      "source": [
        "## F. Remove Duplicates from a List"
      ],
      "metadata": {
        "id": "AFamSHE2ta9B"
      }
    },
    {
      "cell_type": "markdown",
      "source": [
        "**Problem**:  \n",
        "Write a function that takes a list and returns a new list with duplicates removed. **Do not using `set` data type**\n",
        "\n",
        "<br>\n",
        "\n",
        "**Example**:  \n",
        "Input:\n",
        "```\n",
        "[1, 2, 2, 3, 4, 4, 5]\n",
        "```\n",
        "\n",
        "Output:\n",
        "```\n",
        "[1, 2, 3, 4, 5]\n",
        "```"
      ],
      "metadata": {
        "id": "Iaui4VdnTfka"
      }
    },
    {
      "cell_type": "markdown",
      "source": [
        "## G. Find the Second Largest Number in a List"
      ],
      "metadata": {
        "id": "2wMfgQmcriGc"
      }
    },
    {
      "cell_type": "markdown",
      "source": [
        "**Problem**:  \n",
        "Write a function that takes a list of numbers and returns the **second largest** number **without using built-in sorting functions**.\n",
        "\n",
        "<br>\n",
        "\n",
        "**Example**:  \n",
        "Input:\n",
        "```\n",
        "[10, 20, 4, 45, 99]\n",
        "```\n",
        "\n",
        "Output:\n",
        "```\n",
        "45\n",
        "```"
      ],
      "metadata": {
        "id": "aXqakHVjiHQv"
      }
    },
    {
      "cell_type": "markdown",
      "source": [
        "---\n",
        "\n",
        "## H. Free Practice"
      ],
      "metadata": {
        "id": "DXE5JjztyJNo"
      }
    },
    {
      "cell_type": "markdown",
      "source": [
        "### H.1. Count the Number of Even Numbers in a List"
      ],
      "metadata": {
        "id": "_VgJ1H2ztU0h"
      }
    },
    {
      "cell_type": "markdown",
      "source": [
        "**Problem**:  \n",
        "Write a function that takes a list of integers and returns the count of even numbers in the list.\n",
        "\n",
        "<br>\n",
        "\n",
        "**Example**:  \n",
        "Input: `[1, 2, 3, 4, 5, 6]`  \n",
        "Output: `3`"
      ],
      "metadata": {
        "id": "GHE57feKTHyb"
      }
    },
    {
      "cell_type": "markdown",
      "source": [
        "### H.2. The Sort Challenge"
      ],
      "metadata": {
        "id": "M59V2IS0tdCS"
      }
    },
    {
      "cell_type": "markdown",
      "source": [
        "**Problem:**  \n",
        "Given an array of integers `num`, return the sort sequence of the list in ascending format **without** using any build-in method of sort (`.sort()`)\n",
        "\n",
        "<br>\n",
        "\n",
        "**Example:**  \n",
        "Input:\n",
        "```\n",
        "[9, 8, 1, 7, 6]\n",
        "```\n",
        "\n",
        "Output:\n",
        "```\n",
        "[1, 6, 7, 8, 9]\n",
        "```"
      ],
      "metadata": {
        "id": "lJT9HQ0GMBjD"
      }
    },
    {
      "cell_type": "markdown",
      "source": [
        "### H.3. The Two Sum Problem"
      ],
      "metadata": {
        "id": "xl1m-jEkthbw"
      }
    },
    {
      "cell_type": "markdown",
      "source": [
        "**Problem:**  \n",
        "Given an array of integers `nums` and an integer `target`, return **indices** of the two numbers such that they add up to `target`.\n",
        "You may assume that each input would have **exactly one solution**, and you may not use the *same* element twice.\n",
        "You can return the answer in any order.\n",
        "\n",
        "<br>\n",
        "\n",
        "**Example:**  \n",
        "Input:\n",
        "```\n",
        "nums = [2, 7, 11, 15]\n",
        "target = 9\n",
        "```\n",
        "\n",
        "Output:\n",
        "```\n",
        "[0,1]\n",
        "```\n",
        "\n",
        "*Explanation: Because `nums[0] + nums[1] == 9`, we return `[0, 1]`*\n"
      ],
      "metadata": {
        "id": "VT7ngsd6Kxzd"
      }
    }
  ]
}