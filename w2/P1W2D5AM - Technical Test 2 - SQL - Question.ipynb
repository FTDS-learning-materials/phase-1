{
  "nbformat": 4,
  "nbformat_minor": 0,
  "metadata": {
    "colab": {
      "provenance": [],
      "toc_visible": true
    },
    "kernelspec": {
      "name": "python3",
      "display_name": "Python 3"
    },
    "language_info": {
      "name": "python"
    }
  },
  "cells": [
    {
      "cell_type": "markdown",
      "source": [
        "# Phase 1 - Week 2 - Day 5 AM - Technical Test: SQL"
      ],
      "metadata": {
        "id": "j07SxGWO6oOH"
      }
    },
    {
      "cell_type": "markdown",
      "source": [
        "## A. Overview"
      ],
      "metadata": {
        "id": "rQ0DqSve4CFT"
      }
    },
    {
      "cell_type": "markdown",
      "source": [
        "This technical assessment evaluates SQL querying skills across various difficulty levels, from basic `SELECT` statements to complex analytical queries. The test consists of 6 questions that progressively increase in complexity, allowing candidates to demonstrate their proficiency in SQL."
      ],
      "metadata": {
        "id": "WTchgBzU4Dy7"
      }
    },
    {
      "cell_type": "markdown",
      "source": [
        "### A.1 - Skills Evaluated"
      ],
      "metadata": {
        "id": "65G8yZIG4GFR"
      }
    },
    {
      "cell_type": "markdown",
      "source": [
        "* Basic querying and filtering (`SELECT`, `WHERE`)\n",
        "* Table relationships and `JOIN`s\n",
        "* Aggregation and grouping (`GROUP BY`, `HAVING`)\n",
        "* Subqueries and Common Table Expressions (CTEs)\n",
        "* Window functions\n",
        "* Advanced analytical queries"
      ],
      "metadata": {
        "id": "2tgSH8uE4J4E"
      }
    },
    {
      "cell_type": "markdown",
      "source": [
        "### A.2 - Dataset Description"
      ],
      "metadata": {
        "id": "x1_tn5Ck4UTj"
      }
    },
    {
      "cell_type": "markdown",
      "source": [
        "The assessment uses the Chinook Database, which models a digital media store similar to iTunes. The database follows a normalized structure with proper foreign key relationships. You could download the dataset on this [link](https://github.com/FTDS-learning-materials/phase-1/raw/refs/heads/master/w2/P1W2D5AM%20-%20Technical%20Test%202%20-%20SQL%20-%20Export%20Files.sql)."
      ],
      "metadata": {
        "id": "Kk7AiLJyTcuQ"
      }
    },
    {
      "cell_type": "markdown",
      "source": [
        "**Key Tables and Their Structures**\n",
        "\n",
        "*Related to Core Music Data*\n",
        "1.  **Album**\n",
        "  * album_id (PK)\n",
        "  * title\n",
        "  * artist_id (FK)\n",
        "\n",
        "2. **Artist**\n",
        "  * artist_id (PK)\n",
        "  * name\n",
        "\n",
        "3. **Track**\n",
        "  * track_id (PK)\n",
        "  * name\n",
        "  * album_id (FK)\n",
        "  * media_type_id (FK)\n",
        "  * genre_id (FK)\n",
        "  * composer\n",
        "  * milliseconds\n",
        "  * bytes\n",
        "  * unit_price\n",
        "\n",
        "4. **Genre**\n",
        "  * genre_id (PK)\n",
        "  * name\n",
        "\n",
        "*Related to Sales and Customer Data*\n",
        "1. **Customer**\n",
        "  * customer_id (PK)\n",
        "  * first_name\n",
        "  * last_name\n",
        "  * email\n",
        "  * other customer details\n",
        "\n",
        "2. **Invoice**\n",
        "  * invoice_id (PK)\n",
        "  * customer_id (FK)\n",
        "  * invoice_date\n",
        "  * total\n",
        "\n",
        "3. **InvoiceLine**\n",
        "  * invoice_line_id (PK)\n",
        "  * invoice_id (FK)\n",
        "  * track_id (FK)\n",
        "  * unit_price\n",
        "  * quantity\n",
        "\n",
        "*Related to Playlist Management*\n",
        "1. **Playlist**\n",
        "  * playlist_id (PK)\n",
        "  * name\n",
        "\n",
        "2. **PlaylistTrack**\n",
        "  * playlist_id (FK)\n",
        "  * track_id (FK)"
      ],
      "metadata": {
        "id": "UGw0FfYi4TSj"
      }
    },
    {
      "cell_type": "markdown",
      "source": [
        "### A.3 - Important Notes"
      ],
      "metadata": {
        "id": "PpwBELy95Bay"
      }
    },
    {
      "cell_type": "markdown",
      "source": [
        "1. All monetary values are in USD\n",
        "2. Track lengths are stored in milliseconds\n",
        "3. Column names use snake_case convention\n",
        "4. All primary and foreign key relationships are properly indexed"
      ],
      "metadata": {
        "id": "TgK2iKlM4_Xm"
      }
    },
    {
      "cell_type": "markdown",
      "source": [
        "### A.4 - Tips for Success"
      ],
      "metadata": {
        "id": "X6sx3oL05jY7"
      }
    },
    {
      "cell_type": "markdown",
      "source": [
        "1. Read each question carefully before starting\n",
        "2. Consider edge cases in your solutions\n",
        "3. Test your queries with different scenarios\n",
        "4. Focus on both functionality and performance\n",
        "5. Use appropriate table aliases for better readability\n",
        "6. Include necessary comments to explain complex logic"
      ],
      "metadata": {
        "id": "UKC17FjA5iNN"
      }
    },
    {
      "cell_type": "markdown",
      "source": [
        "### A.5 - Database Properties"
      ],
      "metadata": {
        "id": "V4Oeq5pg5rTw"
      }
    },
    {
      "cell_type": "markdown",
      "source": [
        "1. Fully normalized database structure\n",
        "2. Referential integrity enforced through foreign keys\n",
        "3. Indexes on frequently queried columns\n",
        "4. Contains sample data across multiple years\n",
        "5. Realistic business scenarios and relationships\n",
        "\n",
        "\n",
        "Remember that the questions are designed to test both your knowledge of SQL fundamentals and your ability to solve complex business problems using SQL."
      ],
      "metadata": {
        "id": "O2d_BwnBdhWF"
      }
    },
    {
      "cell_type": "markdown",
      "source": [
        "## B. Questions"
      ],
      "metadata": {
        "id": "q1ZHb1M850Py"
      }
    },
    {
      "cell_type": "markdown",
      "source": [
        "### B.1 - Find all tracks that have a length greater than 5 minutes (length is stored in milliseconds)"
      ],
      "metadata": {
        "id": "yGaQwivP6rEt"
      }
    },
    {
      "cell_type": "markdown",
      "source": [
        "### B.2 - List all albums and their artists, showing only albums from the 'Rock' genre\n"
      ],
      "metadata": {
        "id": "3AFxAs4c65AR"
      }
    },
    {
      "cell_type": "markdown",
      "source": [
        "### B.3 - Find genres that have more than 100 tracks and show their average track length"
      ],
      "metadata": {
        "id": "itcgoayr7Slu"
      }
    },
    {
      "cell_type": "markdown",
      "source": [
        "### B.4 - Find the top 3 artists by number of tracks in each genre"
      ],
      "metadata": {
        "id": "E-12FQqs75pN"
      }
    },
    {
      "cell_type": "markdown",
      "source": [
        "## C. Free Practice"
      ],
      "metadata": {
        "id": "7Qt1TJMnWSou"
      }
    },
    {
      "cell_type": "markdown",
      "source": [
        "### C.1 - Find all customers who have spent more than the average amount spent by all customers"
      ],
      "metadata": {
        "id": "cb0wCG0o7fd0"
      }
    },
    {
      "cell_type": "markdown",
      "source": [
        "### C.2 - Find customers who have purchased all songs from at least one genre"
      ],
      "metadata": {
        "id": "A2ITCZDa8slE"
      }
    }
  ]
}